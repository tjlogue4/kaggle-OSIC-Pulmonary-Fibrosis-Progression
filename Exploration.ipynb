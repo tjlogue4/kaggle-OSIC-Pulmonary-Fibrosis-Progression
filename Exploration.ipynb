{
 "cells": [
  {
   "cell_type": "markdown",
   "metadata": {},
   "source": [
    "### I took some time to go through the data and figure out how we can work with it in python, if you see any errors or encounter any errors let me know, and we can figure them out togother. I tried adding comments that would make it easier to follow my work.\n",
    "\n",
    "### Most of this exploration notebook was dervied from a few different sources:\n",
    "#### 1. The youtuber \"sentdex\" created a video series playlist (check out episodes 2 & 3) that detailed a first pass for the 2017 data science bowl (also hosted on kaggle). This project had more do do with predicting lung cancer but I feel these tutorials are great for learning about how to work with the dicom files.\n",
    "#### 2. The full preprocessing tutorial for the Data Science Bowl 2017 includes great information on more advanced processing of the dicom files and will probably be necessary later on in the project, for now I tried to keep things simple in the code below.\n",
    "#### 3. Pulmonary Dicom Preprocessing notebook for our project on kaggle, while the two previous sources are great for working with dicom files, that project was based around binary classification (\"Cancer\" or \"No Cancer\") and ours seem to have a few more variables we will have to consider.\n",
    "\n",
    "### Sources\n",
    "#### 1. https://www.youtube.com/watch?v=ulq9DjCJPDU&list=PLQVvvaa0QuDd5meH8cStO9cMi98tPT12_\n",
    "#### 2. https://www.kaggle.com/gzuidhof/full-preprocessing-tutorial\n",
    "#### 3. https://www.kaggle.com/allunia/pulmonary-dicom-preprocessing\n",
    "\n",
    "### Dont forget, you'll need to install the following packages to work with these files\n",
    "#### For those using Pip:\n",
    "##### pip install jupyter, matplotlib, pydicom\n",
    "\n",
    "#### For those working in an anaconda environment, I think you'll only need pydicom\n",
    "\n",
    "##### conda install pydicom\n",
    "\n",
    "##### note: if you are working with virtual enviroments it will be: conda install pydicom environment_name\n",
    "\n",
    " "
   ]
  },
  {
   "cell_type": "code",
   "execution_count": 1,
   "metadata": {},
   "outputs": [],
   "source": [
    "import matplotlib # for visualizing the Dicom files\n",
    "import pydicom    # for getting info/ managing the dicom files\n",
    "import os         # for directrory operations and file management\n",
    "import matplotlib.pyplot as plt #also for visualizing"
   ]
  },
  {
   "cell_type": "code",
   "execution_count": 2,
   "metadata": {},
   "outputs": [],
   "source": [
    "data_dir = 'F:/OISC/osic-pulmonary-fibrosis-progression/train/' # where my dicom images are stored (had to use forward slash or I had issues - also don't forget forward slash at the end)\n",
    "patients = os.listdir(data_dir) # creates a list of all folders in the directory effectivly creating a list of patients\n"
   ]
  },
  {
   "cell_type": "code",
   "execution_count": 3,
   "metadata": {},
   "outputs": [
    {
     "name": "stdout",
     "output_type": "stream",
     "text": [
      "Total # of patients: 176\n"
     ]
    }
   ],
   "source": [
    "print(f'Total # of patients: {len(patients)}')"
   ]
  },
  {
   "cell_type": "markdown",
   "metadata": {},
   "source": [
    "### Creating a visual of our first patient (P1)"
   ]
  },
  {
   "cell_type": "code",
   "execution_count": 4,
   "metadata": {},
   "outputs": [
    {
     "data": {
      "text/plain": [
       "'ID00009637202177434476278'"
      ]
     },
     "execution_count": 4,
     "metadata": {},
     "output_type": "execute_result"
    }
   ],
   "source": [
    "P1 = patients[1] # select first patient\n",
    "P1 # see unique ID of patient"
   ]
  },
  {
   "cell_type": "code",
   "execution_count": 5,
   "metadata": {},
   "outputs": [
    {
     "data": {
      "text/plain": [
       "'F:/OISC/osic-pulmonary-fibrosis-progression/train/ID00009637202177434476278'"
      ]
     },
     "execution_count": 5,
     "metadata": {},
     "output_type": "execute_result"
    }
   ],
   "source": [
    "path = data_dir + P1 \n",
    "path #the path of where patient 1's dicom files are stored"
   ]
  },
  {
   "cell_type": "code",
   "execution_count": 6,
   "metadata": {},
   "outputs": [
    {
     "data": {
      "text/plain": [
       "Dataset.file_meta -------------------------------\n",
       "(0002, 0000) File Meta Information Group Length  UL: 206\n",
       "(0002, 0001) File Meta Information Version       OB: b'\\x00\\x01'\n",
       "(0002, 0002) Media Storage SOP Class UID         UI: CT Image Storage\n",
       "(0002, 0003) Media Storage SOP Instance UID      UI: 1.2.276.0.7230010.3.1.4.0.37492.1591423153.182588\n",
       "(0002, 0010) Transfer Syntax UID                 UI: Explicit VR Little Endian\n",
       "(0002, 0012) Implementation Class UID            UI: 1.2.276.0.7230010.3.0.3.6.1\n",
       "(0002, 0013) Implementation Version Name         SH: 'OSIRIX_361'\n",
       "(0002, 0016) Source Application Entity Title     AE: 'ANONYMOUS'\n",
       "-------------------------------------------------\n",
       "(0008, 0005) Specific Character Set              CS: ['ISO 2022 IR 100', 'ISO 2022 IR 100']\n",
       "(0008, 0008) Image Type                          CS: ['DERIVED', 'SECONDARY', 'AXIAL', 'CT_SOM5 SPI']\n",
       "(0008, 0018) SOP Instance UID                    UI: 1.2.276.0.7230010.3.1.4.0.37492.1591423153.182588\n",
       "(0008, 0060) Modality                            CS: 'CT'\n",
       "(0008, 0070) Manufacturer                        LO: 'SIEMENS'\n",
       "(0008, 1090) Manufacturer's Model Name           LO: 'OsiriX'\n",
       "(0010, 0010) Patient's Name                      PN: 'ID00009637202177434476278'\n",
       "(0010, 0020) Patient ID                          LO: 'ID00009637202177434476278'\n",
       "(0010, 0040) Patient's Sex                       CS: ''\n",
       "(0012, 0063) De-identification Method            LO: 'Table;'\n",
       "(0018, 0015) Body Part Examined                  CS: 'Chest'\n",
       "(0018, 0050) Slice Thickness                     DS: \"1.25\"\n",
       "(0018, 0060) KVP                                 DS: \"130.0\"\n",
       "(0018, 1110) Distance Source to Detector         DS: \"940.0\"\n",
       "(0018, 1111) Distance Source to Patient          DS: \"535.0\"\n",
       "(0018, 1120) Gantry/Detector Tilt                DS: \"0.0\"\n",
       "(0018, 1130) Table Height                        DS: \"147.0\"\n",
       "(0018, 1140) Rotation Direction                  CS: 'CW'\n",
       "(0018, 1151) X-Ray Tube Current                  IS: \"205\"\n",
       "(0018, 1170) Generator Power                     IS: \"25\"\n",
       "(0018, 1190) Focal Spot(s)                       DS: \"0.95\"\n",
       "(0018, 1210) Convolution Kernel                  SH: 'B50s'\n",
       "(0018, 5100) Patient Position                    CS: 'FFS'\n",
       "(0020, 000d) Study Instance UID                  UI: 2.25.156962683457839326089809785890930019885\n",
       "(0020, 000e) Series Instance UID                 UI: 1.3.6.1.4.1.19291.2.1.2.11622117719213522261311595026142\n",
       "(0020, 0010) Study ID                            SH: ''\n",
       "(0020, 0013) Instance Number                     IS: \"394\"\n",
       "(0020, 0032) Image Position (Patient)            DS: [-171.634766, -333.634766, -351.399994]\n",
       "(0020, 0037) Image Orientation (Patient)         DS: [1.000000, 0.000000, 0.000000, 0.000000, 1.000000, 0.000000]\n",
       "(0020, 0052) Frame of Reference UID              UI: 2.25.43709796593718338529847979481714156908\n",
       "(0020, 1040) Position Reference Indicator        LO: ''\n",
       "(0020, 1041) Slice Location                      DS: \"-351.399994\"\n",
       "(0028, 0002) Samples per Pixel                   US: 1\n",
       "(0028, 0004) Photometric Interpretation          CS: 'MONOCHROME2'\n",
       "(0028, 0010) Rows                                US: 768\n",
       "(0028, 0011) Columns                             US: 768\n",
       "(0028, 0030) Pixel Spacing                       DS: [0.486979, 0.486979]\n",
       "(0028, 0100) Bits Allocated                      US: 16\n",
       "(0028, 0101) Bits Stored                         US: 16\n",
       "(0028, 0102) High Bit                            US: 15\n",
       "(0028, 0103) Pixel Representation                US: 0\n",
       "(0028, 1050) Window Center                       DS: \"-500.0\"\n",
       "(0028, 1051) Window Width                        DS: \"1500.0\"\n",
       "(0028, 1052) Rescale Intercept                   DS: \"-1024.0\"\n",
       "(0028, 1053) Rescale Slope                       DS: \"1.0\"\n",
       "(0028, 1054) Rescale Type                        LO: 'HU'\n",
       "(7fe0, 0010) Pixel Data                          OW: Array of 1179648 elements"
      ]
     },
     "execution_count": 6,
     "metadata": {},
     "output_type": "execute_result"
    }
   ],
   "source": [
    "slices = [pydicom.read_file(path + '/' + s) for s in os.listdir(path)] \n",
    "slices.sort(key = lambda x: float(x.ImagePositionPatient[2]))\n",
    "'''What the above does: \n",
    "            1. gets a list of all of the dicom files in patient 1's foler\n",
    "            2. reads each file with the pydicom package (as you'll see below each file has important attributes)\n",
    "            3. appends the attributes for each to a list called slices'''\n",
    "\n",
    "'''Lets take a look at the information associated with the first item in the slices list which is also\n",
    "    the information for the file \"D:\\osic-pulmonary-fibrosis-progression\\train\\ID00007637202177411956430\\1.dcm\"\n",
    "    (our first dicom file for patient 1)'''\n",
    "\n",
    "#slices[14].pixel_array[400]\n",
    "slices[0]"
   ]
  },
  {
   "cell_type": "markdown",
   "metadata": {},
   "source": [
    "#### As we can see above there is a significant amount of data associated with each file and not all of it is really important (who cares about the Manufacturer, etc)\n",
    "\n",
    "#### Some things that are going to be important are the len(slices) and the attributes \"Rows\", \"Columns\" (which can also be expressed as slices[0].pixel_array.shape)\n"
   ]
  },
  {
   "cell_type": "code",
   "execution_count": 14,
   "metadata": {},
   "outputs": [
    {
     "name": "stdout",
     "output_type": "stream",
     "text": [
      "394 (768, 768)\n"
     ]
    },
    {
     "data": {
      "text/plain": [
       "(768, 768)"
      ]
     },
     "execution_count": 14,
     "metadata": {},
     "output_type": "execute_result"
    }
   ],
   "source": [
    "#Lets take a look at the attributes meantioned above for our patient 1\n",
    "print(len(slices), slices[0].pixel_array.shape)\n",
    "\n",
    "#what the below output shows is that we have a 512 px by 512 px with 30 slices\n",
    "\n"
   ]
  },
  {
   "cell_type": "code",
   "execution_count": 15,
   "metadata": {},
   "outputs": [
    {
     "name": "stdout",
     "output_type": "stream",
     "text": [
      "30 (512, 512) ID00007637202177411956430\n",
      "394 (768, 768) ID00009637202177434476278\n",
      "106 (512, 512) ID00010637202177584971671\n",
      "49 (512, 512) ID00012637202177665765362\n",
      "31 (843, 888) ID00014637202177757139317\n",
      "295 (768, 768) ID00015637202177877247924\n",
      "29 (512, 512) ID00019637202178323708467\n",
      "493 (512, 512) ID00020637202178344345685\n",
      "27 (512, 512) ID00023637202179104603099\n",
      "24 (768, 768) ID00025637202179541264076\n",
      "358 (768, 768) ID00027637202179689871102\n",
      "433 (512, 512) ID00030637202181211009029\n",
      "205 (512, 512) ID00032637202181710233084\n",
      "574 (512, 512) ID00035637202182204917484\n",
      "346 (768, 768) ID00038637202182690843176\n",
      "Wall time: 17.2 s\n"
     ]
    }
   ],
   "source": [
    "%%time \n",
    "#I am curious to see how long it will take to process the code below... ignore this\n",
    "\n",
    "\n",
    "#Lets take a look and see if our first 10 patients all have the same dimensions, I made a for loop\n",
    "# with some of the code seen earlier to get the dimensions.\n",
    "\n",
    "for patient in patients[:15]:\n",
    "\n",
    "    path = data_dir + patient #seen earlier\n",
    "    slices = [pydicom.read_file(path + '/' + s) for s in os.listdir(path)] #seen earlier\n",
    "    slices.sort(key = lambda x: float(x.ImagePositionPatient[2])) # **see below\n",
    "    print(len(slices), slices[0].pixel_array.shape, patient) #seen earlier\n",
    "\n",
    "    \n",
    "# **That lamba funtion sorts the dicom images in the proper order, apperently they are not in order.\n",
    "# Also I am not really an expert on lambda functions and they are confusing to me... but it works\n",
    "# I got that from sentdex but the original code didn't work and I had to add float (found by researching)."
   ]
  },
  {
   "cell_type": "markdown",
   "metadata": {},
   "source": [
    "#### While it is not a problem now, our data will later have to be resized so that all patients have similar sized dicom datasets, perhaps something like  30 (50,50)   (30 slices that are 50 px by 50 px) but lets figure that out later and move on to the fun part: visualizing."
   ]
  },
  {
   "cell_type": "code",
   "execution_count": 10,
   "metadata": {},
   "outputs": [
    {
     "data": {
      "image/png": "[encoded data removed]",
      "text/plain": [
       "<Figure size 432x288 with 1 Axes>"
      ]
     },
     "metadata": {
      "needs_background": "light"
     },
     "output_type": "display_data"
    }
   ],
   "source": [
    "# we will essentially use the same code as above but with a few more lines, again lets look only at patient 1.\n",
    "for patient in patients[:1]:\n",
    "    path = data_dir + patient\n",
    "    slices = [pydicom.read_file(path + '/' + s) for s in os.listdir(path)]\n",
    "    slices.sort(key = lambda x: float(x.ImagePositionPatient[2]))\n",
    "    plt.imshow(slices[0].pixel_array, cmap = \"bone\")\n",
    "    plt.show()\n",
    "# intersting... I am definatly not a doctor because idk what I am looking at\n",
    "# Lets plot the other images"
   ]
  },
  {
   "cell_type": "code",
   "execution_count": 15,
   "metadata": {
    "scrolled": true
   },
   "outputs": [
    {
     "data": {
      "image/png": "[encoded data removed]",
      "text/plain": [
       "<Figure size 432x288 with 1 Axes>"
      ]
     },
     "metadata": {
      "needs_background": "light"
     },
     "output_type": "display_data"
    }
   ],
   "source": [
    "#lets look at the last slice for patient 1\n",
    "for patient in patients[:1]:\n",
    "    path = data_dir + patient\n",
    "    slices = [pydicom.read_file(path + '/' + s) for s in os.listdir(path)]\n",
    "    slices.sort(key = lambda x: float(x.ImagePositionPatient[2])) # * see below\n",
    "    plt.imshow(slices[-1].pixel_array, cmap = \"bone\")\n",
    "    plt.show()\n",
    "    "
   ]
  },
  {
   "cell_type": "code",
   "execution_count": 12,
   "metadata": {},
   "outputs": [
    {
     "data": {
      "image/png": "[encoded data removed]",
      "text/plain": [
       "<Figure size 432x288 with 12 Axes>"
      ]
     },
     "metadata": {
      "needs_background": "light"
     },
     "output_type": "display_data"
    }
   ],
   "source": [
    "#the below will plot several of the slices at once\n",
    "# the color doesn't really matter, I just forgot to add cmap = \"gray\" in plt.imshow()\n",
    "\n",
    "fig = plt.figure()\n",
    "for num, each_slice in enumerate(slices[:12]): # I would plot all but apparently matplotlib can only do 12\n",
    "    y = fig.add_subplot(3,4, num+1)\n",
    "    y.imshow(each_slice.pixel_array, cmap = 'bone')\n",
    "plt.show()\n",
    "#well they definatly look different...\n",
    "# the ones on the bottom seem to looks kind of like lungs"
   ]
  },
  {
   "cell_type": "code",
   "execution_count": 12,
   "metadata": {},
   "outputs": [
    {
     "data": {
      "image/png": "[encoded data removed]",
      "text/plain": [
       "<Figure size 432x288 with 12 Axes>"
      ]
     },
     "metadata": {
      "needs_background": "light"
     },
     "output_type": "display_data"
    }
   ],
   "source": [
    "# plotting the next 12 images\n",
    "fig = plt.figure()\n",
    "for num, each_slice in enumerate(slices[12:24]): # I would plot all but apparently matplotlib can only do 12\n",
    "    y = fig.add_subplot(3,4, num+1)\n",
    "    y.imshow(each_slice.pixel_array)\n",
    "plt.show() \n",
    "# Looks more like lungs to me"
   ]
  },
  {
   "cell_type": "markdown",
   "metadata": {},
   "source": [
    "### We have a good idea of how to do some basic operations on our dicom files, there is much more that can be done to the files but for now lets take a look at the patient data.\n",
    "\n",
    "#### To do this we will neee a few more packages: pandas and numpy. These are more than likely already installed if you are using an anaconda enviroment, but if you are not see the instructions at the beginning where we installed other packages.\n",
    "\n",
    "#### Pandas is a very powerful and popular package for data analysis and manipulation, it also has create documentation.\n",
    "#### Numpy is a very popular package for high level mathmatics - although we will only be useing it to calculate the slope for now."
   ]
  },
  {
   "cell_type": "code",
   "execution_count": 13,
   "metadata": {},
   "outputs": [],
   "source": [
    "import os\n",
    "import pandas as pd\n",
    "import numpy as np"
   ]
  },
  {
   "cell_type": "markdown",
   "metadata": {},
   "source": [
    "#### We will first begin by reading our csv file with pandas"
   ]
  },
  {
   "cell_type": "code",
   "execution_count": 14,
   "metadata": {},
   "outputs": [],
   "source": [
    "df = pd.read_csv('F:/OISC/osic-pulmonary-fibrosis-progression/train.csv')"
   ]
  },
  {
   "cell_type": "markdown",
   "metadata": {},
   "source": [
    "#### Display some basic information"
   ]
  },
  {
   "cell_type": "code",
   "execution_count": 15,
   "metadata": {},
   "outputs": [
    {
     "name": "stdout",
     "output_type": "stream",
     "text": [
      "<class 'pandas.core.frame.DataFrame'>\n",
      "RangeIndex: 1549 entries, 0 to 1548\n",
      "Data columns (total 7 columns):\n",
      " #   Column         Non-Null Count  Dtype  \n",
      "---  ------         --------------  -----  \n",
      " 0   Patient        1549 non-null   object \n",
      " 1   Weeks          1549 non-null   int64  \n",
      " 2   FVC            1549 non-null   int64  \n",
      " 3   Percent        1549 non-null   float64\n",
      " 4   Age            1549 non-null   int64  \n",
      " 5   Sex            1549 non-null   object \n",
      " 6   SmokingStatus  1549 non-null   object \n",
      "dtypes: float64(1), int64(3), object(3)\n",
      "memory usage: 84.8+ KB\n"
     ]
    }
   ],
   "source": [
    "df.info()"
   ]
  },
  {
   "cell_type": "code",
   "execution_count": 16,
   "metadata": {},
   "outputs": [
    {
     "data": {
      "text/html": [
       "<div>\n",
       "<style scoped>\n",
       "    .dataframe tbody tr th:only-of-type {\n",
       "        vertical-align: middle;\n",
       "    }\n",
       "\n",
       "    .dataframe tbody tr th {\n",
       "        vertical-align: top;\n",
       "    }\n",
       "\n",
       "    .dataframe thead th {\n",
       "        text-align: right;\n",
       "    }\n",
       "</style>\n",
       "<table border=\"1\" class=\"dataframe\">\n",
       "  <thead>\n",
       "    <tr style=\"text-align: right;\">\n",
       "      <th></th>\n",
       "      <th>Patient</th>\n",
       "      <th>Weeks</th>\n",
       "      <th>FVC</th>\n",
       "      <th>Percent</th>\n",
       "      <th>Age</th>\n",
       "      <th>Sex</th>\n",
       "      <th>SmokingStatus</th>\n",
       "    </tr>\n",
       "  </thead>\n",
       "  <tbody>\n",
       "    <tr>\n",
       "      <th>0</th>\n",
       "      <td>ID00007637202177411956430</td>\n",
       "      <td>-4</td>\n",
       "      <td>2315</td>\n",
       "      <td>58.253649</td>\n",
       "      <td>79</td>\n",
       "      <td>Male</td>\n",
       "      <td>Ex-smoker</td>\n",
       "    </tr>\n",
       "    <tr>\n",
       "      <th>1</th>\n",
       "      <td>ID00007637202177411956430</td>\n",
       "      <td>5</td>\n",
       "      <td>2214</td>\n",
       "      <td>55.712129</td>\n",
       "      <td>79</td>\n",
       "      <td>Male</td>\n",
       "      <td>Ex-smoker</td>\n",
       "    </tr>\n",
       "    <tr>\n",
       "      <th>2</th>\n",
       "      <td>ID00007637202177411956430</td>\n",
       "      <td>7</td>\n",
       "      <td>2061</td>\n",
       "      <td>51.862104</td>\n",
       "      <td>79</td>\n",
       "      <td>Male</td>\n",
       "      <td>Ex-smoker</td>\n",
       "    </tr>\n",
       "    <tr>\n",
       "      <th>3</th>\n",
       "      <td>ID00007637202177411956430</td>\n",
       "      <td>9</td>\n",
       "      <td>2144</td>\n",
       "      <td>53.950679</td>\n",
       "      <td>79</td>\n",
       "      <td>Male</td>\n",
       "      <td>Ex-smoker</td>\n",
       "    </tr>\n",
       "    <tr>\n",
       "      <th>4</th>\n",
       "      <td>ID00007637202177411956430</td>\n",
       "      <td>11</td>\n",
       "      <td>2069</td>\n",
       "      <td>52.063412</td>\n",
       "      <td>79</td>\n",
       "      <td>Male</td>\n",
       "      <td>Ex-smoker</td>\n",
       "    </tr>\n",
       "  </tbody>\n",
       "</table>\n",
       "</div>"
      ],
      "text/plain": [
       "                     Patient  Weeks   FVC    Percent  Age   Sex SmokingStatus\n",
       "0  ID00007637202177411956430     -4  2315  58.253649   79  Male     Ex-smoker\n",
       "1  ID00007637202177411956430      5  2214  55.712129   79  Male     Ex-smoker\n",
       "2  ID00007637202177411956430      7  2061  51.862104   79  Male     Ex-smoker\n",
       "3  ID00007637202177411956430      9  2144  53.950679   79  Male     Ex-smoker\n",
       "4  ID00007637202177411956430     11  2069  52.063412   79  Male     Ex-smoker"
      ]
     },
     "execution_count": 16,
     "metadata": {},
     "output_type": "execute_result"
    }
   ],
   "source": [
    "df.head()"
   ]
  },
  {
   "cell_type": "code",
   "execution_count": 17,
   "metadata": {},
   "outputs": [
    {
     "data": {
      "text/plain": [
       "176"
      ]
     },
     "execution_count": 17,
     "metadata": {},
     "output_type": "execute_result"
    }
   ],
   "source": [
    "#figure out total number of patients in dataframe\n",
    "len(df['Patient'].unique())"
   ]
  },
  {
   "cell_type": "code",
   "execution_count": 18,
   "metadata": {},
   "outputs": [
    {
     "data": {
      "text/html": [
       "<div>\n",
       "<style scoped>\n",
       "    .dataframe tbody tr th:only-of-type {\n",
       "        vertical-align: middle;\n",
       "    }\n",
       "\n",
       "    .dataframe tbody tr th {\n",
       "        vertical-align: top;\n",
       "    }\n",
       "\n",
       "    .dataframe thead th {\n",
       "        text-align: right;\n",
       "    }\n",
       "</style>\n",
       "<table border=\"1\" class=\"dataframe\">\n",
       "  <thead>\n",
       "    <tr style=\"text-align: right;\">\n",
       "      <th></th>\n",
       "      <th>Patient</th>\n",
       "      <th>Age</th>\n",
       "      <th>Sex</th>\n",
       "      <th>SmokingStatus</th>\n",
       "    </tr>\n",
       "  </thead>\n",
       "  <tbody>\n",
       "    <tr>\n",
       "      <th>0</th>\n",
       "      <td>ID00007637202177411956430</td>\n",
       "      <td>79</td>\n",
       "      <td>Male</td>\n",
       "      <td>Ex-smoker</td>\n",
       "    </tr>\n",
       "    <tr>\n",
       "      <th>1</th>\n",
       "      <td>ID00007637202177411956430</td>\n",
       "      <td>79</td>\n",
       "      <td>Male</td>\n",
       "      <td>Ex-smoker</td>\n",
       "    </tr>\n",
       "    <tr>\n",
       "      <th>2</th>\n",
       "      <td>ID00007637202177411956430</td>\n",
       "      <td>79</td>\n",
       "      <td>Male</td>\n",
       "      <td>Ex-smoker</td>\n",
       "    </tr>\n",
       "    <tr>\n",
       "      <th>3</th>\n",
       "      <td>ID00007637202177411956430</td>\n",
       "      <td>79</td>\n",
       "      <td>Male</td>\n",
       "      <td>Ex-smoker</td>\n",
       "    </tr>\n",
       "    <tr>\n",
       "      <th>4</th>\n",
       "      <td>ID00007637202177411956430</td>\n",
       "      <td>79</td>\n",
       "      <td>Male</td>\n",
       "      <td>Ex-smoker</td>\n",
       "    </tr>\n",
       "  </tbody>\n",
       "</table>\n",
       "</div>"
      ],
      "text/plain": [
       "                     Patient  Age   Sex SmokingStatus\n",
       "0  ID00007637202177411956430   79  Male     Ex-smoker\n",
       "1  ID00007637202177411956430   79  Male     Ex-smoker\n",
       "2  ID00007637202177411956430   79  Male     Ex-smoker\n",
       "3  ID00007637202177411956430   79  Male     Ex-smoker\n",
       "4  ID00007637202177411956430   79  Male     Ex-smoker"
      ]
     },
     "execution_count": 18,
     "metadata": {},
     "output_type": "execute_result"
    }
   ],
   "source": [
    "#craete a dataframe with only patient information\n",
    "# the below line of code selects certain columns from df and creates a new df with them\n",
    "df_patient = df[['Patient', 'Age', 'Sex', 'SmokingStatus']]\n",
    "df_patient.head()"
   ]
  },
  {
   "cell_type": "code",
   "execution_count": 19,
   "metadata": {},
   "outputs": [
    {
     "data": {
      "text/html": [
       "<div>\n",
       "<style scoped>\n",
       "    .dataframe tbody tr th:only-of-type {\n",
       "        vertical-align: middle;\n",
       "    }\n",
       "\n",
       "    .dataframe tbody tr th {\n",
       "        vertical-align: top;\n",
       "    }\n",
       "\n",
       "    .dataframe thead th {\n",
       "        text-align: right;\n",
       "    }\n",
       "</style>\n",
       "<table border=\"1\" class=\"dataframe\">\n",
       "  <thead>\n",
       "    <tr style=\"text-align: right;\">\n",
       "      <th></th>\n",
       "      <th>Patient</th>\n",
       "      <th>Age</th>\n",
       "      <th>Sex</th>\n",
       "      <th>SmokingStatus</th>\n",
       "    </tr>\n",
       "  </thead>\n",
       "  <tbody>\n",
       "    <tr>\n",
       "      <th>0</th>\n",
       "      <td>ID00007637202177411956430</td>\n",
       "      <td>79</td>\n",
       "      <td>Male</td>\n",
       "      <td>Ex-smoker</td>\n",
       "    </tr>\n",
       "    <tr>\n",
       "      <th>9</th>\n",
       "      <td>ID00009637202177434476278</td>\n",
       "      <td>69</td>\n",
       "      <td>Male</td>\n",
       "      <td>Ex-smoker</td>\n",
       "    </tr>\n",
       "    <tr>\n",
       "      <th>18</th>\n",
       "      <td>ID00010637202177584971671</td>\n",
       "      <td>60</td>\n",
       "      <td>Male</td>\n",
       "      <td>Ex-smoker</td>\n",
       "    </tr>\n",
       "    <tr>\n",
       "      <th>27</th>\n",
       "      <td>ID00011637202177653955184</td>\n",
       "      <td>72</td>\n",
       "      <td>Male</td>\n",
       "      <td>Ex-smoker</td>\n",
       "    </tr>\n",
       "    <tr>\n",
       "      <th>36</th>\n",
       "      <td>ID00012637202177665765362</td>\n",
       "      <td>65</td>\n",
       "      <td>Male</td>\n",
       "      <td>Never smoked</td>\n",
       "    </tr>\n",
       "    <tr>\n",
       "      <th>...</th>\n",
       "      <td>...</td>\n",
       "      <td>...</td>\n",
       "      <td>...</td>\n",
       "      <td>...</td>\n",
       "    </tr>\n",
       "    <tr>\n",
       "      <th>1504</th>\n",
       "      <td>ID00419637202311204720264</td>\n",
       "      <td>73</td>\n",
       "      <td>Male</td>\n",
       "      <td>Ex-smoker</td>\n",
       "    </tr>\n",
       "    <tr>\n",
       "      <th>1513</th>\n",
       "      <td>ID00421637202311550012437</td>\n",
       "      <td>68</td>\n",
       "      <td>Male</td>\n",
       "      <td>Ex-smoker</td>\n",
       "    </tr>\n",
       "    <tr>\n",
       "      <th>1523</th>\n",
       "      <td>ID00422637202311677017371</td>\n",
       "      <td>73</td>\n",
       "      <td>Male</td>\n",
       "      <td>Ex-smoker</td>\n",
       "    </tr>\n",
       "    <tr>\n",
       "      <th>1531</th>\n",
       "      <td>ID00423637202312137826377</td>\n",
       "      <td>72</td>\n",
       "      <td>Male</td>\n",
       "      <td>Ex-smoker</td>\n",
       "    </tr>\n",
       "    <tr>\n",
       "      <th>1540</th>\n",
       "      <td>ID00426637202313170790466</td>\n",
       "      <td>73</td>\n",
       "      <td>Male</td>\n",
       "      <td>Never smoked</td>\n",
       "    </tr>\n",
       "  </tbody>\n",
       "</table>\n",
       "<p>176 rows × 4 columns</p>\n",
       "</div>"
      ],
      "text/plain": [
       "                        Patient  Age   Sex SmokingStatus\n",
       "0     ID00007637202177411956430   79  Male     Ex-smoker\n",
       "9     ID00009637202177434476278   69  Male     Ex-smoker\n",
       "18    ID00010637202177584971671   60  Male     Ex-smoker\n",
       "27    ID00011637202177653955184   72  Male     Ex-smoker\n",
       "36    ID00012637202177665765362   65  Male  Never smoked\n",
       "...                         ...  ...   ...           ...\n",
       "1504  ID00419637202311204720264   73  Male     Ex-smoker\n",
       "1513  ID00421637202311550012437   68  Male     Ex-smoker\n",
       "1523  ID00422637202311677017371   73  Male     Ex-smoker\n",
       "1531  ID00423637202312137826377   72  Male     Ex-smoker\n",
       "1540  ID00426637202313170790466   73  Male  Never smoked\n",
       "\n",
       "[176 rows x 4 columns]"
      ]
     },
     "execution_count": 19,
     "metadata": {},
     "output_type": "execute_result"
    }
   ],
   "source": [
    "#each patient had multiple entries and we are left with a dataframe that has duplicates\n",
    "#we need to drop these duplicate rows before we can get valuable information about our patients\n",
    "df_patient = df_patient.drop_duplicates()\n",
    "df_patient"
   ]
  },
  {
   "cell_type": "code",
   "execution_count": 20,
   "metadata": {},
   "outputs": [
    {
     "name": "stdout",
     "output_type": "stream",
     "text": [
      "<class 'pandas.core.frame.DataFrame'>\n",
      "Int64Index: 176 entries, 0 to 1540\n",
      "Data columns (total 4 columns):\n",
      " #   Column         Non-Null Count  Dtype \n",
      "---  ------         --------------  ----- \n",
      " 0   Patient        176 non-null    object\n",
      " 1   Age            176 non-null    int64 \n",
      " 2   Sex            176 non-null    object\n",
      " 3   SmokingStatus  176 non-null    object\n",
      "dtypes: int64(1), object(3)\n",
      "memory usage: 6.9+ KB\n"
     ]
    }
   ],
   "source": [
    "df_patient.info() # this matches our unique patient amount that we found earlier"
   ]
  },
  {
   "cell_type": "code",
   "execution_count": 21,
   "metadata": {},
   "outputs": [
    {
     "data": {
      "text/html": [
       "<div>\n",
       "<style scoped>\n",
       "    .dataframe tbody tr th:only-of-type {\n",
       "        vertical-align: middle;\n",
       "    }\n",
       "\n",
       "    .dataframe tbody tr th {\n",
       "        vertical-align: top;\n",
       "    }\n",
       "\n",
       "    .dataframe thead th {\n",
       "        text-align: right;\n",
       "    }\n",
       "</style>\n",
       "<table border=\"1\" class=\"dataframe\">\n",
       "  <thead>\n",
       "    <tr style=\"text-align: right;\">\n",
       "      <th></th>\n",
       "      <th>Age</th>\n",
       "    </tr>\n",
       "  </thead>\n",
       "  <tbody>\n",
       "    <tr>\n",
       "      <th>49</th>\n",
       "      <td>1</td>\n",
       "    </tr>\n",
       "    <tr>\n",
       "      <th>51</th>\n",
       "      <td>1</td>\n",
       "    </tr>\n",
       "    <tr>\n",
       "      <th>52</th>\n",
       "      <td>2</td>\n",
       "    </tr>\n",
       "    <tr>\n",
       "      <th>53</th>\n",
       "      <td>1</td>\n",
       "    </tr>\n",
       "    <tr>\n",
       "      <th>54</th>\n",
       "      <td>2</td>\n",
       "    </tr>\n",
       "    <tr>\n",
       "      <th>55</th>\n",
       "      <td>3</td>\n",
       "    </tr>\n",
       "    <tr>\n",
       "      <th>56</th>\n",
       "      <td>5</td>\n",
       "    </tr>\n",
       "    <tr>\n",
       "      <th>57</th>\n",
       "      <td>3</td>\n",
       "    </tr>\n",
       "    <tr>\n",
       "      <th>58</th>\n",
       "      <td>7</td>\n",
       "    </tr>\n",
       "    <tr>\n",
       "      <th>59</th>\n",
       "      <td>1</td>\n",
       "    </tr>\n",
       "    <tr>\n",
       "      <th>60</th>\n",
       "      <td>5</td>\n",
       "    </tr>\n",
       "    <tr>\n",
       "      <th>61</th>\n",
       "      <td>3</td>\n",
       "    </tr>\n",
       "    <tr>\n",
       "      <th>62</th>\n",
       "      <td>6</td>\n",
       "    </tr>\n",
       "    <tr>\n",
       "      <th>63</th>\n",
       "      <td>6</td>\n",
       "    </tr>\n",
       "    <tr>\n",
       "      <th>64</th>\n",
       "      <td>10</td>\n",
       "    </tr>\n",
       "    <tr>\n",
       "      <th>65</th>\n",
       "      <td>15</td>\n",
       "    </tr>\n",
       "    <tr>\n",
       "      <th>66</th>\n",
       "      <td>9</td>\n",
       "    </tr>\n",
       "    <tr>\n",
       "      <th>67</th>\n",
       "      <td>5</td>\n",
       "    </tr>\n",
       "    <tr>\n",
       "      <th>68</th>\n",
       "      <td>10</td>\n",
       "    </tr>\n",
       "    <tr>\n",
       "      <th>69</th>\n",
       "      <td>14</td>\n",
       "    </tr>\n",
       "    <tr>\n",
       "      <th>70</th>\n",
       "      <td>7</td>\n",
       "    </tr>\n",
       "    <tr>\n",
       "      <th>71</th>\n",
       "      <td>11</td>\n",
       "    </tr>\n",
       "    <tr>\n",
       "      <th>72</th>\n",
       "      <td>9</td>\n",
       "    </tr>\n",
       "    <tr>\n",
       "      <th>73</th>\n",
       "      <td>11</td>\n",
       "    </tr>\n",
       "    <tr>\n",
       "      <th>74</th>\n",
       "      <td>8</td>\n",
       "    </tr>\n",
       "    <tr>\n",
       "      <th>75</th>\n",
       "      <td>2</td>\n",
       "    </tr>\n",
       "    <tr>\n",
       "      <th>76</th>\n",
       "      <td>4</td>\n",
       "    </tr>\n",
       "    <tr>\n",
       "      <th>77</th>\n",
       "      <td>4</td>\n",
       "    </tr>\n",
       "    <tr>\n",
       "      <th>78</th>\n",
       "      <td>3</td>\n",
       "    </tr>\n",
       "    <tr>\n",
       "      <th>79</th>\n",
       "      <td>3</td>\n",
       "    </tr>\n",
       "    <tr>\n",
       "      <th>81</th>\n",
       "      <td>1</td>\n",
       "    </tr>\n",
       "    <tr>\n",
       "      <th>83</th>\n",
       "      <td>2</td>\n",
       "    </tr>\n",
       "    <tr>\n",
       "      <th>87</th>\n",
       "      <td>1</td>\n",
       "    </tr>\n",
       "    <tr>\n",
       "      <th>88</th>\n",
       "      <td>1</td>\n",
       "    </tr>\n",
       "  </tbody>\n",
       "</table>\n",
       "</div>"
      ],
      "text/plain": [
       "    Age\n",
       "49    1\n",
       "51    1\n",
       "52    2\n",
       "53    1\n",
       "54    2\n",
       "55    3\n",
       "56    5\n",
       "57    3\n",
       "58    7\n",
       "59    1\n",
       "60    5\n",
       "61    3\n",
       "62    6\n",
       "63    6\n",
       "64   10\n",
       "65   15\n",
       "66    9\n",
       "67    5\n",
       "68   10\n",
       "69   14\n",
       "70    7\n",
       "71   11\n",
       "72    9\n",
       "73   11\n",
       "74    8\n",
       "75    2\n",
       "76    4\n",
       "77    4\n",
       "78    3\n",
       "79    3\n",
       "81    1\n",
       "83    2\n",
       "87    1\n",
       "88    1"
      ]
     },
     "execution_count": 21,
     "metadata": {},
     "output_type": "execute_result"
    }
   ],
   "source": [
    "#lets see some demogrphics of our patients\n",
    "df_age = pd.DataFrame(df_patient['Age'].value_counts(sort = False))\n",
    "df_age\n",
    "#above we counted the occurance of each age and created a dataframe"
   ]
  },
  {
   "cell_type": "code",
   "execution_count": 22,
   "metadata": {},
   "outputs": [
    {
     "data": {
      "image/png": "[encoded data removed]",
      "text/plain": [
       "<Figure size 432x288 with 1 Axes>"
      ]
     },
     "metadata": {
      "needs_background": "light"
     },
     "output_type": "display_data"
    }
   ],
   "source": [
    "#lets plot the above\n",
    "import matplotlib.pyplot as plt\n",
    "\n",
    "x = df_age.index #we could have renamed this to something more accurate like \"Age\"\n",
    "y = df_age['Age'] #pandas does wierd things when creating a dataframe, we could have renamed it, this should actually be the counts\n",
    "\n",
    "# name our axis\n",
    "plt.xlabel(\"Age\") \n",
    "plt.ylabel(\"Count\")\n",
    "\n",
    "#plot it\n",
    "plt.bar(x, y)\n",
    "plt.show()"
   ]
  },
  {
   "cell_type": "code",
   "execution_count": 23,
   "metadata": {},
   "outputs": [
    {
     "data": {
      "text/plain": [
       "<BarContainer object of 3 artists>"
      ]
     },
     "execution_count": 23,
     "metadata": {},
     "output_type": "execute_result"
    },
    {
     "data": {
      "image/png": "[encoded data removed]",
      "text/plain": [
       "<Figure size 1152x216 with 3 Axes>"
      ]
     },
     "metadata": {
      "needs_background": "light"
     },
     "output_type": "display_data"
    }
   ],
   "source": [
    "#it may be useful to omit our outliers like those older than 80 and those younger than 50\n",
    "#if we had a larger dataset we could even bin our data set and train a model for each age group\n",
    "#but this data set is extrmely small\n",
    "\n",
    "#lets also plot sex and smoking status ina similar fasion and show everthing side by side\n",
    "\n",
    "fig, (ax1, ax2, ax3) = plt.subplots(1, 3, figsize=(16,3))\n",
    "df_sex = pd.DataFrame(df_patient['Sex'].value_counts())\n",
    "df_smoke = pd.DataFrame(df_patient['SmokingStatus'].value_counts())\n",
    "\n",
    "\n",
    "x = df_age.index \n",
    "y = df_age['Age'] \n",
    "ax1.set_title(\"Age Distribution\")\n",
    "ax1.set_xlabel(\"Age\")\n",
    "ax1.set_ylabel(\"Count\")\n",
    "ax1.bar(x, y)\n",
    "\n",
    "\n",
    "\n",
    "\n",
    "x = df_sex.index \n",
    "y = df_sex['Sex']\n",
    "ax2.set_title(\"Sex Distribution\")\n",
    "ax2.set_xlabel(\"Sex\")\n",
    "ax2.bar(x, y)\n",
    "\n",
    "\n",
    "\n",
    "x = df_smoke.index \n",
    "y = df_smoke['SmokingStatus']\n",
    "ax3.set_title(\"Smoking Distribution\") \n",
    "ax3.set_xlabel(\"Smoking Status\")\n",
    "ax3.bar(x, y)\n",
    "\n",
    "\n"
   ]
  },
  {
   "cell_type": "markdown",
   "metadata": {},
   "source": [
    "#### A rant about the medical field and AI: The above graphs indicate some interesting information. First we can see that there are more than double the amount of males in this data set. In this case, its not an issue, a quick google search reveals that pulmonary fibrosis is more prevalant in men (see source1). But lets say the condition was equally prevelant in males and females then this could potentially effect our model where it more accuratly predicts the FVC value in males than in females. Does this mean males would recieve better care if we use our model? This type of issue has somewhat become an ethical topic in the world of artificial inteligence in general (see source2). Bias is an important factor when creating prediction models.\n",
    "\n",
    "##### source1: https://www.mayoclinic.org/diseases-conditions/pulmonary-fibrosis/symptoms-causes/syc-20353690#:~:text=Pulmonary%20fibrosis%20is%20a%20lung,progressively%20more%20short%20of%20breath.\n",
    "\n",
    "##### source2: https://thenextweb.com/contributors/2018/10/27/4-human-caused-biases-machine-learning/#:~:text=Sample%20bias,data%20it%20could%20interact%20with."
   ]
  },
  {
   "cell_type": "markdown",
   "metadata": {},
   "source": [
    "#### Now that we have a decent idea of the demographics of our dataset, lets revisit our initial data frame and get an idea some information reguarding each patient, the amount of visits and where they fall in terms of their FVC comapared to others their age (percent)"
   ]
  },
  {
   "cell_type": "code",
   "execution_count": 24,
   "metadata": {},
   "outputs": [
    {
     "data": {
      "text/html": [
       "<div>\n",
       "<style scoped>\n",
       "    .dataframe tbody tr th:only-of-type {\n",
       "        vertical-align: middle;\n",
       "    }\n",
       "\n",
       "    .dataframe tbody tr th {\n",
       "        vertical-align: top;\n",
       "    }\n",
       "\n",
       "    .dataframe thead th {\n",
       "        text-align: right;\n",
       "    }\n",
       "</style>\n",
       "<table border=\"1\" class=\"dataframe\">\n",
       "  <thead>\n",
       "    <tr style=\"text-align: right;\">\n",
       "      <th></th>\n",
       "      <th>Patient</th>\n",
       "      <th>Weeks</th>\n",
       "      <th>FVC</th>\n",
       "      <th>Percent</th>\n",
       "      <th>Age</th>\n",
       "      <th>Sex</th>\n",
       "      <th>SmokingStatus</th>\n",
       "    </tr>\n",
       "  </thead>\n",
       "  <tbody>\n",
       "    <tr>\n",
       "      <th>0</th>\n",
       "      <td>ID00007637202177411956430</td>\n",
       "      <td>-4</td>\n",
       "      <td>2315</td>\n",
       "      <td>58.253649</td>\n",
       "      <td>79</td>\n",
       "      <td>Male</td>\n",
       "      <td>Ex-smoker</td>\n",
       "    </tr>\n",
       "    <tr>\n",
       "      <th>1</th>\n",
       "      <td>ID00007637202177411956430</td>\n",
       "      <td>5</td>\n",
       "      <td>2214</td>\n",
       "      <td>55.712129</td>\n",
       "      <td>79</td>\n",
       "      <td>Male</td>\n",
       "      <td>Ex-smoker</td>\n",
       "    </tr>\n",
       "    <tr>\n",
       "      <th>2</th>\n",
       "      <td>ID00007637202177411956430</td>\n",
       "      <td>7</td>\n",
       "      <td>2061</td>\n",
       "      <td>51.862104</td>\n",
       "      <td>79</td>\n",
       "      <td>Male</td>\n",
       "      <td>Ex-smoker</td>\n",
       "    </tr>\n",
       "    <tr>\n",
       "      <th>3</th>\n",
       "      <td>ID00007637202177411956430</td>\n",
       "      <td>9</td>\n",
       "      <td>2144</td>\n",
       "      <td>53.950679</td>\n",
       "      <td>79</td>\n",
       "      <td>Male</td>\n",
       "      <td>Ex-smoker</td>\n",
       "    </tr>\n",
       "    <tr>\n",
       "      <th>4</th>\n",
       "      <td>ID00007637202177411956430</td>\n",
       "      <td>11</td>\n",
       "      <td>2069</td>\n",
       "      <td>52.063412</td>\n",
       "      <td>79</td>\n",
       "      <td>Male</td>\n",
       "      <td>Ex-smoker</td>\n",
       "    </tr>\n",
       "  </tbody>\n",
       "</table>\n",
       "</div>"
      ],
      "text/plain": [
       "                     Patient  Weeks   FVC    Percent  Age   Sex SmokingStatus\n",
       "0  ID00007637202177411956430     -4  2315  58.253649   79  Male     Ex-smoker\n",
       "1  ID00007637202177411956430      5  2214  55.712129   79  Male     Ex-smoker\n",
       "2  ID00007637202177411956430      7  2061  51.862104   79  Male     Ex-smoker\n",
       "3  ID00007637202177411956430      9  2144  53.950679   79  Male     Ex-smoker\n",
       "4  ID00007637202177411956430     11  2069  52.063412   79  Male     Ex-smoker"
      ]
     },
     "execution_count": 24,
     "metadata": {},
     "output_type": "execute_result"
    }
   ],
   "source": [
    "df.head()"
   ]
  },
  {
   "cell_type": "code",
   "execution_count": 25,
   "metadata": {},
   "outputs": [
    {
     "data": {
      "text/plain": [
       "ID00167637202237397919352    10\n",
       "ID00400637202305055099402    10\n",
       "ID00119637202215426335765    10\n",
       "ID00105637202208831864134    10\n",
       "ID00421637202311550012437    10\n",
       "                             ..\n",
       "ID00128637202219474716089     7\n",
       "ID00186637202242472088675     7\n",
       "ID00344637202287684217717     7\n",
       "ID00267637202270790561585     6\n",
       "ID00047637202184938901501     6\n",
       "Name: Patient, Length: 176, dtype: int64"
      ]
     },
     "execution_count": 25,
     "metadata": {},
     "output_type": "execute_result"
    }
   ],
   "source": [
    "#lets first find the number of visits for each patient and frequcy distributions of visits\n",
    "df.Patient.value_counts() # note that this line of code is the same as df['Patient'].value_counts() "
   ]
  },
  {
   "cell_type": "code",
   "execution_count": 26,
   "metadata": {},
   "outputs": [
    {
     "data": {
      "text/html": [
       "<div>\n",
       "<style scoped>\n",
       "    .dataframe tbody tr th:only-of-type {\n",
       "        vertical-align: middle;\n",
       "    }\n",
       "\n",
       "    .dataframe tbody tr th {\n",
       "        vertical-align: top;\n",
       "    }\n",
       "\n",
       "    .dataframe thead th {\n",
       "        text-align: right;\n",
       "    }\n",
       "</style>\n",
       "<table border=\"1\" class=\"dataframe\">\n",
       "  <thead>\n",
       "    <tr style=\"text-align: right;\">\n",
       "      <th></th>\n",
       "      <th>Count</th>\n",
       "    </tr>\n",
       "    <tr>\n",
       "      <th>Patient</th>\n",
       "      <th></th>\n",
       "    </tr>\n",
       "  </thead>\n",
       "  <tbody>\n",
       "    <tr>\n",
       "      <th>ID00167637202237397919352</th>\n",
       "      <td>10</td>\n",
       "    </tr>\n",
       "    <tr>\n",
       "      <th>ID00400637202305055099402</th>\n",
       "      <td>10</td>\n",
       "    </tr>\n",
       "    <tr>\n",
       "      <th>ID00119637202215426335765</th>\n",
       "      <td>10</td>\n",
       "    </tr>\n",
       "    <tr>\n",
       "      <th>ID00105637202208831864134</th>\n",
       "      <td>10</td>\n",
       "    </tr>\n",
       "    <tr>\n",
       "      <th>ID00421637202311550012437</th>\n",
       "      <td>10</td>\n",
       "    </tr>\n",
       "    <tr>\n",
       "      <th>...</th>\n",
       "      <td>...</td>\n",
       "    </tr>\n",
       "    <tr>\n",
       "      <th>ID00128637202219474716089</th>\n",
       "      <td>7</td>\n",
       "    </tr>\n",
       "    <tr>\n",
       "      <th>ID00186637202242472088675</th>\n",
       "      <td>7</td>\n",
       "    </tr>\n",
       "    <tr>\n",
       "      <th>ID00344637202287684217717</th>\n",
       "      <td>7</td>\n",
       "    </tr>\n",
       "    <tr>\n",
       "      <th>ID00267637202270790561585</th>\n",
       "      <td>6</td>\n",
       "    </tr>\n",
       "    <tr>\n",
       "      <th>ID00047637202184938901501</th>\n",
       "      <td>6</td>\n",
       "    </tr>\n",
       "  </tbody>\n",
       "</table>\n",
       "<p>176 rows × 1 columns</p>\n",
       "</div>"
      ],
      "text/plain": [
       "                           Count\n",
       "Patient                         \n",
       "ID00167637202237397919352     10\n",
       "ID00400637202305055099402     10\n",
       "ID00119637202215426335765     10\n",
       "ID00105637202208831864134     10\n",
       "ID00421637202311550012437     10\n",
       "...                          ...\n",
       "ID00128637202219474716089      7\n",
       "ID00186637202242472088675      7\n",
       "ID00344637202287684217717      7\n",
       "ID00267637202270790561585      6\n",
       "ID00047637202184938901501      6\n",
       "\n",
       "[176 rows x 1 columns]"
      ]
     },
     "execution_count": 26,
     "metadata": {},
     "output_type": "execute_result"
    }
   ],
   "source": [
    "#lets turn this into a dataframe and get the value counts for the visits of each patient\n",
    "df_visits = df.Patient.value_counts().rename_axis('Patient').to_frame('Count')\n",
    "#the code above does a few things for us all at once, earlier when \n",
    "#plotting i mentioned \"#pandas does wierd things when creating a dataframe\"\n",
    "#the above renames the index axis, turns this into a dataframe and lets us name our last column\n",
    "\n",
    " \n",
    "df_visits"
   ]
  },
  {
   "cell_type": "code",
   "execution_count": 27,
   "metadata": {},
   "outputs": [
    {
     "data": {
      "text/html": [
       "<div>\n",
       "<style scoped>\n",
       "    .dataframe tbody tr th:only-of-type {\n",
       "        vertical-align: middle;\n",
       "    }\n",
       "\n",
       "    .dataframe tbody tr th {\n",
       "        vertical-align: top;\n",
       "    }\n",
       "\n",
       "    .dataframe thead th {\n",
       "        text-align: right;\n",
       "    }\n",
       "</style>\n",
       "<table border=\"1\" class=\"dataframe\">\n",
       "  <thead>\n",
       "    <tr style=\"text-align: right;\">\n",
       "      <th></th>\n",
       "      <th>visit_counts</th>\n",
       "      <th>Count</th>\n",
       "    </tr>\n",
       "  </thead>\n",
       "  <tbody>\n",
       "    <tr>\n",
       "      <th>0</th>\n",
       "      <td>6</td>\n",
       "      <td>2</td>\n",
       "    </tr>\n",
       "    <tr>\n",
       "      <th>1</th>\n",
       "      <td>7</td>\n",
       "      <td>7</td>\n",
       "    </tr>\n",
       "    <tr>\n",
       "      <th>2</th>\n",
       "      <td>8</td>\n",
       "      <td>25</td>\n",
       "    </tr>\n",
       "    <tr>\n",
       "      <th>3</th>\n",
       "      <td>9</td>\n",
       "      <td>132</td>\n",
       "    </tr>\n",
       "    <tr>\n",
       "      <th>4</th>\n",
       "      <td>10</td>\n",
       "      <td>10</td>\n",
       "    </tr>\n",
       "  </tbody>\n",
       "</table>\n",
       "</div>"
      ],
      "text/plain": [
       "   visit_counts  Count\n",
       "0             6      2\n",
       "1             7      7\n",
       "2             8     25\n",
       "3             9    132\n",
       "4            10     10"
      ]
     },
     "execution_count": 27,
     "metadata": {},
     "output_type": "execute_result"
    }
   ],
   "source": [
    "#then create another dataframe so that we can graph it... there has to be a better way of doing this\n",
    "df_counts = df_visits.value_counts(sort = False).rename_axis('visit_counts').to_frame(\"Count\").reset_index()\n",
    "#after a while of troubleshooting, that reset_index is needed if you want this to plot...\n",
    "df_counts"
   ]
  },
  {
   "cell_type": "markdown",
   "metadata": {},
   "source": [
    "#### As we can see above, a decent amount of people visisted about 9 times"
   ]
  },
  {
   "cell_type": "code",
   "execution_count": 28,
   "metadata": {},
   "outputs": [
    {
     "data": {
      "image/png": "[encoded data removed]",
      "text/plain": [
       "<Figure size 432x288 with 1 Axes>"
      ]
     },
     "metadata": {
      "needs_background": "light"
     },
     "output_type": "display_data"
    }
   ],
   "source": [
    "#time to graph\n",
    "x = df_counts['visit_counts'] \n",
    "y = df_counts['Count']\n",
    "\n",
    "# name our axis\n",
    "plt.xlabel(\"Number of Visits\") \n",
    "plt.ylabel(\"Count\")\n",
    "\n",
    "#plot it\n",
    "plt.bar(x, y)\n",
    "plt.show()"
   ]
  },
  {
   "cell_type": "code",
   "execution_count": 29,
   "metadata": {},
   "outputs": [
    {
     "data": {
      "text/html": [
       "<div>\n",
       "<style scoped>\n",
       "    .dataframe tbody tr th:only-of-type {\n",
       "        vertical-align: middle;\n",
       "    }\n",
       "\n",
       "    .dataframe tbody tr th {\n",
       "        vertical-align: top;\n",
       "    }\n",
       "\n",
       "    .dataframe thead th {\n",
       "        text-align: right;\n",
       "    }\n",
       "</style>\n",
       "<table border=\"1\" class=\"dataframe\">\n",
       "  <thead>\n",
       "    <tr style=\"text-align: right;\">\n",
       "      <th></th>\n",
       "      <th>Patient</th>\n",
       "      <th>Weeks</th>\n",
       "      <th>FVC</th>\n",
       "      <th>Percent</th>\n",
       "      <th>Age</th>\n",
       "      <th>Sex</th>\n",
       "      <th>SmokingStatus</th>\n",
       "    </tr>\n",
       "  </thead>\n",
       "  <tbody>\n",
       "    <tr>\n",
       "      <th>0</th>\n",
       "      <td>ID00007637202177411956430</td>\n",
       "      <td>-4</td>\n",
       "      <td>2315</td>\n",
       "      <td>58.253649</td>\n",
       "      <td>79</td>\n",
       "      <td>Male</td>\n",
       "      <td>Ex-smoker</td>\n",
       "    </tr>\n",
       "    <tr>\n",
       "      <th>1</th>\n",
       "      <td>ID00007637202177411956430</td>\n",
       "      <td>5</td>\n",
       "      <td>2214</td>\n",
       "      <td>55.712129</td>\n",
       "      <td>79</td>\n",
       "      <td>Male</td>\n",
       "      <td>Ex-smoker</td>\n",
       "    </tr>\n",
       "    <tr>\n",
       "      <th>2</th>\n",
       "      <td>ID00007637202177411956430</td>\n",
       "      <td>7</td>\n",
       "      <td>2061</td>\n",
       "      <td>51.862104</td>\n",
       "      <td>79</td>\n",
       "      <td>Male</td>\n",
       "      <td>Ex-smoker</td>\n",
       "    </tr>\n",
       "    <tr>\n",
       "      <th>3</th>\n",
       "      <td>ID00007637202177411956430</td>\n",
       "      <td>9</td>\n",
       "      <td>2144</td>\n",
       "      <td>53.950679</td>\n",
       "      <td>79</td>\n",
       "      <td>Male</td>\n",
       "      <td>Ex-smoker</td>\n",
       "    </tr>\n",
       "    <tr>\n",
       "      <th>4</th>\n",
       "      <td>ID00007637202177411956430</td>\n",
       "      <td>11</td>\n",
       "      <td>2069</td>\n",
       "      <td>52.063412</td>\n",
       "      <td>79</td>\n",
       "      <td>Male</td>\n",
       "      <td>Ex-smoker</td>\n",
       "    </tr>\n",
       "  </tbody>\n",
       "</table>\n",
       "</div>"
      ],
      "text/plain": [
       "                     Patient  Weeks   FVC    Percent  Age   Sex SmokingStatus\n",
       "0  ID00007637202177411956430     -4  2315  58.253649   79  Male     Ex-smoker\n",
       "1  ID00007637202177411956430      5  2214  55.712129   79  Male     Ex-smoker\n",
       "2  ID00007637202177411956430      7  2061  51.862104   79  Male     Ex-smoker\n",
       "3  ID00007637202177411956430      9  2144  53.950679   79  Male     Ex-smoker\n",
       "4  ID00007637202177411956430     11  2069  52.063412   79  Male     Ex-smoker"
      ]
     },
     "execution_count": 29,
     "metadata": {},
     "output_type": "execute_result"
    }
   ],
   "source": [
    "#what else should we take a look at\n",
    "df.head()"
   ]
  },
  {
   "cell_type": "code",
   "execution_count": 30,
   "metadata": {},
   "outputs": [
    {
     "data": {
      "text/plain": [
       "Patient\n",
       "ID00007637202177411956430    -4\n",
       "ID00009637202177434476278     8\n",
       "ID00010637202177584971671     0\n",
       "ID00011637202177653955184     6\n",
       "ID00012637202177665765362    33\n",
       "                             ..\n",
       "ID00419637202311204720264     6\n",
       "ID00421637202311550012437    15\n",
       "ID00422637202311677017371     6\n",
       "ID00423637202312137826377    17\n",
       "ID00426637202313170790466     0\n",
       "Name: Weeks, Length: 176, dtype: int64"
      ]
     },
     "execution_count": 30,
     "metadata": {},
     "output_type": "execute_result"
    }
   ],
   "source": [
    "#lets somehow plot people first visit\n",
    "# lets try using a groupby\n",
    "df.groupby('Patient')['Weeks'].min()\n",
    "\n"
   ]
  },
  {
   "cell_type": "markdown",
   "metadata": {},
   "source": [
    "#### Groupbys are very powerful here are a few examples"
   ]
  },
  {
   "cell_type": "code",
   "execution_count": 31,
   "metadata": {},
   "outputs": [
    {
     "data": {
      "text/html": [
       "<div>\n",
       "<style scoped>\n",
       "    .dataframe tbody tr th:only-of-type {\n",
       "        vertical-align: middle;\n",
       "    }\n",
       "\n",
       "    .dataframe tbody tr th {\n",
       "        vertical-align: top;\n",
       "    }\n",
       "\n",
       "    .dataframe thead th {\n",
       "        text-align: right;\n",
       "    }\n",
       "</style>\n",
       "<table border=\"1\" class=\"dataframe\">\n",
       "  <thead>\n",
       "    <tr style=\"text-align: right;\">\n",
       "      <th></th>\n",
       "      <th>Weeks</th>\n",
       "      <th>FVC</th>\n",
       "      <th>Percent</th>\n",
       "      <th>Age</th>\n",
       "      <th>Sex</th>\n",
       "      <th>SmokingStatus</th>\n",
       "    </tr>\n",
       "    <tr>\n",
       "      <th>Patient</th>\n",
       "      <th></th>\n",
       "      <th></th>\n",
       "      <th></th>\n",
       "      <th></th>\n",
       "      <th></th>\n",
       "      <th></th>\n",
       "    </tr>\n",
       "  </thead>\n",
       "  <tbody>\n",
       "    <tr>\n",
       "      <th>ID00007637202177411956430</th>\n",
       "      <td>-4</td>\n",
       "      <td>2000</td>\n",
       "      <td>50.327126</td>\n",
       "      <td>79</td>\n",
       "      <td>Male</td>\n",
       "      <td>Ex-smoker</td>\n",
       "    </tr>\n",
       "    <tr>\n",
       "      <th>ID00009637202177434476278</th>\n",
       "      <td>8</td>\n",
       "      <td>3214</td>\n",
       "      <td>74.890484</td>\n",
       "      <td>69</td>\n",
       "      <td>Male</td>\n",
       "      <td>Ex-smoker</td>\n",
       "    </tr>\n",
       "    <tr>\n",
       "      <th>ID00010637202177584971671</th>\n",
       "      <td>0</td>\n",
       "      <td>2474</td>\n",
       "      <td>66.519682</td>\n",
       "      <td>60</td>\n",
       "      <td>Male</td>\n",
       "      <td>Ex-smoker</td>\n",
       "    </tr>\n",
       "    <tr>\n",
       "      <th>ID00011637202177653955184</th>\n",
       "      <td>6</td>\n",
       "      <td>3193</td>\n",
       "      <td>82.549121</td>\n",
       "      <td>72</td>\n",
       "      <td>Male</td>\n",
       "      <td>Ex-smoker</td>\n",
       "    </tr>\n",
       "    <tr>\n",
       "      <th>ID00012637202177665765362</th>\n",
       "      <td>33</td>\n",
       "      <td>2971</td>\n",
       "      <td>81.468685</td>\n",
       "      <td>65</td>\n",
       "      <td>Male</td>\n",
       "      <td>Never smoked</td>\n",
       "    </tr>\n",
       "  </tbody>\n",
       "</table>\n",
       "</div>"
      ],
      "text/plain": [
       "                           Weeks   FVC    Percent  Age   Sex SmokingStatus\n",
       "Patient                                                                   \n",
       "ID00007637202177411956430     -4  2000  50.327126   79  Male     Ex-smoker\n",
       "ID00009637202177434476278      8  3214  74.890484   69  Male     Ex-smoker\n",
       "ID00010637202177584971671      0  2474  66.519682   60  Male     Ex-smoker\n",
       "ID00011637202177653955184      6  3193  82.549121   72  Male     Ex-smoker\n",
       "ID00012637202177665765362     33  2971  81.468685   65  Male  Never smoked"
      ]
     },
     "execution_count": 31,
     "metadata": {},
     "output_type": "execute_result"
    }
   ],
   "source": [
    "#gets min value for each patient from the rows associated with that patient\n",
    "df.groupby('Patient').min().head()"
   ]
  },
  {
   "cell_type": "code",
   "execution_count": 32,
   "metadata": {},
   "outputs": [
    {
     "data": {
      "text/html": [
       "<div>\n",
       "<style scoped>\n",
       "    .dataframe tbody tr th:only-of-type {\n",
       "        vertical-align: middle;\n",
       "    }\n",
       "\n",
       "    .dataframe tbody tr th {\n",
       "        vertical-align: top;\n",
       "    }\n",
       "\n",
       "    .dataframe thead th {\n",
       "        text-align: right;\n",
       "    }\n",
       "</style>\n",
       "<table border=\"1\" class=\"dataframe\">\n",
       "  <thead>\n",
       "    <tr style=\"text-align: right;\">\n",
       "      <th></th>\n",
       "      <th>Weeks</th>\n",
       "      <th>FVC</th>\n",
       "      <th>Percent</th>\n",
       "      <th>Age</th>\n",
       "      <th>Sex</th>\n",
       "      <th>SmokingStatus</th>\n",
       "    </tr>\n",
       "    <tr>\n",
       "      <th>Patient</th>\n",
       "      <th></th>\n",
       "      <th></th>\n",
       "      <th></th>\n",
       "      <th></th>\n",
       "      <th></th>\n",
       "      <th></th>\n",
       "    </tr>\n",
       "  </thead>\n",
       "  <tbody>\n",
       "    <tr>\n",
       "      <th>ID00007637202177411956430</th>\n",
       "      <td>57</td>\n",
       "      <td>2315</td>\n",
       "      <td>58.253649</td>\n",
       "      <td>79</td>\n",
       "      <td>Male</td>\n",
       "      <td>Ex-smoker</td>\n",
       "    </tr>\n",
       "    <tr>\n",
       "      <th>ID00009637202177434476278</th>\n",
       "      <td>60</td>\n",
       "      <td>3895</td>\n",
       "      <td>90.758691</td>\n",
       "      <td>69</td>\n",
       "      <td>Male</td>\n",
       "      <td>Ex-smoker</td>\n",
       "    </tr>\n",
       "    <tr>\n",
       "      <th>ID00010637202177584971671</th>\n",
       "      <td>54</td>\n",
       "      <td>3523</td>\n",
       "      <td>94.724672</td>\n",
       "      <td>60</td>\n",
       "      <td>Male</td>\n",
       "      <td>Ex-smoker</td>\n",
       "    </tr>\n",
       "    <tr>\n",
       "      <th>ID00011637202177653955184</th>\n",
       "      <td>58</td>\n",
       "      <td>3541</td>\n",
       "      <td>91.546019</td>\n",
       "      <td>72</td>\n",
       "      <td>Male</td>\n",
       "      <td>Ex-smoker</td>\n",
       "    </tr>\n",
       "    <tr>\n",
       "      <th>ID00012637202177665765362</th>\n",
       "      <td>87</td>\n",
       "      <td>3759</td>\n",
       "      <td>103.076670</td>\n",
       "      <td>65</td>\n",
       "      <td>Male</td>\n",
       "      <td>Never smoked</td>\n",
       "    </tr>\n",
       "  </tbody>\n",
       "</table>\n",
       "</div>"
      ],
      "text/plain": [
       "                           Weeks   FVC     Percent  Age   Sex SmokingStatus\n",
       "Patient                                                                    \n",
       "ID00007637202177411956430     57  2315   58.253649   79  Male     Ex-smoker\n",
       "ID00009637202177434476278     60  3895   90.758691   69  Male     Ex-smoker\n",
       "ID00010637202177584971671     54  3523   94.724672   60  Male     Ex-smoker\n",
       "ID00011637202177653955184     58  3541   91.546019   72  Male     Ex-smoker\n",
       "ID00012637202177665765362     87  3759  103.076670   65  Male  Never smoked"
      ]
     },
     "execution_count": 32,
     "metadata": {},
     "output_type": "execute_result"
    }
   ],
   "source": [
    "#gets max value for each patient from the rows associated with that patient\n",
    "df.groupby('Patient').max().head()"
   ]
  },
  {
   "cell_type": "code",
   "execution_count": 33,
   "metadata": {},
   "outputs": [
    {
     "data": {
      "text/html": [
       "<div>\n",
       "<style scoped>\n",
       "    .dataframe tbody tr th:only-of-type {\n",
       "        vertical-align: middle;\n",
       "    }\n",
       "\n",
       "    .dataframe tbody tr th {\n",
       "        vertical-align: top;\n",
       "    }\n",
       "\n",
       "    .dataframe thead th {\n",
       "        text-align: right;\n",
       "    }\n",
       "</style>\n",
       "<table border=\"1\" class=\"dataframe\">\n",
       "  <thead>\n",
       "    <tr style=\"text-align: right;\">\n",
       "      <th></th>\n",
       "      <th>Weeks</th>\n",
       "      <th>FVC</th>\n",
       "      <th>Percent</th>\n",
       "      <th>Age</th>\n",
       "    </tr>\n",
       "    <tr>\n",
       "      <th>Patient</th>\n",
       "      <th></th>\n",
       "      <th></th>\n",
       "      <th></th>\n",
       "      <th></th>\n",
       "    </tr>\n",
       "  </thead>\n",
       "  <tbody>\n",
       "    <tr>\n",
       "      <th>ID00007637202177411956430</th>\n",
       "      <td>19.111111</td>\n",
       "      <td>2113.888889</td>\n",
       "      <td>53.192977</td>\n",
       "      <td>79.0</td>\n",
       "    </tr>\n",
       "    <tr>\n",
       "      <th>ID00009637202177434476278</th>\n",
       "      <td>24.000000</td>\n",
       "      <td>3596.666667</td>\n",
       "      <td>83.807127</td>\n",
       "      <td>69.0</td>\n",
       "    </tr>\n",
       "    <tr>\n",
       "      <th>ID00010637202177584971671</th>\n",
       "      <td>16.111111</td>\n",
       "      <td>3037.111111</td>\n",
       "      <td>81.660333</td>\n",
       "      <td>60.0</td>\n",
       "    </tr>\n",
       "    <tr>\n",
       "      <th>ID00011637202177653955184</th>\n",
       "      <td>22.000000</td>\n",
       "      <td>3387.000000</td>\n",
       "      <td>87.564633</td>\n",
       "      <td>72.0</td>\n",
       "    </tr>\n",
       "    <tr>\n",
       "      <th>ID00012637202177665765362</th>\n",
       "      <td>49.777778</td>\n",
       "      <td>3348.777778</td>\n",
       "      <td>91.827843</td>\n",
       "      <td>65.0</td>\n",
       "    </tr>\n",
       "  </tbody>\n",
       "</table>\n",
       "</div>"
      ],
      "text/plain": [
       "                               Weeks          FVC    Percent   Age\n",
       "Patient                                                           \n",
       "ID00007637202177411956430  19.111111  2113.888889  53.192977  79.0\n",
       "ID00009637202177434476278  24.000000  3596.666667  83.807127  69.0\n",
       "ID00010637202177584971671  16.111111  3037.111111  81.660333  60.0\n",
       "ID00011637202177653955184  22.000000  3387.000000  87.564633  72.0\n",
       "ID00012637202177665765362  49.777778  3348.777778  91.827843  65.0"
      ]
     },
     "execution_count": 33,
     "metadata": {},
     "output_type": "execute_result"
    }
   ],
   "source": [
    "#gets average value for each patient over all rows associated with that patient\n",
    "df.groupby('Patient').mean().head()"
   ]
  },
  {
   "cell_type": "code",
   "execution_count": 34,
   "metadata": {},
   "outputs": [
    {
     "data": {
      "text/plain": [
       "Patient\n",
       "ID00007637202177411956430    -4\n",
       "ID00009637202177434476278     8\n",
       "ID00010637202177584971671     0\n",
       "ID00011637202177653955184     6\n",
       "ID00012637202177665765362    33\n",
       "                             ..\n",
       "ID00419637202311204720264     6\n",
       "ID00421637202311550012437    15\n",
       "ID00422637202311677017371     6\n",
       "ID00423637202312137826377    17\n",
       "ID00426637202313170790466     0\n",
       "Name: Weeks, Length: 176, dtype: int64"
      ]
     },
     "execution_count": 34,
     "metadata": {},
     "output_type": "execute_result"
    }
   ],
   "source": [
    "df.groupby('Patient')['Weeks'].min() #notice how we specified a specific column"
   ]
  },
  {
   "cell_type": "code",
   "execution_count": 35,
   "metadata": {},
   "outputs": [
    {
     "data": {
      "text/html": [
       "<div>\n",
       "<style scoped>\n",
       "    .dataframe tbody tr th:only-of-type {\n",
       "        vertical-align: middle;\n",
       "    }\n",
       "\n",
       "    .dataframe tbody tr th {\n",
       "        vertical-align: top;\n",
       "    }\n",
       "\n",
       "    .dataframe thead th {\n",
       "        text-align: right;\n",
       "    }\n",
       "</style>\n",
       "<table border=\"1\" class=\"dataframe\">\n",
       "  <thead>\n",
       "    <tr style=\"text-align: right;\">\n",
       "      <th></th>\n",
       "      <th>Patient</th>\n",
       "      <th>Weeks</th>\n",
       "    </tr>\n",
       "  </thead>\n",
       "  <tbody>\n",
       "    <tr>\n",
       "      <th>0</th>\n",
       "      <td>ID00007637202177411956430</td>\n",
       "      <td>-4</td>\n",
       "    </tr>\n",
       "    <tr>\n",
       "      <th>1</th>\n",
       "      <td>ID00009637202177434476278</td>\n",
       "      <td>8</td>\n",
       "    </tr>\n",
       "    <tr>\n",
       "      <th>2</th>\n",
       "      <td>ID00010637202177584971671</td>\n",
       "      <td>0</td>\n",
       "    </tr>\n",
       "    <tr>\n",
       "      <th>3</th>\n",
       "      <td>ID00011637202177653955184</td>\n",
       "      <td>6</td>\n",
       "    </tr>\n",
       "    <tr>\n",
       "      <th>4</th>\n",
       "      <td>ID00012637202177665765362</td>\n",
       "      <td>33</td>\n",
       "    </tr>\n",
       "    <tr>\n",
       "      <th>...</th>\n",
       "      <td>...</td>\n",
       "      <td>...</td>\n",
       "    </tr>\n",
       "    <tr>\n",
       "      <th>171</th>\n",
       "      <td>ID00419637202311204720264</td>\n",
       "      <td>6</td>\n",
       "    </tr>\n",
       "    <tr>\n",
       "      <th>172</th>\n",
       "      <td>ID00421637202311550012437</td>\n",
       "      <td>15</td>\n",
       "    </tr>\n",
       "    <tr>\n",
       "      <th>173</th>\n",
       "      <td>ID00422637202311677017371</td>\n",
       "      <td>6</td>\n",
       "    </tr>\n",
       "    <tr>\n",
       "      <th>174</th>\n",
       "      <td>ID00423637202312137826377</td>\n",
       "      <td>17</td>\n",
       "    </tr>\n",
       "    <tr>\n",
       "      <th>175</th>\n",
       "      <td>ID00426637202313170790466</td>\n",
       "      <td>0</td>\n",
       "    </tr>\n",
       "  </tbody>\n",
       "</table>\n",
       "<p>176 rows × 2 columns</p>\n",
       "</div>"
      ],
      "text/plain": [
       "                       Patient  Weeks\n",
       "0    ID00007637202177411956430     -4\n",
       "1    ID00009637202177434476278      8\n",
       "2    ID00010637202177584971671      0\n",
       "3    ID00011637202177653955184      6\n",
       "4    ID00012637202177665765362     33\n",
       "..                         ...    ...\n",
       "171  ID00419637202311204720264      6\n",
       "172  ID00421637202311550012437     15\n",
       "173  ID00422637202311677017371      6\n",
       "174  ID00423637202312137826377     17\n",
       "175  ID00426637202313170790466      0\n",
       "\n",
       "[176 rows x 2 columns]"
      ]
     },
     "execution_count": 35,
     "metadata": {},
     "output_type": "execute_result"
    }
   ],
   "source": [
    "df_first_visit = df.groupby('Patient')['Weeks'].min().reset_index() #reset_index cleans things up and turns it into a datarame\n",
    "df_first_visit"
   ]
  },
  {
   "cell_type": "code",
   "execution_count": 36,
   "metadata": {},
   "outputs": [
    {
     "data": {
      "image/png": "[encoded data removed]",
      "text/plain": [
       "<Figure size 432x288 with 1 Axes>"
      ]
     },
     "metadata": {
      "needs_background": "light"
     },
     "output_type": "display_data"
    }
   ],
   "source": [
    "x = df_first_visit['Patient'] \n",
    "y = df_first_visit['Weeks']\n",
    "\n",
    "plt.xlabel(\"Patient\") \n",
    "plt.ylabel(\"First Visit\")\n",
    "\n",
    "\n",
    "plt.scatter(x, y)\n",
    "plt.show()\n",
    "\n",
    "#the below is concerning because it looks liek someones first visit was after 80 weeks"
   ]
  },
  {
   "cell_type": "code",
   "execution_count": 37,
   "metadata": {},
   "outputs": [
    {
     "data": {
      "image/png": "[encoded data removed]",
      "text/plain": [
       "<Figure size 432x288 with 1 Axes>"
      ]
     },
     "metadata": {
      "needs_background": "light"
     },
     "output_type": "display_data"
    }
   ],
   "source": [
    "x = df_first_visit['Patient'] \n",
    "y = df_first_visit['Weeks']\n",
    "\n",
    "plt.xlabel(\"Patient\") \n",
    "plt.ylabel(\"First Visit\")\n",
    "\n",
    "plt.ylim(-10,30) #lets set an axis limit\n",
    "\n",
    "plt.scatter(x, y)\n",
    "plt.show()\n",
    "\n",
    "\n"
   ]
  },
  {
   "cell_type": "markdown",
   "metadata": {},
   "source": [
    "#### There is proabbly more that we can do in terms of data analysis but lets get into preprocessing our data and getting it into some sort of nural network this will be found in another notebook"
   ]
  }
 ],
 "metadata": {
  "kernelspec": {
   "display_name": "Python 3",
   "language": "python",
   "name": "python3"
  },
  "language_info": {
   "codemirror_mode": {
    "name": "ipython",
    "version": 3
   },
   "file_extension": ".py",
   "mimetype": "text/x-python",
   "name": "python",
   "nbconvert_exporter": "python",
   "pygments_lexer": "ipython3",
   "version": "3.6.8"
  }
 },
 "nbformat": 4,
 "nbformat_minor": 4
}
