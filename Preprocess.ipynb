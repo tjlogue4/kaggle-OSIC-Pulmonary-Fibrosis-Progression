{
 "cells": [
  {
   "cell_type": "markdown",
   "metadata": {},
   "source": [
    "#### Some of the code in this notebook will be from our exploration code, the processing step will be very similar to the Data Science Bowl 2017 preprocessing youtube video I shared."
   ]
  },
  {
   "cell_type": "code",
   "execution_count": 29,
   "metadata": {},
   "outputs": [],
   "source": [
    "import pandas as pd\n",
    "import pydicom\n",
    "import os\n",
    "import matplotlib.pyplot as plt\n",
    "import numpy as np\n",
    "import cv2\n",
    "from tqdm import tqdm # this is going to help us track the progrerss of processing"
   ]
  },
  {
   "cell_type": "markdown",
   "metadata": {},
   "source": [
    "#### We need to resize our data and prepare it for a nural network to do this lets frist create a dataframe that contains a row with number of slices, and the size of of the images\n",
    "\n",
    "#### Note: I went through this dataset a whileback and found that there were issues with the following patients' dicom files:\n",
    "##### 'ID00011637202177653955184', 'ID00026637202179561894768',  'ID00128637202219474716089', 'ID00132637202222178761324'"
   ]
  },
  {
   "cell_type": "code",
   "execution_count": 30,
   "metadata": {},
   "outputs": [],
   "source": [
    "data_dir = 'F:/OISC/osic-pulmonary-fibrosis-progression/train/'\n",
    "patients = os.listdir(data_dir)"
   ]
  },
  {
   "cell_type": "code",
   "execution_count": 31,
   "metadata": {},
   "outputs": [
    {
     "data": {
      "text/html": [
       "<div>\n",
       "<style scoped>\n",
       "    .dataframe tbody tr th:only-of-type {\n",
       "        vertical-align: middle;\n",
       "    }\n",
       "\n",
       "    .dataframe tbody tr th {\n",
       "        vertical-align: top;\n",
       "    }\n",
       "\n",
       "    .dataframe thead th {\n",
       "        text-align: right;\n",
       "    }\n",
       "</style>\n",
       "<table border=\"1\" class=\"dataframe\">\n",
       "  <thead>\n",
       "    <tr style=\"text-align: right;\">\n",
       "      <th></th>\n",
       "      <th>patient</th>\n",
       "      <th>num_slices</th>\n",
       "      <th>size</th>\n",
       "    </tr>\n",
       "  </thead>\n",
       "  <tbody>\n",
       "  </tbody>\n",
       "</table>\n",
       "</div>"
      ],
      "text/plain": [
       "Empty DataFrame\n",
       "Columns: [patient, num_slices, size]\n",
       "Index: []"
      ]
     },
     "execution_count": 31,
     "metadata": {},
     "output_type": "execute_result"
    }
   ],
   "source": [
    "#create a dataframe that we will append data to\n",
    "df = pd.DataFrame(columns = ['patient','num_slices', 'size'])\n",
    "df\n",
    "#accroding to this post: https://stackoverflow.com/questions/10715965/add-one-row-to-pandas-dataframe\n",
    "#the fastest way to append data is by using a dict\n",
    "#speed is important at scale, this is a relativley small data set so it's not too important"
   ]
  },
  {
   "cell_type": "code",
   "execution_count": 33,
   "metadata": {},
   "outputs": [
    {
     "name": "stderr",
     "output_type": "stream",
     "text": [
      "100%|██████████████████████████████████████████████████████████████████████████████████| 10/10 [00:04<00:00,  2.12it/s]\n"
     ]
    }
   ],
   "source": [
    "#test on 10 patients to see if it works\n",
    "for patient in tqdm(patients[:10]):\n",
    "    try:\n",
    "        path = data_dir + patient \n",
    "        slices = [pydicom.read_file(path + '/' + s) for s in os.listdir(path)] \n",
    "        slices.sort(key = lambda x: float(x.ImagePositionPatient[2]))\n",
    "        df_dict = {'patient' : patient, 'num_slices': len(slices), 'size': slices[0].pixel_array.shape}\n",
    "        df = df.append(df_dict, ignore_index = True)\n",
    "    except:\n",
    "        pass\n",
    "    \n",
    "#I am using try and excpet becuase some of our images cause issues, so if we come across them, they will just get skipepd"
   ]
  },
  {
   "cell_type": "code",
   "execution_count": 34,
   "metadata": {},
   "outputs": [
    {
     "data": {
      "text/html": [
       "<div>\n",
       "<style scoped>\n",
       "    .dataframe tbody tr th:only-of-type {\n",
       "        vertical-align: middle;\n",
       "    }\n",
       "\n",
       "    .dataframe tbody tr th {\n",
       "        vertical-align: top;\n",
       "    }\n",
       "\n",
       "    .dataframe thead th {\n",
       "        text-align: right;\n",
       "    }\n",
       "</style>\n",
       "<table border=\"1\" class=\"dataframe\">\n",
       "  <thead>\n",
       "    <tr style=\"text-align: right;\">\n",
       "      <th></th>\n",
       "      <th>patient</th>\n",
       "      <th>num_slices</th>\n",
       "      <th>size</th>\n",
       "    </tr>\n",
       "  </thead>\n",
       "  <tbody>\n",
       "    <tr>\n",
       "      <th>0</th>\n",
       "      <td>ID00007637202177411956430</td>\n",
       "      <td>30</td>\n",
       "      <td>(512, 512)</td>\n",
       "    </tr>\n",
       "    <tr>\n",
       "      <th>1</th>\n",
       "      <td>ID00009637202177434476278</td>\n",
       "      <td>394</td>\n",
       "      <td>(768, 768)</td>\n",
       "    </tr>\n",
       "    <tr>\n",
       "      <th>2</th>\n",
       "      <td>ID00010637202177584971671</td>\n",
       "      <td>106</td>\n",
       "      <td>(512, 512)</td>\n",
       "    </tr>\n",
       "    <tr>\n",
       "      <th>3</th>\n",
       "      <td>ID00007637202177411956430</td>\n",
       "      <td>30</td>\n",
       "      <td>(512, 512)</td>\n",
       "    </tr>\n",
       "    <tr>\n",
       "      <th>4</th>\n",
       "      <td>ID00009637202177434476278</td>\n",
       "      <td>394</td>\n",
       "      <td>(768, 768)</td>\n",
       "    </tr>\n",
       "    <tr>\n",
       "      <th>5</th>\n",
       "      <td>ID00010637202177584971671</td>\n",
       "      <td>106</td>\n",
       "      <td>(512, 512)</td>\n",
       "    </tr>\n",
       "    <tr>\n",
       "      <th>6</th>\n",
       "      <td>ID00012637202177665765362</td>\n",
       "      <td>49</td>\n",
       "      <td>(512, 512)</td>\n",
       "    </tr>\n",
       "    <tr>\n",
       "      <th>7</th>\n",
       "      <td>ID00014637202177757139317</td>\n",
       "      <td>31</td>\n",
       "      <td>(843, 888)</td>\n",
       "    </tr>\n",
       "    <tr>\n",
       "      <th>8</th>\n",
       "      <td>ID00015637202177877247924</td>\n",
       "      <td>295</td>\n",
       "      <td>(768, 768)</td>\n",
       "    </tr>\n",
       "    <tr>\n",
       "      <th>9</th>\n",
       "      <td>ID00019637202178323708467</td>\n",
       "      <td>29</td>\n",
       "      <td>(512, 512)</td>\n",
       "    </tr>\n",
       "    <tr>\n",
       "      <th>10</th>\n",
       "      <td>ID00020637202178344345685</td>\n",
       "      <td>493</td>\n",
       "      <td>(512, 512)</td>\n",
       "    </tr>\n",
       "    <tr>\n",
       "      <th>11</th>\n",
       "      <td>ID00023637202179104603099</td>\n",
       "      <td>27</td>\n",
       "      <td>(512, 512)</td>\n",
       "    </tr>\n",
       "  </tbody>\n",
       "</table>\n",
       "</div>"
      ],
      "text/plain": [
       "                      patient num_slices        size\n",
       "0   ID00007637202177411956430         30  (512, 512)\n",
       "1   ID00009637202177434476278        394  (768, 768)\n",
       "2   ID00010637202177584971671        106  (512, 512)\n",
       "3   ID00007637202177411956430         30  (512, 512)\n",
       "4   ID00009637202177434476278        394  (768, 768)\n",
       "5   ID00010637202177584971671        106  (512, 512)\n",
       "6   ID00012637202177665765362         49  (512, 512)\n",
       "7   ID00014637202177757139317         31  (843, 888)\n",
       "8   ID00015637202177877247924        295  (768, 768)\n",
       "9   ID00019637202178323708467         29  (512, 512)\n",
       "10  ID00020637202178344345685        493  (512, 512)\n",
       "11  ID00023637202179104603099         27  (512, 512)"
      ]
     },
     "execution_count": 34,
     "metadata": {},
     "output_type": "execute_result"
    }
   ],
   "source": [
    "df"
   ]
  },
  {
   "cell_type": "code",
   "execution_count": 35,
   "metadata": {},
   "outputs": [
    {
     "name": "stderr",
     "output_type": "stream",
     "text": [
      "100%|████████████████████████████████████████████████████████████████████████████████| 176/176 [03:05<00:00,  1.06s/it]\n"
     ]
    }
   ],
   "source": [
    "#get info for all patients, dont forget to recreate the dataframe\n",
    "df = pd.DataFrame(columns = ['patient','num_slices', 'size'])\n",
    "for patient in tqdm(patients):\n",
    "    try:\n",
    "        path = data_dir + patient \n",
    "        slices = [pydicom.read_file(path + '/' + s) for s in os.listdir(path)] \n",
    "        slices.sort(key = lambda x: float(x.ImagePositionPatient[2]))\n",
    "        df_dict = {'patient' : patient, 'num_slices': len(slices), 'size': slices[0].pixel_array.shape}\n",
    "        df = df.append(df_dict, ignore_index = True)\n",
    "    except:\n",
    "        pass\n",
    "    \n",
    "#gonna go eat a mango or something while this processes"
   ]
  },
  {
   "cell_type": "markdown",
   "metadata": {},
   "source": [
    "#### The time to process will vary based on your computer, for this process we are limited to the single core speed of our processor as python is single threaded. Later we will explore multiprocessing and how greatly it improves our processing.\n",
    "#### For reference I am running a i7-4790k, I can see its clocked at its max 4.2 ghz speed during this processing. Other factors to consider will be disk transfor rate. More on that later."
   ]
  },
  {
   "cell_type": "code",
   "execution_count": 36,
   "metadata": {},
   "outputs": [
    {
     "data": {
      "text/html": [
       "<div>\n",
       "<style scoped>\n",
       "    .dataframe tbody tr th:only-of-type {\n",
       "        vertical-align: middle;\n",
       "    }\n",
       "\n",
       "    .dataframe tbody tr th {\n",
       "        vertical-align: top;\n",
       "    }\n",
       "\n",
       "    .dataframe thead th {\n",
       "        text-align: right;\n",
       "    }\n",
       "</style>\n",
       "<table border=\"1\" class=\"dataframe\">\n",
       "  <thead>\n",
       "    <tr style=\"text-align: right;\">\n",
       "      <th></th>\n",
       "      <th>patient</th>\n",
       "      <th>num_slices</th>\n",
       "      <th>size</th>\n",
       "    </tr>\n",
       "  </thead>\n",
       "  <tbody>\n",
       "    <tr>\n",
       "      <th>0</th>\n",
       "      <td>ID00007637202177411956430</td>\n",
       "      <td>30</td>\n",
       "      <td>(512, 512)</td>\n",
       "    </tr>\n",
       "    <tr>\n",
       "      <th>1</th>\n",
       "      <td>ID00009637202177434476278</td>\n",
       "      <td>394</td>\n",
       "      <td>(768, 768)</td>\n",
       "    </tr>\n",
       "    <tr>\n",
       "      <th>2</th>\n",
       "      <td>ID00010637202177584971671</td>\n",
       "      <td>106</td>\n",
       "      <td>(512, 512)</td>\n",
       "    </tr>\n",
       "    <tr>\n",
       "      <th>3</th>\n",
       "      <td>ID00012637202177665765362</td>\n",
       "      <td>49</td>\n",
       "      <td>(512, 512)</td>\n",
       "    </tr>\n",
       "    <tr>\n",
       "      <th>4</th>\n",
       "      <td>ID00014637202177757139317</td>\n",
       "      <td>31</td>\n",
       "      <td>(843, 888)</td>\n",
       "    </tr>\n",
       "  </tbody>\n",
       "</table>\n",
       "</div>"
      ],
      "text/plain": [
       "                     patient num_slices        size\n",
       "0  ID00007637202177411956430         30  (512, 512)\n",
       "1  ID00009637202177434476278        394  (768, 768)\n",
       "2  ID00010637202177584971671        106  (512, 512)\n",
       "3  ID00012637202177665765362         49  (512, 512)\n",
       "4  ID00014637202177757139317         31  (843, 888)"
      ]
     },
     "execution_count": 36,
     "metadata": {},
     "output_type": "execute_result"
    }
   ],
   "source": [
    "df.head()"
   ]
  },
  {
   "cell_type": "code",
   "execution_count": 37,
   "metadata": {},
   "outputs": [
    {
     "name": "stdout",
     "output_type": "stream",
     "text": [
      "<class 'pandas.core.frame.DataFrame'>\n",
      "RangeIndex: 172 entries, 0 to 171\n",
      "Data columns (total 3 columns):\n",
      " #   Column      Non-Null Count  Dtype \n",
      "---  ------      --------------  ----- \n",
      " 0   patient     172 non-null    object\n",
      " 1   num_slices  172 non-null    object\n",
      " 2   size        172 non-null    object\n",
      "dtypes: object(3)\n",
      "memory usage: 4.2+ KB\n"
     ]
    }
   ],
   "source": [
    "df.info()"
   ]
  },
  {
   "cell_type": "code",
   "execution_count": 38,
   "metadata": {},
   "outputs": [
    {
     "name": "stdout",
     "output_type": "stream",
     "text": [
      "count     172\n",
      "unique    118\n",
      "top        30\n",
      "freq        9\n",
      "Name: num_slices, dtype: int64\n",
      "count            172\n",
      "unique            10\n",
      "top       (512, 512)\n",
      "freq             131\n",
      "Name: size, dtype: object\n"
     ]
    }
   ],
   "source": [
    "#lets do some quick frequncy distribution\n",
    "print(df['num_slices'].describe())\n",
    "print(df['size'].describe()) # now that i think of it, size doesn't really matter beacuse we will be resizing to something\n",
    "#like 50x50 or 100x100"
   ]
  },
  {
   "cell_type": "code",
   "execution_count": 39,
   "metadata": {},
   "outputs": [
    {
     "name": "stdout",
     "output_type": "stream",
     "text": [
      "Min: 12\n",
      "Max: 1018\n",
      "Mean 187.79651162790697\n",
      "Median: 98.0\n"
     ]
    }
   ],
   "source": [
    "# lets figure out a way to bin and plot our num_slices column\n",
    "print('Min: ' + str(df['num_slices'].min()))\n",
    "print('Max: ' + str(df['num_slices'].max())) # this doesnt seem right, that is a crazy amount of slices)\n",
    "print('Mean ' + str(df['num_slices'].mean()))\n",
    "print('Median: ' + str(df['num_slices'].median()))\n",
    "#whats the point of learning R when you can do all this in python... JK\n"
   ]
  },
  {
   "cell_type": "code",
   "execution_count": 40,
   "metadata": {},
   "outputs": [
    {
     "data": {
      "text/plain": [
       "(array([90., 10., 32., 21., 13.,  4.,  0.,  0.,  1.,  1.]),\n",
       " array([12.0, 112.6, 213.2, 313.79999999999995, 414.4, 515.0,\n",
       "        615.5999999999999, 716.1999999999999, 816.8, 917.4, 1018.0],\n",
       "       dtype=object),\n",
       " <BarContainer object of 10 artists>)"
      ]
     },
     "execution_count": 40,
     "metadata": {},
     "output_type": "execute_result"
    },
    {
     "data": {
      "image/png": "[encoded data removed]",
      "text/plain": [
       "<Figure size 432x288 with 1 Axes>"
      ]
     },
     "metadata": {
      "needs_background": "light"
     },
     "output_type": "display_data"
    }
   ],
   "source": [
    "plt.hist(df['num_slices'])\n",
    "# check this out for the defaul binning https://matplotlib.org/3.3.1/api/_as_gen/matplotlib.pyplot.hist.html"
   ]
  },
  {
   "cell_type": "code",
   "execution_count": 41,
   "metadata": {},
   "outputs": [
    {
     "data": {
      "text/plain": [
       "(array([94.,  9., 37., 17., 10.,  3.,  0.,  1.,  1.]),\n",
       " array([12.0, 123.77777777777777, 235.55555555555554, 347.3333333333333,\n",
       "        459.1111111111111, 570.8888888888889, 682.6666666666666,\n",
       "        794.4444444444443, 906.2222222222222, 1018.0], dtype=object),\n",
       " <BarContainer object of 9 artists>)"
      ]
     },
     "execution_count": 41,
     "metadata": {},
     "output_type": "execute_result"
    },
    {
     "data": {
      "image/png": "[encoded data removed]",
      "text/plain": [
       "<Figure size 432x288 with 1 Axes>"
      ]
     },
     "metadata": {
      "needs_background": "light"
     },
     "output_type": "display_data"
    }
   ],
   "source": [
    "#lets figure out a way to bin using sturges method... https://numpy.org/devdocs/reference/generated/numpy.histogram_bin_edges.html\n",
    "\n",
    "import numpy as np\n",
    "bins = np.histogram_bin_edges(df['num_slices'], bins = 'sturges')\n",
    "\n",
    "\n",
    "\n",
    "plt.hist(df['num_slices'], bins =bins)"
   ]
  },
  {
   "cell_type": "code",
   "execution_count": 42,
   "metadata": {},
   "outputs": [
    {
     "data": {
      "text/html": [
       "<div>\n",
       "<style scoped>\n",
       "    .dataframe tbody tr th:only-of-type {\n",
       "        vertical-align: middle;\n",
       "    }\n",
       "\n",
       "    .dataframe tbody tr th {\n",
       "        vertical-align: top;\n",
       "    }\n",
       "\n",
       "    .dataframe thead th {\n",
       "        text-align: right;\n",
       "    }\n",
       "</style>\n",
       "<table border=\"1\" class=\"dataframe\">\n",
       "  <thead>\n",
       "    <tr style=\"text-align: right;\">\n",
       "      <th></th>\n",
       "      <th>patient</th>\n",
       "      <th>num_slices</th>\n",
       "      <th>size</th>\n",
       "    </tr>\n",
       "  </thead>\n",
       "  <tbody>\n",
       "    <tr>\n",
       "      <th>0</th>\n",
       "      <td>ID00007637202177411956430</td>\n",
       "      <td>30</td>\n",
       "      <td>(512, 512)</td>\n",
       "    </tr>\n",
       "    <tr>\n",
       "      <th>3</th>\n",
       "      <td>ID00012637202177665765362</td>\n",
       "      <td>49</td>\n",
       "      <td>(512, 512)</td>\n",
       "    </tr>\n",
       "    <tr>\n",
       "      <th>4</th>\n",
       "      <td>ID00014637202177757139317</td>\n",
       "      <td>31</td>\n",
       "      <td>(843, 888)</td>\n",
       "    </tr>\n",
       "    <tr>\n",
       "      <th>6</th>\n",
       "      <td>ID00019637202178323708467</td>\n",
       "      <td>29</td>\n",
       "      <td>(512, 512)</td>\n",
       "    </tr>\n",
       "    <tr>\n",
       "      <th>8</th>\n",
       "      <td>ID00023637202179104603099</td>\n",
       "      <td>27</td>\n",
       "      <td>(512, 512)</td>\n",
       "    </tr>\n",
       "    <tr>\n",
       "      <th>9</th>\n",
       "      <td>ID00025637202179541264076</td>\n",
       "      <td>24</td>\n",
       "      <td>(768, 768)</td>\n",
       "    </tr>\n",
       "    <tr>\n",
       "      <th>17</th>\n",
       "      <td>ID00048637202185016727717</td>\n",
       "      <td>26</td>\n",
       "      <td>(512, 512)</td>\n",
       "    </tr>\n",
       "    <tr>\n",
       "      <th>22</th>\n",
       "      <td>ID00062637202188654068490</td>\n",
       "      <td>30</td>\n",
       "      <td>(512, 512)</td>\n",
       "    </tr>\n",
       "    <tr>\n",
       "      <th>25</th>\n",
       "      <td>ID00072637202198161894406</td>\n",
       "      <td>24</td>\n",
       "      <td>(512, 512)</td>\n",
       "    </tr>\n",
       "    <tr>\n",
       "      <th>32</th>\n",
       "      <td>ID00086637202203494931510</td>\n",
       "      <td>30</td>\n",
       "      <td>(788, 888)</td>\n",
       "    </tr>\n",
       "    <tr>\n",
       "      <th>33</th>\n",
       "      <td>ID00089637202204675567570</td>\n",
       "      <td>36</td>\n",
       "      <td>(768, 768)</td>\n",
       "    </tr>\n",
       "    <tr>\n",
       "      <th>35</th>\n",
       "      <td>ID00093637202205278167493</td>\n",
       "      <td>37</td>\n",
       "      <td>(512, 512)</td>\n",
       "    </tr>\n",
       "    <tr>\n",
       "      <th>36</th>\n",
       "      <td>ID00094637202205333947361</td>\n",
       "      <td>24</td>\n",
       "      <td>(752, 888)</td>\n",
       "    </tr>\n",
       "    <tr>\n",
       "      <th>37</th>\n",
       "      <td>ID00099637202206203080121</td>\n",
       "      <td>25</td>\n",
       "      <td>(512, 512)</td>\n",
       "    </tr>\n",
       "    <tr>\n",
       "      <th>45</th>\n",
       "      <td>ID00115637202211874187958</td>\n",
       "      <td>24</td>\n",
       "      <td>(1302, 1302)</td>\n",
       "    </tr>\n",
       "    <tr>\n",
       "      <th>46</th>\n",
       "      <td>ID00117637202212360228007</td>\n",
       "      <td>30</td>\n",
       "      <td>(512, 512)</td>\n",
       "    </tr>\n",
       "    <tr>\n",
       "      <th>51</th>\n",
       "      <td>ID00125637202218590429387</td>\n",
       "      <td>22</td>\n",
       "      <td>(512, 512)</td>\n",
       "    </tr>\n",
       "    <tr>\n",
       "      <th>52</th>\n",
       "      <td>ID00126637202218610655908</td>\n",
       "      <td>17</td>\n",
       "      <td>(512, 512)</td>\n",
       "    </tr>\n",
       "    <tr>\n",
       "      <th>54</th>\n",
       "      <td>ID00129637202219868188000</td>\n",
       "      <td>27</td>\n",
       "      <td>(768, 768)</td>\n",
       "    </tr>\n",
       "    <tr>\n",
       "      <th>65</th>\n",
       "      <td>ID00161637202235731948764</td>\n",
       "      <td>28</td>\n",
       "      <td>(512, 512)</td>\n",
       "    </tr>\n",
       "    <tr>\n",
       "      <th>66</th>\n",
       "      <td>ID00165637202237320314458</td>\n",
       "      <td>12</td>\n",
       "      <td>(512, 512)</td>\n",
       "    </tr>\n",
       "    <tr>\n",
       "      <th>71</th>\n",
       "      <td>ID00172637202238316925179</td>\n",
       "      <td>31</td>\n",
       "      <td>(512, 512)</td>\n",
       "    </tr>\n",
       "    <tr>\n",
       "      <th>86</th>\n",
       "      <td>ID00214637202257820847190</td>\n",
       "      <td>18</td>\n",
       "      <td>(768, 768)</td>\n",
       "    </tr>\n",
       "    <tr>\n",
       "      <th>87</th>\n",
       "      <td>ID00216637202257988213445</td>\n",
       "      <td>21</td>\n",
       "      <td>(768, 768)</td>\n",
       "    </tr>\n",
       "    <tr>\n",
       "      <th>95</th>\n",
       "      <td>ID00229637202260254240583</td>\n",
       "      <td>17</td>\n",
       "      <td>(512, 512)</td>\n",
       "    </tr>\n",
       "    <tr>\n",
       "      <th>98</th>\n",
       "      <td>ID00234637202261078001846</td>\n",
       "      <td>38</td>\n",
       "      <td>(512, 512)</td>\n",
       "    </tr>\n",
       "    <tr>\n",
       "      <th>100</th>\n",
       "      <td>ID00240637202264138860065</td>\n",
       "      <td>33</td>\n",
       "      <td>(752, 888)</td>\n",
       "    </tr>\n",
       "    <tr>\n",
       "      <th>102</th>\n",
       "      <td>ID00242637202264759739921</td>\n",
       "      <td>18</td>\n",
       "      <td>(768, 768)</td>\n",
       "    </tr>\n",
       "    <tr>\n",
       "      <th>103</th>\n",
       "      <td>ID00248637202266698862378</td>\n",
       "      <td>16</td>\n",
       "      <td>(768, 768)</td>\n",
       "    </tr>\n",
       "    <tr>\n",
       "      <th>105</th>\n",
       "      <td>ID00251637202267455595113</td>\n",
       "      <td>28</td>\n",
       "      <td>(512, 512)</td>\n",
       "    </tr>\n",
       "    <tr>\n",
       "      <th>106</th>\n",
       "      <td>ID00255637202267923028520</td>\n",
       "      <td>30</td>\n",
       "      <td>(512, 512)</td>\n",
       "    </tr>\n",
       "    <tr>\n",
       "      <th>111</th>\n",
       "      <td>ID00276637202271694539978</td>\n",
       "      <td>25</td>\n",
       "      <td>(512, 512)</td>\n",
       "    </tr>\n",
       "    <tr>\n",
       "      <th>112</th>\n",
       "      <td>ID00279637202272164826258</td>\n",
       "      <td>30</td>\n",
       "      <td>(512, 512)</td>\n",
       "    </tr>\n",
       "    <tr>\n",
       "      <th>114</th>\n",
       "      <td>ID00285637202278913507108</td>\n",
       "      <td>31</td>\n",
       "      <td>(768, 768)</td>\n",
       "    </tr>\n",
       "    <tr>\n",
       "      <th>115</th>\n",
       "      <td>ID00288637202279148973731</td>\n",
       "      <td>26</td>\n",
       "      <td>(632, 632)</td>\n",
       "    </tr>\n",
       "    <tr>\n",
       "      <th>118</th>\n",
       "      <td>ID00294637202279614924243</td>\n",
       "      <td>35</td>\n",
       "      <td>(512, 512)</td>\n",
       "    </tr>\n",
       "    <tr>\n",
       "      <th>119</th>\n",
       "      <td>ID00296637202279895784347</td>\n",
       "      <td>31</td>\n",
       "      <td>(512, 512)</td>\n",
       "    </tr>\n",
       "    <tr>\n",
       "      <th>120</th>\n",
       "      <td>ID00298637202280361773446</td>\n",
       "      <td>33</td>\n",
       "      <td>(512, 512)</td>\n",
       "    </tr>\n",
       "    <tr>\n",
       "      <th>123</th>\n",
       "      <td>ID00307637202282126172865</td>\n",
       "      <td>29</td>\n",
       "      <td>(512, 512)</td>\n",
       "    </tr>\n",
       "    <tr>\n",
       "      <th>127</th>\n",
       "      <td>ID00319637202283897208687</td>\n",
       "      <td>38</td>\n",
       "      <td>(512, 512)</td>\n",
       "    </tr>\n",
       "    <tr>\n",
       "      <th>132</th>\n",
       "      <td>ID00335637202286784464927</td>\n",
       "      <td>30</td>\n",
       "      <td>(512, 512)</td>\n",
       "    </tr>\n",
       "    <tr>\n",
       "      <th>133</th>\n",
       "      <td>ID00336637202286801879145</td>\n",
       "      <td>33</td>\n",
       "      <td>(512, 512)</td>\n",
       "    </tr>\n",
       "    <tr>\n",
       "      <th>136</th>\n",
       "      <td>ID00340637202287399835821</td>\n",
       "      <td>30</td>\n",
       "      <td>(512, 512)</td>\n",
       "    </tr>\n",
       "    <tr>\n",
       "      <th>138</th>\n",
       "      <td>ID00342637202287526592911</td>\n",
       "      <td>27</td>\n",
       "      <td>(512, 512)</td>\n",
       "    </tr>\n",
       "    <tr>\n",
       "      <th>139</th>\n",
       "      <td>ID00343637202287577133798</td>\n",
       "      <td>39</td>\n",
       "      <td>(768, 768)</td>\n",
       "    </tr>\n",
       "    <tr>\n",
       "      <th>141</th>\n",
       "      <td>ID00351637202289476567312</td>\n",
       "      <td>29</td>\n",
       "      <td>(768, 768)</td>\n",
       "    </tr>\n",
       "    <tr>\n",
       "      <th>142</th>\n",
       "      <td>ID00355637202295106567614</td>\n",
       "      <td>37</td>\n",
       "      <td>(512, 512)</td>\n",
       "    </tr>\n",
       "    <tr>\n",
       "      <th>145</th>\n",
       "      <td>ID00364637202296074419422</td>\n",
       "      <td>33</td>\n",
       "      <td>(512, 512)</td>\n",
       "    </tr>\n",
       "    <tr>\n",
       "      <th>154</th>\n",
       "      <td>ID00383637202300493233675</td>\n",
       "      <td>32</td>\n",
       "      <td>(512, 512)</td>\n",
       "    </tr>\n",
       "    <tr>\n",
       "      <th>158</th>\n",
       "      <td>ID00398637202303897337979</td>\n",
       "      <td>49</td>\n",
       "      <td>(512, 512)</td>\n",
       "    </tr>\n",
       "    <tr>\n",
       "      <th>160</th>\n",
       "      <td>ID00401637202305320178010</td>\n",
       "      <td>24</td>\n",
       "      <td>(512, 512)</td>\n",
       "    </tr>\n",
       "    <tr>\n",
       "      <th>161</th>\n",
       "      <td>ID00405637202308359492977</td>\n",
       "      <td>30</td>\n",
       "      <td>(512, 512)</td>\n",
       "    </tr>\n",
       "    <tr>\n",
       "      <th>163</th>\n",
       "      <td>ID00408637202308839708961</td>\n",
       "      <td>36</td>\n",
       "      <td>(512, 512)</td>\n",
       "    </tr>\n",
       "    <tr>\n",
       "      <th>167</th>\n",
       "      <td>ID00419637202311204720264</td>\n",
       "      <td>28</td>\n",
       "      <td>(1100, 888)</td>\n",
       "    </tr>\n",
       "  </tbody>\n",
       "</table>\n",
       "</div>"
      ],
      "text/plain": [
       "                       patient num_slices          size\n",
       "0    ID00007637202177411956430         30    (512, 512)\n",
       "3    ID00012637202177665765362         49    (512, 512)\n",
       "4    ID00014637202177757139317         31    (843, 888)\n",
       "6    ID00019637202178323708467         29    (512, 512)\n",
       "8    ID00023637202179104603099         27    (512, 512)\n",
       "9    ID00025637202179541264076         24    (768, 768)\n",
       "17   ID00048637202185016727717         26    (512, 512)\n",
       "22   ID00062637202188654068490         30    (512, 512)\n",
       "25   ID00072637202198161894406         24    (512, 512)\n",
       "32   ID00086637202203494931510         30    (788, 888)\n",
       "33   ID00089637202204675567570         36    (768, 768)\n",
       "35   ID00093637202205278167493         37    (512, 512)\n",
       "36   ID00094637202205333947361         24    (752, 888)\n",
       "37   ID00099637202206203080121         25    (512, 512)\n",
       "45   ID00115637202211874187958         24  (1302, 1302)\n",
       "46   ID00117637202212360228007         30    (512, 512)\n",
       "51   ID00125637202218590429387         22    (512, 512)\n",
       "52   ID00126637202218610655908         17    (512, 512)\n",
       "54   ID00129637202219868188000         27    (768, 768)\n",
       "65   ID00161637202235731948764         28    (512, 512)\n",
       "66   ID00165637202237320314458         12    (512, 512)\n",
       "71   ID00172637202238316925179         31    (512, 512)\n",
       "86   ID00214637202257820847190         18    (768, 768)\n",
       "87   ID00216637202257988213445         21    (768, 768)\n",
       "95   ID00229637202260254240583         17    (512, 512)\n",
       "98   ID00234637202261078001846         38    (512, 512)\n",
       "100  ID00240637202264138860065         33    (752, 888)\n",
       "102  ID00242637202264759739921         18    (768, 768)\n",
       "103  ID00248637202266698862378         16    (768, 768)\n",
       "105  ID00251637202267455595113         28    (512, 512)\n",
       "106  ID00255637202267923028520         30    (512, 512)\n",
       "111  ID00276637202271694539978         25    (512, 512)\n",
       "112  ID00279637202272164826258         30    (512, 512)\n",
       "114  ID00285637202278913507108         31    (768, 768)\n",
       "115  ID00288637202279148973731         26    (632, 632)\n",
       "118  ID00294637202279614924243         35    (512, 512)\n",
       "119  ID00296637202279895784347         31    (512, 512)\n",
       "120  ID00298637202280361773446         33    (512, 512)\n",
       "123  ID00307637202282126172865         29    (512, 512)\n",
       "127  ID00319637202283897208687         38    (512, 512)\n",
       "132  ID00335637202286784464927         30    (512, 512)\n",
       "133  ID00336637202286801879145         33    (512, 512)\n",
       "136  ID00340637202287399835821         30    (512, 512)\n",
       "138  ID00342637202287526592911         27    (512, 512)\n",
       "139  ID00343637202287577133798         39    (768, 768)\n",
       "141  ID00351637202289476567312         29    (768, 768)\n",
       "142  ID00355637202295106567614         37    (512, 512)\n",
       "145  ID00364637202296074419422         33    (512, 512)\n",
       "154  ID00383637202300493233675         32    (512, 512)\n",
       "158  ID00398637202303897337979         49    (512, 512)\n",
       "160  ID00401637202305320178010         24    (512, 512)\n",
       "161  ID00405637202308359492977         30    (512, 512)\n",
       "163  ID00408637202308839708961         36    (512, 512)\n",
       "167  ID00419637202311204720264         28   (1100, 888)"
      ]
     },
     "execution_count": 42,
     "metadata": {},
     "output_type": "execute_result"
    }
   ],
   "source": [
    "#I am going to stick with the first method, probably going to omit the ones with greater than 600 slices\n",
    "\n",
    "df[df['num_slices'] <50] # going to check out directory and make sure i didnt make a mistake with the processing\n",
    "#yep there are definatly that amount of files in there\n",
    "\n"
   ]
  },
  {
   "cell_type": "code",
   "execution_count": 43,
   "metadata": {
    "scrolled": true
   },
   "outputs": [
    {
     "data": {
      "text/plain": [
       "<AxesSubplot:>"
      ]
     },
     "execution_count": 43,
     "metadata": {},
     "output_type": "execute_result"
    },
    {
     "data": {
      "image/png": "[encoded data removed]",
      "text/plain": [
       "<Figure size 432x288 with 1 Axes>"
      ]
     },
     "metadata": {
      "needs_background": "light"
     },
     "output_type": "display_data"
    }
   ],
   "source": [
    "df.num_slices.sort_values().plot.bar() # plot to get a general idea of where everything lands"
   ]
  },
  {
   "cell_type": "markdown",
   "metadata": {},
   "source": [
    "#### Below we will find the slope of FVC for each patient, and then append a 0 or 1 as a label. 0 being no decrease in FVC and 1 meaning their FVC did decrease."
   ]
  },
  {
   "cell_type": "code",
   "execution_count": 44,
   "metadata": {},
   "outputs": [],
   "source": [
    "import pandas as pd\n",
    "import numpy as np\n",
    "df_train = pd.read_csv('F:/OISC/osic-pulmonary-fibrosis-progression/train.csv')\n"
   ]
  },
  {
   "cell_type": "code",
   "execution_count": 45,
   "metadata": {},
   "outputs": [
    {
     "data": {
      "text/html": [
       "<div>\n",
       "<style scoped>\n",
       "    .dataframe tbody tr th:only-of-type {\n",
       "        vertical-align: middle;\n",
       "    }\n",
       "\n",
       "    .dataframe tbody tr th {\n",
       "        vertical-align: top;\n",
       "    }\n",
       "\n",
       "    .dataframe thead th {\n",
       "        text-align: right;\n",
       "    }\n",
       "</style>\n",
       "<table border=\"1\" class=\"dataframe\">\n",
       "  <thead>\n",
       "    <tr style=\"text-align: right;\">\n",
       "      <th></th>\n",
       "      <th>Patient</th>\n",
       "      <th>Weeks</th>\n",
       "      <th>FVC</th>\n",
       "      <th>Percent</th>\n",
       "      <th>Age</th>\n",
       "      <th>Sex</th>\n",
       "      <th>SmokingStatus</th>\n",
       "    </tr>\n",
       "  </thead>\n",
       "  <tbody>\n",
       "    <tr>\n",
       "      <th>0</th>\n",
       "      <td>ID00007637202177411956430</td>\n",
       "      <td>-4</td>\n",
       "      <td>2315</td>\n",
       "      <td>58.253649</td>\n",
       "      <td>79</td>\n",
       "      <td>Male</td>\n",
       "      <td>Ex-smoker</td>\n",
       "    </tr>\n",
       "    <tr>\n",
       "      <th>1</th>\n",
       "      <td>ID00007637202177411956430</td>\n",
       "      <td>5</td>\n",
       "      <td>2214</td>\n",
       "      <td>55.712129</td>\n",
       "      <td>79</td>\n",
       "      <td>Male</td>\n",
       "      <td>Ex-smoker</td>\n",
       "    </tr>\n",
       "    <tr>\n",
       "      <th>2</th>\n",
       "      <td>ID00007637202177411956430</td>\n",
       "      <td>7</td>\n",
       "      <td>2061</td>\n",
       "      <td>51.862104</td>\n",
       "      <td>79</td>\n",
       "      <td>Male</td>\n",
       "      <td>Ex-smoker</td>\n",
       "    </tr>\n",
       "    <tr>\n",
       "      <th>3</th>\n",
       "      <td>ID00007637202177411956430</td>\n",
       "      <td>9</td>\n",
       "      <td>2144</td>\n",
       "      <td>53.950679</td>\n",
       "      <td>79</td>\n",
       "      <td>Male</td>\n",
       "      <td>Ex-smoker</td>\n",
       "    </tr>\n",
       "    <tr>\n",
       "      <th>4</th>\n",
       "      <td>ID00007637202177411956430</td>\n",
       "      <td>11</td>\n",
       "      <td>2069</td>\n",
       "      <td>52.063412</td>\n",
       "      <td>79</td>\n",
       "      <td>Male</td>\n",
       "      <td>Ex-smoker</td>\n",
       "    </tr>\n",
       "  </tbody>\n",
       "</table>\n",
       "</div>"
      ],
      "text/plain": [
       "                     Patient  Weeks   FVC    Percent  Age   Sex SmokingStatus\n",
       "0  ID00007637202177411956430     -4  2315  58.253649   79  Male     Ex-smoker\n",
       "1  ID00007637202177411956430      5  2214  55.712129   79  Male     Ex-smoker\n",
       "2  ID00007637202177411956430      7  2061  51.862104   79  Male     Ex-smoker\n",
       "3  ID00007637202177411956430      9  2144  53.950679   79  Male     Ex-smoker\n",
       "4  ID00007637202177411956430     11  2069  52.063412   79  Male     Ex-smoker"
      ]
     },
     "execution_count": 45,
     "metadata": {},
     "output_type": "execute_result"
    }
   ],
   "source": [
    "df_train.head()"
   ]
  },
  {
   "cell_type": "code",
   "execution_count": 46,
   "metadata": {},
   "outputs": [
    {
     "name": "stdout",
     "output_type": "stream",
     "text": [
      "0    -4\n",
      "1     5\n",
      "2     7\n",
      "3     9\n",
      "4    11\n",
      "5    17\n",
      "6    29\n",
      "7    41\n",
      "8    57\n",
      "Name: Weeks, dtype: int64\n",
      "0    2315\n",
      "1    2214\n",
      "2    2061\n",
      "3    2144\n",
      "4    2069\n",
      "5    2101\n",
      "6    2000\n",
      "7    2064\n",
      "8    2057\n",
      "Name: FVC, dtype: int64\n"
     ]
    },
    {
     "ename": "LinAlgError",
     "evalue": "SVD did not converge in Linear Least Squares",
     "output_type": "error",
     "traceback": [
      "\u001b[1;31m---------------------------------------------------------------------------\u001b[0m",
      "\u001b[1;31mLinAlgError\u001b[0m                               Traceback (most recent call last)",
      "\u001b[1;32m<ipython-input-46-6f10948c07c1>\u001b[0m in \u001b[0;36m<module>\u001b[1;34m\u001b[0m\n\u001b[0;32m      7\u001b[0m \u001b[0mprint\u001b[0m\u001b[1;33m(\u001b[0m\u001b[0mx\u001b[0m\u001b[1;33m)\u001b[0m\u001b[1;33m\u001b[0m\u001b[1;33m\u001b[0m\u001b[0m\n\u001b[0;32m      8\u001b[0m \u001b[0mprint\u001b[0m\u001b[1;33m(\u001b[0m\u001b[0my\u001b[0m\u001b[1;33m)\u001b[0m\u001b[1;33m\u001b[0m\u001b[1;33m\u001b[0m\u001b[0m\n\u001b[1;32m----> 9\u001b[1;33m \u001b[0mslope\u001b[0m \u001b[1;33m=\u001b[0m \u001b[0mnp\u001b[0m\u001b[1;33m.\u001b[0m\u001b[0mpolyfit\u001b[0m\u001b[1;33m(\u001b[0m\u001b[0mx\u001b[0m\u001b[1;33m,\u001b[0m \u001b[0my\u001b[0m\u001b[1;33m,\u001b[0m \u001b[1;36m1\u001b[0m\u001b[1;33m)\u001b[0m\u001b[1;33m[\u001b[0m\u001b[1;36m0\u001b[0m\u001b[1;33m]\u001b[0m\u001b[1;33m\u001b[0m\u001b[1;33m\u001b[0m\u001b[0m\n\u001b[0m\u001b[0;32m     10\u001b[0m \u001b[0mprint\u001b[0m\u001b[1;33m(\u001b[0m\u001b[0mslope\u001b[0m \u001b[1;33m)\u001b[0m\u001b[1;33m\u001b[0m\u001b[1;33m\u001b[0m\u001b[0m\n\u001b[0;32m     11\u001b[0m \u001b[1;31m#appends the slope to the sata frame in a new column\u001b[0m\u001b[1;33m\u001b[0m\u001b[1;33m\u001b[0m\u001b[1;33m\u001b[0m\u001b[0m\n",
      "\u001b[1;32m<__array_function__ internals>\u001b[0m in \u001b[0;36mpolyfit\u001b[1;34m(*args, **kwargs)\u001b[0m\n",
      "\u001b[1;32mc:\\users\\tom\\appdata\\local\\programs\\python\\python36\\lib\\site-packages\\numpy\\lib\\polynomial.py\u001b[0m in \u001b[0;36mpolyfit\u001b[1;34m(x, y, deg, rcond, full, w, cov)\u001b[0m\n\u001b[0;32m    629\u001b[0m     \u001b[0mscale\u001b[0m \u001b[1;33m=\u001b[0m \u001b[0mNX\u001b[0m\u001b[1;33m.\u001b[0m\u001b[0msqrt\u001b[0m\u001b[1;33m(\u001b[0m\u001b[1;33m(\u001b[0m\u001b[0mlhs\u001b[0m\u001b[1;33m*\u001b[0m\u001b[0mlhs\u001b[0m\u001b[1;33m)\u001b[0m\u001b[1;33m.\u001b[0m\u001b[0msum\u001b[0m\u001b[1;33m(\u001b[0m\u001b[0maxis\u001b[0m\u001b[1;33m=\u001b[0m\u001b[1;36m0\u001b[0m\u001b[1;33m)\u001b[0m\u001b[1;33m)\u001b[0m\u001b[1;33m\u001b[0m\u001b[1;33m\u001b[0m\u001b[0m\n\u001b[0;32m    630\u001b[0m     \u001b[0mlhs\u001b[0m \u001b[1;33m/=\u001b[0m \u001b[0mscale\u001b[0m\u001b[1;33m\u001b[0m\u001b[1;33m\u001b[0m\u001b[0m\n\u001b[1;32m--> 631\u001b[1;33m     \u001b[0mc\u001b[0m\u001b[1;33m,\u001b[0m \u001b[0mresids\u001b[0m\u001b[1;33m,\u001b[0m \u001b[0mrank\u001b[0m\u001b[1;33m,\u001b[0m \u001b[0ms\u001b[0m \u001b[1;33m=\u001b[0m \u001b[0mlstsq\u001b[0m\u001b[1;33m(\u001b[0m\u001b[0mlhs\u001b[0m\u001b[1;33m,\u001b[0m \u001b[0mrhs\u001b[0m\u001b[1;33m,\u001b[0m \u001b[0mrcond\u001b[0m\u001b[1;33m)\u001b[0m\u001b[1;33m\u001b[0m\u001b[1;33m\u001b[0m\u001b[0m\n\u001b[0m\u001b[0;32m    632\u001b[0m     \u001b[0mc\u001b[0m \u001b[1;33m=\u001b[0m \u001b[1;33m(\u001b[0m\u001b[0mc\u001b[0m\u001b[1;33m.\u001b[0m\u001b[0mT\u001b[0m\u001b[1;33m/\u001b[0m\u001b[0mscale\u001b[0m\u001b[1;33m)\u001b[0m\u001b[1;33m.\u001b[0m\u001b[0mT\u001b[0m  \u001b[1;31m# broadcast scale coefficients\u001b[0m\u001b[1;33m\u001b[0m\u001b[1;33m\u001b[0m\u001b[0m\n\u001b[0;32m    633\u001b[0m \u001b[1;33m\u001b[0m\u001b[0m\n",
      "\u001b[1;32m<__array_function__ internals>\u001b[0m in \u001b[0;36mlstsq\u001b[1;34m(*args, **kwargs)\u001b[0m\n",
      "\u001b[1;32mc:\\users\\tom\\appdata\\local\\programs\\python\\python36\\lib\\site-packages\\numpy\\linalg\\linalg.py\u001b[0m in \u001b[0;36mlstsq\u001b[1;34m(a, b, rcond)\u001b[0m\n\u001b[0;32m   2257\u001b[0m         \u001b[1;31m# lapack can't handle n_rhs = 0 - so allocate the array one larger in that axis\u001b[0m\u001b[1;33m\u001b[0m\u001b[1;33m\u001b[0m\u001b[1;33m\u001b[0m\u001b[0m\n\u001b[0;32m   2258\u001b[0m         \u001b[0mb\u001b[0m \u001b[1;33m=\u001b[0m \u001b[0mzeros\u001b[0m\u001b[1;33m(\u001b[0m\u001b[0mb\u001b[0m\u001b[1;33m.\u001b[0m\u001b[0mshape\u001b[0m\u001b[1;33m[\u001b[0m\u001b[1;33m:\u001b[0m\u001b[1;33m-\u001b[0m\u001b[1;36m2\u001b[0m\u001b[1;33m]\u001b[0m \u001b[1;33m+\u001b[0m \u001b[1;33m(\u001b[0m\u001b[0mm\u001b[0m\u001b[1;33m,\u001b[0m \u001b[0mn_rhs\u001b[0m \u001b[1;33m+\u001b[0m \u001b[1;36m1\u001b[0m\u001b[1;33m)\u001b[0m\u001b[1;33m,\u001b[0m \u001b[0mdtype\u001b[0m\u001b[1;33m=\u001b[0m\u001b[0mb\u001b[0m\u001b[1;33m.\u001b[0m\u001b[0mdtype\u001b[0m\u001b[1;33m)\u001b[0m\u001b[1;33m\u001b[0m\u001b[1;33m\u001b[0m\u001b[0m\n\u001b[1;32m-> 2259\u001b[1;33m     \u001b[0mx\u001b[0m\u001b[1;33m,\u001b[0m \u001b[0mresids\u001b[0m\u001b[1;33m,\u001b[0m \u001b[0mrank\u001b[0m\u001b[1;33m,\u001b[0m \u001b[0ms\u001b[0m \u001b[1;33m=\u001b[0m \u001b[0mgufunc\u001b[0m\u001b[1;33m(\u001b[0m\u001b[0ma\u001b[0m\u001b[1;33m,\u001b[0m \u001b[0mb\u001b[0m\u001b[1;33m,\u001b[0m \u001b[0mrcond\u001b[0m\u001b[1;33m,\u001b[0m \u001b[0msignature\u001b[0m\u001b[1;33m=\u001b[0m\u001b[0msignature\u001b[0m\u001b[1;33m,\u001b[0m \u001b[0mextobj\u001b[0m\u001b[1;33m=\u001b[0m\u001b[0mextobj\u001b[0m\u001b[1;33m)\u001b[0m\u001b[1;33m\u001b[0m\u001b[1;33m\u001b[0m\u001b[0m\n\u001b[0m\u001b[0;32m   2260\u001b[0m     \u001b[1;32mif\u001b[0m \u001b[0mm\u001b[0m \u001b[1;33m==\u001b[0m \u001b[1;36m0\u001b[0m\u001b[1;33m:\u001b[0m\u001b[1;33m\u001b[0m\u001b[1;33m\u001b[0m\u001b[0m\n\u001b[0;32m   2261\u001b[0m         \u001b[0mx\u001b[0m\u001b[1;33m[\u001b[0m\u001b[1;33m...\u001b[0m\u001b[1;33m]\u001b[0m \u001b[1;33m=\u001b[0m \u001b[1;36m0\u001b[0m\u001b[1;33m\u001b[0m\u001b[1;33m\u001b[0m\u001b[0m\n",
      "\u001b[1;32mc:\\users\\tom\\appdata\\local\\programs\\python\\python36\\lib\\site-packages\\numpy\\linalg\\linalg.py\u001b[0m in \u001b[0;36m_raise_linalgerror_lstsq\u001b[1;34m(err, flag)\u001b[0m\n\u001b[0;32m    107\u001b[0m \u001b[1;33m\u001b[0m\u001b[0m\n\u001b[0;32m    108\u001b[0m \u001b[1;32mdef\u001b[0m \u001b[0m_raise_linalgerror_lstsq\u001b[0m\u001b[1;33m(\u001b[0m\u001b[0merr\u001b[0m\u001b[1;33m,\u001b[0m \u001b[0mflag\u001b[0m\u001b[1;33m)\u001b[0m\u001b[1;33m:\u001b[0m\u001b[1;33m\u001b[0m\u001b[1;33m\u001b[0m\u001b[0m\n\u001b[1;32m--> 109\u001b[1;33m     \u001b[1;32mraise\u001b[0m \u001b[0mLinAlgError\u001b[0m\u001b[1;33m(\u001b[0m\u001b[1;34m\"SVD did not converge in Linear Least Squares\"\u001b[0m\u001b[1;33m)\u001b[0m\u001b[1;33m\u001b[0m\u001b[1;33m\u001b[0m\u001b[0m\n\u001b[0m\u001b[0;32m    110\u001b[0m \u001b[1;33m\u001b[0m\u001b[0m\n\u001b[0;32m    111\u001b[0m \u001b[1;32mdef\u001b[0m \u001b[0mget_linalg_error_extobj\u001b[0m\u001b[1;33m(\u001b[0m\u001b[0mcallback\u001b[0m\u001b[1;33m)\u001b[0m\u001b[1;33m:\u001b[0m\u001b[1;33m\u001b[0m\u001b[1;33m\u001b[0m\u001b[0m\n",
      "\u001b[1;31mLinAlgError\u001b[0m: SVD did not converge in Linear Least Squares"
     ]
    }
   ],
   "source": [
    "#slope for first patient\n",
    "patient = df_train['Patient'][0]\n",
    "\n",
    "#basically y=mx+b and m is our slope, we will use numpy to calculate the slope\n",
    "x = df_train[df_train[\"Patient\"]==patient][\"Weeks\"]\n",
    "y = df_train[df_train[\"Patient\"]==patient][\"FVC\"]\n",
    "print(x)\n",
    "print(y)\n",
    "slope = np.polyfit(x, y, 1)[0]\n",
    "print(slope )\n",
    "#appends the slope to the sata frame in a new column\n",
    "df_train.loc[df_train[\"Patient\"]==patient, 'Slope'] = slope "
   ]
  },
  {
   "cell_type": "code",
   "execution_count": 47,
   "metadata": {},
   "outputs": [],
   "source": [
    "#gotta be better way/ proper way in pandas than with loop\n",
    "#get slope of all patients\n",
    "for patient in patients:\n",
    "    x = df_train[df_train[\"Patient\"]==patient][\"Weeks\"] \n",
    "    y = df_train[df_train[\"Patient\"]==patient][\"FVC\"]\n",
    "    slope = np.polyfit(x, y, 1)[0]\n",
    "    df_train.loc[df_train[\"Patient\"]==patient, 'Slope'] = slope"
   ]
  },
  {
   "cell_type": "code",
   "execution_count": 48,
   "metadata": {},
   "outputs": [],
   "source": [
    "#deleate columns that are no longer needed\n",
    "del df_train['Weeks']\n",
    "del df_train['FVC']\n",
    "del df_train[\"Percent\"]"
   ]
  },
  {
   "cell_type": "code",
   "execution_count": 49,
   "metadata": {},
   "outputs": [],
   "source": [
    "#because we deleted those columns, we have alot of duplicate rows, this will remove them\n",
    "df_train = df_train.drop_duplicates()"
   ]
  },
  {
   "cell_type": "code",
   "execution_count": 51,
   "metadata": {},
   "outputs": [
    {
     "data": {
      "text/html": [
       "<div>\n",
       "<style scoped>\n",
       "    .dataframe tbody tr th:only-of-type {\n",
       "        vertical-align: middle;\n",
       "    }\n",
       "\n",
       "    .dataframe tbody tr th {\n",
       "        vertical-align: top;\n",
       "    }\n",
       "\n",
       "    .dataframe thead th {\n",
       "        text-align: right;\n",
       "    }\n",
       "</style>\n",
       "<table border=\"1\" class=\"dataframe\">\n",
       "  <thead>\n",
       "    <tr style=\"text-align: right;\">\n",
       "      <th></th>\n",
       "      <th>Patient</th>\n",
       "      <th>Age</th>\n",
       "      <th>Sex</th>\n",
       "      <th>SmokingStatus</th>\n",
       "      <th>Slope</th>\n",
       "    </tr>\n",
       "  </thead>\n",
       "  <tbody>\n",
       "    <tr>\n",
       "      <th>0</th>\n",
       "      <td>ID00007637202177411956430</td>\n",
       "      <td>79</td>\n",
       "      <td>Male</td>\n",
       "      <td>Ex-smoker</td>\n",
       "      <td>-3.167126</td>\n",
       "    </tr>\n",
       "    <tr>\n",
       "      <th>9</th>\n",
       "      <td>ID00009637202177434476278</td>\n",
       "      <td>69</td>\n",
       "      <td>Male</td>\n",
       "      <td>Ex-smoker</td>\n",
       "      <td>-9.379955</td>\n",
       "    </tr>\n",
       "    <tr>\n",
       "      <th>18</th>\n",
       "      <td>ID00010637202177584971671</td>\n",
       "      <td>60</td>\n",
       "      <td>Male</td>\n",
       "      <td>Ex-smoker</td>\n",
       "      <td>-17.042803</td>\n",
       "    </tr>\n",
       "    <tr>\n",
       "      <th>27</th>\n",
       "      <td>ID00011637202177653955184</td>\n",
       "      <td>72</td>\n",
       "      <td>Male</td>\n",
       "      <td>Ex-smoker</td>\n",
       "      <td>-4.548925</td>\n",
       "    </tr>\n",
       "    <tr>\n",
       "      <th>36</th>\n",
       "      <td>ID00012637202177665765362</td>\n",
       "      <td>65</td>\n",
       "      <td>Male</td>\n",
       "      <td>Never smoked</td>\n",
       "      <td>-8.543079</td>\n",
       "    </tr>\n",
       "  </tbody>\n",
       "</table>\n",
       "</div>"
      ],
      "text/plain": [
       "                      Patient  Age   Sex SmokingStatus      Slope\n",
       "0   ID00007637202177411956430   79  Male     Ex-smoker  -3.167126\n",
       "9   ID00009637202177434476278   69  Male     Ex-smoker  -9.379955\n",
       "18  ID00010637202177584971671   60  Male     Ex-smoker -17.042803\n",
       "27  ID00011637202177653955184   72  Male     Ex-smoker  -4.548925\n",
       "36  ID00012637202177665765362   65  Male  Never smoked  -8.543079"
      ]
     },
     "execution_count": 51,
     "metadata": {},
     "output_type": "execute_result"
    }
   ],
   "source": [
    "#determine what is considered decreasing FVC\n",
    "df_train.head()"
   ]
  },
  {
   "cell_type": "code",
   "execution_count": 53,
   "metadata": {},
   "outputs": [
    {
     "data": {
      "text/plain": [
       "<AxesSubplot:>"
      ]
     },
     "execution_count": 53,
     "metadata": {},
     "output_type": "execute_result"
    },
    {
     "data": {
      "image/png": "[encoded data removed]",
      "text/plain": [
       "<Figure size 432x288 with 1 Axes>"
      ]
     },
     "metadata": {
      "needs_background": "light"
     },
     "output_type": "display_data"
    }
   ],
   "source": [
    "#lets just plot this and bin\n",
    "df_train.Slope.sort_values().plot.bar()\n",
    "\n",
    "### ooo pretty\n",
    "## those with the high FVC score increase, I wonder if they stopped smoking or something"
   ]
  },
  {
   "cell_type": "code",
   "execution_count": 54,
   "metadata": {},
   "outputs": [
    {
     "name": "stdout",
     "output_type": "stream",
     "text": [
      "-3.9091097159817165\n",
      "-4.5243014424362915\n"
     ]
    }
   ],
   "source": [
    "print(df_train.Slope.median())\n",
    "print(df_train.Slope.mean())\n",
    "# I am going to choose -3% as the split point\n",
    "\n",
    "#greater than -3% means no decrease in FVC = 0\n",
    "#less than -3% means decrease = 1"
   ]
  },
  {
   "cell_type": "code",
   "execution_count": 55,
   "metadata": {},
   "outputs": [
    {
     "data": {
      "text/html": [
       "<div>\n",
       "<style scoped>\n",
       "    .dataframe tbody tr th:only-of-type {\n",
       "        vertical-align: middle;\n",
       "    }\n",
       "\n",
       "    .dataframe tbody tr th {\n",
       "        vertical-align: top;\n",
       "    }\n",
       "\n",
       "    .dataframe thead th {\n",
       "        text-align: right;\n",
       "    }\n",
       "</style>\n",
       "<table border=\"1\" class=\"dataframe\">\n",
       "  <thead>\n",
       "    <tr style=\"text-align: right;\">\n",
       "      <th></th>\n",
       "      <th>Patient</th>\n",
       "      <th>Age</th>\n",
       "      <th>Sex</th>\n",
       "      <th>SmokingStatus</th>\n",
       "      <th>Slope</th>\n",
       "    </tr>\n",
       "  </thead>\n",
       "  <tbody>\n",
       "    <tr>\n",
       "      <th>80</th>\n",
       "      <td>ID00023637202179104603099</td>\n",
       "      <td>71</td>\n",
       "      <td>Female</td>\n",
       "      <td>Ex-smoker</td>\n",
       "      <td>-2.549152</td>\n",
       "    </tr>\n",
       "    <tr>\n",
       "      <th>98</th>\n",
       "      <td>ID00026637202179561894768</td>\n",
       "      <td>57</td>\n",
       "      <td>Male</td>\n",
       "      <td>Ex-smoker</td>\n",
       "      <td>-2.967859</td>\n",
       "    </tr>\n",
       "    <tr>\n",
       "      <th>142</th>\n",
       "      <td>ID00038637202182690843176</td>\n",
       "      <td>71</td>\n",
       "      <td>Male</td>\n",
       "      <td>Ex-smoker</td>\n",
       "      <td>-0.800797</td>\n",
       "    </tr>\n",
       "    <tr>\n",
       "      <th>151</th>\n",
       "      <td>ID00042637202184406822975</td>\n",
       "      <td>58</td>\n",
       "      <td>Male</td>\n",
       "      <td>Ex-smoker</td>\n",
       "      <td>0.598134</td>\n",
       "    </tr>\n",
       "    <tr>\n",
       "      <th>166</th>\n",
       "      <td>ID00048637202185016727717</td>\n",
       "      <td>70</td>\n",
       "      <td>Female</td>\n",
       "      <td>Never smoked</td>\n",
       "      <td>-1.190408</td>\n",
       "    </tr>\n",
       "    <tr>\n",
       "      <th>...</th>\n",
       "      <td>...</td>\n",
       "      <td>...</td>\n",
       "      <td>...</td>\n",
       "      <td>...</td>\n",
       "      <td>...</td>\n",
       "    </tr>\n",
       "    <tr>\n",
       "      <th>1477</th>\n",
       "      <td>ID00411637202309374271828</td>\n",
       "      <td>65</td>\n",
       "      <td>Male</td>\n",
       "      <td>Ex-smoker</td>\n",
       "      <td>-0.956803</td>\n",
       "    </tr>\n",
       "    <tr>\n",
       "      <th>1495</th>\n",
       "      <td>ID00417637202310901214011</td>\n",
       "      <td>66</td>\n",
       "      <td>Male</td>\n",
       "      <td>Never smoked</td>\n",
       "      <td>-1.161601</td>\n",
       "    </tr>\n",
       "    <tr>\n",
       "      <th>1504</th>\n",
       "      <td>ID00419637202311204720264</td>\n",
       "      <td>73</td>\n",
       "      <td>Male</td>\n",
       "      <td>Ex-smoker</td>\n",
       "      <td>-2.135975</td>\n",
       "    </tr>\n",
       "    <tr>\n",
       "      <th>1513</th>\n",
       "      <td>ID00421637202311550012437</td>\n",
       "      <td>68</td>\n",
       "      <td>Male</td>\n",
       "      <td>Ex-smoker</td>\n",
       "      <td>-1.554030</td>\n",
       "    </tr>\n",
       "    <tr>\n",
       "      <th>1540</th>\n",
       "      <td>ID00426637202313170790466</td>\n",
       "      <td>73</td>\n",
       "      <td>Male</td>\n",
       "      <td>Never smoked</td>\n",
       "      <td>-1.081317</td>\n",
       "    </tr>\n",
       "  </tbody>\n",
       "</table>\n",
       "<p>73 rows × 5 columns</p>\n",
       "</div>"
      ],
      "text/plain": [
       "                        Patient  Age     Sex SmokingStatus     Slope\n",
       "80    ID00023637202179104603099   71  Female     Ex-smoker -2.549152\n",
       "98    ID00026637202179561894768   57    Male     Ex-smoker -2.967859\n",
       "142   ID00038637202182690843176   71    Male     Ex-smoker -0.800797\n",
       "151   ID00042637202184406822975   58    Male     Ex-smoker  0.598134\n",
       "166   ID00048637202185016727717   70  Female  Never smoked -1.190408\n",
       "...                         ...  ...     ...           ...       ...\n",
       "1477  ID00411637202309374271828   65    Male     Ex-smoker -0.956803\n",
       "1495  ID00417637202310901214011   66    Male  Never smoked -1.161601\n",
       "1504  ID00419637202311204720264   73    Male     Ex-smoker -2.135975\n",
       "1513  ID00421637202311550012437   68    Male     Ex-smoker -1.554030\n",
       "1540  ID00426637202313170790466   73    Male  Never smoked -1.081317\n",
       "\n",
       "[73 rows x 5 columns]"
      ]
     },
     "execution_count": 55,
     "metadata": {},
     "output_type": "execute_result"
    }
   ],
   "source": [
    "df_train[df_train['Slope'] > -3]"
   ]
  },
  {
   "cell_type": "code",
   "execution_count": 56,
   "metadata": {},
   "outputs": [
    {
     "data": {
      "text/html": [
       "<div>\n",
       "<style scoped>\n",
       "    .dataframe tbody tr th:only-of-type {\n",
       "        vertical-align: middle;\n",
       "    }\n",
       "\n",
       "    .dataframe tbody tr th {\n",
       "        vertical-align: top;\n",
       "    }\n",
       "\n",
       "    .dataframe thead th {\n",
       "        text-align: right;\n",
       "    }\n",
       "</style>\n",
       "<table border=\"1\" class=\"dataframe\">\n",
       "  <thead>\n",
       "    <tr style=\"text-align: right;\">\n",
       "      <th></th>\n",
       "      <th>Patient</th>\n",
       "      <th>Age</th>\n",
       "      <th>Sex</th>\n",
       "      <th>SmokingStatus</th>\n",
       "      <th>Slope</th>\n",
       "      <th>label</th>\n",
       "    </tr>\n",
       "  </thead>\n",
       "  <tbody>\n",
       "    <tr>\n",
       "      <th>0</th>\n",
       "      <td>ID00007637202177411956430</td>\n",
       "      <td>79</td>\n",
       "      <td>Male</td>\n",
       "      <td>Ex-smoker</td>\n",
       "      <td>-3.167126</td>\n",
       "      <td>1</td>\n",
       "    </tr>\n",
       "    <tr>\n",
       "      <th>9</th>\n",
       "      <td>ID00009637202177434476278</td>\n",
       "      <td>69</td>\n",
       "      <td>Male</td>\n",
       "      <td>Ex-smoker</td>\n",
       "      <td>-9.379955</td>\n",
       "      <td>1</td>\n",
       "    </tr>\n",
       "    <tr>\n",
       "      <th>18</th>\n",
       "      <td>ID00010637202177584971671</td>\n",
       "      <td>60</td>\n",
       "      <td>Male</td>\n",
       "      <td>Ex-smoker</td>\n",
       "      <td>-17.042803</td>\n",
       "      <td>1</td>\n",
       "    </tr>\n",
       "    <tr>\n",
       "      <th>27</th>\n",
       "      <td>ID00011637202177653955184</td>\n",
       "      <td>72</td>\n",
       "      <td>Male</td>\n",
       "      <td>Ex-smoker</td>\n",
       "      <td>-4.548925</td>\n",
       "      <td>1</td>\n",
       "    </tr>\n",
       "    <tr>\n",
       "      <th>36</th>\n",
       "      <td>ID00012637202177665765362</td>\n",
       "      <td>65</td>\n",
       "      <td>Male</td>\n",
       "      <td>Never smoked</td>\n",
       "      <td>-8.543079</td>\n",
       "      <td>1</td>\n",
       "    </tr>\n",
       "  </tbody>\n",
       "</table>\n",
       "</div>"
      ],
      "text/plain": [
       "                      Patient  Age   Sex SmokingStatus      Slope  label\n",
       "0   ID00007637202177411956430   79  Male     Ex-smoker  -3.167126      1\n",
       "9   ID00009637202177434476278   69  Male     Ex-smoker  -9.379955      1\n",
       "18  ID00010637202177584971671   60  Male     Ex-smoker -17.042803      1\n",
       "27  ID00011637202177653955184   72  Male     Ex-smoker  -4.548925      1\n",
       "36  ID00012637202177665765362   65  Male  Never smoked  -8.543079      1"
      ]
     },
     "execution_count": 56,
     "metadata": {},
     "output_type": "execute_result"
    }
   ],
   "source": [
    "#thanks to https://stackoverflow.com/questions/50375985/pandas-add-column-with-value-based-on-condition-based-on-other-columns\n",
    "#google everything lol\n",
    "\n",
    "df_train['label'] = 0\n",
    "df_train.loc[df_train['Slope'] < -3,'label'] = 1\n",
    "df_train.head()\n",
    "\n",
    "#gonna just ignore those NaN values for now"
   ]
  },
  {
   "cell_type": "code",
   "execution_count": 57,
   "metadata": {},
   "outputs": [
    {
     "data": {
      "text/plain": [
       "1540    0\n",
       "Name: label, dtype: int64"
      ]
     },
     "execution_count": 57,
     "metadata": {},
     "output_type": "execute_result"
    }
   ],
   "source": [
    "df_train[df_train['Patient'] == patient]['label']"
   ]
  },
  {
   "cell_type": "markdown",
   "metadata": {},
   "source": [
    "### Below, we will create the process of configuring the data for the nural network.\n",
    "#### Per our meeting on Oct 10, we will initially focus on preparing the dicom images for a nural network of some sort. Initially we will just throw all the images at the nural network rather than associate them with a patient. Additionally we will use binary classification to simplify things 0 will mean that that image did not see a decrease in FVC, 1 will mean the FVC did decrease.\n",
    "#### Here is a breakdown of what we will want to do to get our data in a format for a nural network.\n",
    "\n",
    "\n",
    "<ol>\n",
    "<li>Sort the Slices</li>\n",
    "<li>Get the size of all the slices (I previously found the minimum to be 512 x 512)</li>\n",
    "<li>Resize the slices to the minimum size (This turns out to be step 4)</li>\n",
    "<li>Normalize the slices so they are within the HU range (This turns out to be step 3)</li>\n",
    "<li>Append the new slices to a list with its label [slice, label]</li>\n",
    "<li>Save this new list as a numpy array</li>\n",
    "<li>Use the train nural network - seen in another notebook</li>\n",
    "</ol>\n",
    "\n",
    "#### First, lets get familiar with pixel data arrays\n",
    "\n",
    "\n",
    "\n",
    "\n",
    "\n"
   ]
  },
  {
   "cell_type": "code",
   "execution_count": 48,
   "metadata": {},
   "outputs": [],
   "source": [
    "#each dicom image has what is called a pixel array, this is what we plotted in the exploration notbook\n",
    "#a pixel array is basically what the computer uses to create an image that we see on our screens and with our eyes\n",
    "#a nural network just looks at the pixel array, most image processing is not really image based, but numerical\n",
    "#all images have pixels and those pixels have numerical values associated with them\n",
    "\n",
    "import pydicom\n",
    "import pandas as pd\n",
    "import os\n",
    "from tqdm import tqdm\n",
    "\n",
    "data_dir = 'F:/OISC/osic-pulmonary-fibrosis-progression/train/'\n",
    "patients = os.listdir(data_dir)\n",
    "\n",
    "#lets use our 5th patient as an example, this will help me explain how the pixel array works\n",
    "\n",
    "p = patients[4]\n",
    "\n",
    "\n",
    "#sort the slices and get the first slice of the dicom images\n",
    "path = data_dir + p \n",
    "slices = [pydicom.read_file(path + '/' + s) for s in os.listdir(path)] \n",
    "slices.sort(key = lambda x: float(x.ImagePositionPatient[2])) #step 1\n",
    "\n",
    "s = slices[0]"
   ]
  },
  {
   "cell_type": "code",
   "execution_count": 49,
   "metadata": {},
   "outputs": [
    {
     "data": {
      "text/plain": [
       "Dataset.file_meta -------------------------------\n",
       "(0002, 0000) File Meta Information Group Length  UL: 200\n",
       "(0002, 0001) File Meta Information Version       OB: b'\\x00\\x01'\n",
       "(0002, 0002) Media Storage SOP Class UID         UI: CT Image Storage\n",
       "(0002, 0003) Media Storage SOP Instance UID      UI: 2.25.146384665664824615103282803643723619214\n",
       "(0002, 0010) Transfer Syntax UID                 UI: Explicit VR Little Endian\n",
       "(0002, 0012) Implementation Class UID            UI: 1.2.276.0.7230010.3.0.3.6.1\n",
       "(0002, 0013) Implementation Version Name         SH: 'OSIRIX_361'\n",
       "(0002, 0016) Source Application Entity Title     AE: 'ANONYMOUS'\n",
       "-------------------------------------------------\n",
       "(0008, 0005) Specific Character Set              CS: 'ISO_IR 100'\n",
       "(0008, 0008) Image Type                          CS: ['ORIGINAL', 'PRIMARY', 'AXIAL']\n",
       "(0008, 0018) SOP Instance UID                    UI: 2.25.146384665664824615103282803643723619214\n",
       "(0008, 0060) Modality                            CS: 'CT'\n",
       "(0008, 0070) Manufacturer                        LO: 'GE MEDICAL SYSTEMS'\n",
       "(0008, 1090) Manufacturer's Model Name           LO: 'LightSpeed Pro 16'\n",
       "(0010, 0010) Patient's Name                      PN: 'ID00014637202177757139317'\n",
       "(0010, 0020) Patient ID                          LO: 'ID00014637202177757139317'\n",
       "(0010, 0040) Patient's Sex                       CS: ''\n",
       "(0012, 0063) De-identification Method            LO: 'Table;'\n",
       "(0018, 0015) Body Part Examined                  CS: 'Chest'\n",
       "(0018, 0050) Slice Thickness                     DS: \"1.25\"\n",
       "(0018, 0060) KVP                                 DS: \"120.0\"\n",
       "(0018, 1110) Distance Source to Detector         DS: \"949.075012\"\n",
       "(0018, 1111) Distance Source to Patient          DS: \"541.0\"\n",
       "(0018, 1120) Gantry/Detector Tilt                DS: \"0.0\"\n",
       "(0018, 1130) Table Height                        DS: \"181.5\"\n",
       "(0018, 1140) Rotation Direction                  CS: 'CW'\n",
       "(0018, 1151) X-Ray Tube Current                  IS: \"450\"\n",
       "(0018, 1170) Generator Power                     IS: \"78000\"\n",
       "(0018, 1190) Focal Spot(s)                       DS: \"1.2\"\n",
       "(0018, 1210) Convolution Kernel                  SH: 'LUNG'\n",
       "(0018, 5100) Patient Position                    CS: 'FFS'\n",
       "(0018, 9305) Revolution Time                     FD: 0.6000000238418579\n",
       "(0018, 9306) Single Collimation Width            FD: 1.25\n",
       "(0018, 9307) Total Collimation Width             FD: 20.0\n",
       "(0018, 9309) Table Speed                         FD: 45.83333151208037\n",
       "(0018, 9310) Table Feed per Rotation             FD: 27.5\n",
       "(0018, 9311) Spiral Pitch Factor                 FD: 1.375\n",
       "(0020, 000d) Study Instance UID                  UI: 2.25.109397359333875895518834666994552152222\n",
       "(0020, 000e) Series Instance UID                 UI: 2.25.74818136855268567960783881681788181698\n",
       "(0020, 0010) Study ID                            SH: ''\n",
       "(0020, 0013) Instance Number                     IS: \"31\"\n",
       "(0020, 0020) Patient Orientation                 CS: ''\n",
       "(0020, 0032) Image Position (Patient)            DS: [-207.100, -193.100, -242.750]\n",
       "(0020, 0037) Image Orientation (Patient)         DS: [1.000000, 0.000000, 0.000000, 0.000000, 1.000000, 0.000000]\n",
       "(0020, 0052) Frame of Reference UID              UI: 2.25.18361247647247627906768981101189581509\n",
       "(0020, 1040) Position Reference Indicator        LO: 'SN'\n",
       "(0020, 1041) Slice Location                      DS: \"-242.75\"\n",
       "(0028, 0002) Samples per Pixel                   US: 1\n",
       "(0028, 0004) Photometric Interpretation          CS: 'MONOCHROME2'\n",
       "(0028, 0010) Rows                                US: 843\n",
       "(0028, 0011) Columns                             US: 888\n",
       "(0028, 0030) Pixel Spacing                       DS: [0.798828, 0.798828]\n",
       "(0028, 0100) Bits Allocated                      US: 16\n",
       "(0028, 0101) Bits Stored                         US: 16\n",
       "(0028, 0102) High Bit                            US: 15\n",
       "(0028, 0103) Pixel Representation                US: 1\n",
       "(0028, 0120) Pixel Padding Value                 SS: -2000\n",
       "(0028, 1050) Window Center                       DS: \"-500.0\"\n",
       "(0028, 1051) Window Width                        DS: \"-1500.0\"\n",
       "(0028, 1052) Rescale Intercept                   DS: \"0.0\"\n",
       "(0028, 1053) Rescale Slope                       DS: \"1.0\"\n",
       "(0028, 1054) Rescale Type                        LO: 'HU'\n",
       "(7fe0, 0010) Pixel Data                          OW: Array of 1497168 elements"
      ]
     },
     "execution_count": 49,
     "metadata": {},
     "output_type": "execute_result"
    }
   ],
   "source": [
    "s\n",
    "#as we can see below, we have 843 rows and 888 columns"
   ]
  },
  {
   "cell_type": "code",
   "execution_count": 50,
   "metadata": {},
   "outputs": [
    {
     "data": {
      "text/plain": [
       "array([[0, 0, 0, ..., 0, 0, 0],\n",
       "       [0, 0, 0, ..., 0, 0, 0],\n",
       "       [0, 0, 0, ..., 0, 0, 0],\n",
       "       ...,\n",
       "       [0, 0, 0, ..., 0, 0, 0],\n",
       "       [0, 0, 0, ..., 0, 0, 0],\n",
       "       [0, 0, 0, ..., 0, 0, 0]], dtype=int16)"
      ]
     },
     "execution_count": 50,
     "metadata": {},
     "output_type": "execute_result"
    }
   ],
   "source": [
    "#a pixel array is really just an array of arrays or list of lists\n",
    "s.pixel_array"
   ]
  },
  {
   "cell_type": "code",
   "execution_count": 51,
   "metadata": {},
   "outputs": [
    {
     "name": "stdout",
     "output_type": "stream",
     "text": [
      "Len of Pixel Array: 843\n"
     ]
    }
   ],
   "source": [
    "#if we print the len of pixel array we notice it is the same as the numbers of rows\n",
    "print(f'Len of Pixel Array: {len(s.pixel_array)}')"
   ]
  },
  {
   "cell_type": "code",
   "execution_count": 52,
   "metadata": {},
   "outputs": [
    {
     "data": {
      "text/plain": [
       "888"
      ]
     },
     "execution_count": 52,
     "metadata": {},
     "output_type": "execute_result"
    }
   ],
   "source": [
    "#if we prent the len of the first element in the pixel array we notice it is the same as the number of columns\n",
    "len(s.pixel_array[0])"
   ]
  },
  {
   "cell_type": "code",
   "execution_count": 53,
   "metadata": {},
   "outputs": [],
   "source": [
    "#so the way we can interperate this is that each item in the pixel array represents a row, and each item in\n",
    "#the row repesents the intensity of the pixel each column for that row\n",
    "\n",
    "#Example assume we have a pixel array of 3x4 (3 rows by 4 columns), our array would look like this:\n",
    "array_of_arrays = [[0,1,3,9], [9,0,7,3], [4,7,2,0]]"
   ]
  },
  {
   "cell_type": "code",
   "execution_count": 54,
   "metadata": {},
   "outputs": [
    {
     "data": {
      "text/plain": [
       "3"
      ]
     },
     "execution_count": 54,
     "metadata": {},
     "output_type": "execute_result"
    }
   ],
   "source": [
    "#rows\n",
    "len(array_of_arrays)"
   ]
  },
  {
   "cell_type": "code",
   "execution_count": 55,
   "metadata": {},
   "outputs": [
    {
     "data": {
      "text/plain": [
       "4"
      ]
     },
     "execution_count": 55,
     "metadata": {},
     "output_type": "execute_result"
    }
   ],
   "source": [
    "#columns\n",
    "len(array_of_arrays[0])"
   ]
  },
  {
   "cell_type": "code",
   "execution_count": null,
   "metadata": {},
   "outputs": [],
   "source": [
    "#how this looks in a grid, imagine each number represents the greyscale intensisty, 0 being black and 9 being white\n",
    "0 1 3 9\n",
    "9 0 7 3\n",
    "4 7 2 0\n",
    "\n",
    "#our dicom images work similarly, but obviously have much more rows and columns"
   ]
  },
  {
   "cell_type": "code",
   "execution_count": 57,
   "metadata": {},
   "outputs": [
    {
     "name": "stderr",
     "output_type": "stream",
     "text": [
      "c:\\users\\tom\\appdata\\local\\programs\\python\\python36\\lib\\site-packages\\ipykernel_launcher.py:2: MatplotlibDeprecationWarning: Case-insensitive properties were deprecated in 3.3 and support will be removed two minor releases later\n",
      "  \n"
     ]
    },
    {
     "data": {
      "image/png": "[encoded data removed]",
      "text/plain": [
       "<Figure size 432x288 with 1 Axes>"
      ]
     },
     "metadata": {
      "needs_background": "light"
     },
     "output_type": "display_data"
    }
   ],
   "source": [
    "#wonder what happpens if I try to graph this\n",
    "plt.imshow(array_of_arrays, CMAP ='gray')\n",
    "plt.show()\n",
    "\n",
    "#crazy i actually just made up that 0 is black and white is 9 as an example, but i guess that's how it really works lol\n",
    "#hopefully this makes it more clear of how the pixel array works"
   ]
  },
  {
   "cell_type": "code",
   "execution_count": 110,
   "metadata": {},
   "outputs": [],
   "source": [
    "#moving on to step 2, again lets only work with one patient for now\n",
    "#I am using a libray called open-cv2 to resize 10/10 would recomend\n",
    "\n",
    "#pip install opencv-python   \n",
    "#-or-\n",
    "#conda install -c conda-forge opencv\n",
    "\n",
    "\n",
    "#the normalize to HU code I got from here:\n",
    "# https://www.kaggle.com/allunia/pulmonary-dicom-preprocessing\n",
    "\n",
    "# we need to do this becasue the range of our pixel intesities is not similar accross all patients, I think this is \n",
    "# because not all machines are the same and not all patients were scanned on the same machine.\n",
    "\n",
    "#normalizig to the HU range will fix all of this, it will also be useful if we later decide to attempt to remove scans\n",
    "#that are clearly not lungs\n",
    "\n",
    "\n",
    "\n",
    "#######################################################################################\n",
    "\n",
    "#code from https://www.kaggle.com/allunia/pulmonary-dicom-preprocessing\n",
    "\n",
    "def set_outside_scanner_to_air(raw_pixelarrays):\n",
    "    # in OSIC we find outside-scanner-regions with raw-values of -2000. \n",
    "    # Let's threshold between air (0) and this default (-2000) using -1000\n",
    "    raw_pixelarrays[raw_pixelarrays <= -1000] = 0\n",
    "    return raw_pixelarrays\n",
    "\n",
    "def transform_to_hu(slices):\n",
    "    images = np.stack([file.pixel_array for file in slices])\n",
    "    images = images.astype(np.int16)\n",
    "\n",
    "    images = set_outside_scanner_to_air(images)\n",
    "    \n",
    "    # convert to HU\n",
    "    for n in range(len(slices)):\n",
    "        \n",
    "        intercept = slices[n].RescaleIntercept\n",
    "        slope = slices[n].RescaleSlope\n",
    "        \n",
    "        if slope != 1:\n",
    "            images[n] = slope * images[n].astype(np.float64)\n",
    "            images[n] = images[n].astype(np.int16)\n",
    "            \n",
    "        images[n] += np.int16(intercept)\n",
    "    \n",
    "    return np.array(images, dtype=np.int16)\n",
    "\n",
    "#######################################################################################\n",
    "\n",
    "#change of plans transform to HU is now step\n",
    "\n",
    "much_data = []\n",
    "\n",
    "import cv2\n",
    "\n",
    "new_size = 512 #step 2\n",
    "\n",
    "path = data_dir + p \n",
    "slices = [pydicom.read_file(path + '/' + s) for s in os.listdir(path)] \n",
    "slices.sort(key = lambda x: float(x.ImagePositionPatient[2])) #step 1\n",
    "slices = transform_to_hu(slices)#step 3\n",
    "slices = [cv2.resize(np.array(each_slice), (new_size, new_size)) for each_slice in slices] #step 4\n",
    "label = int(df_train[df_train['Patient'] == p]['label'])#step 5 get the label value\n",
    "for each_slice in slices: \n",
    "    much_data.append([each_slice, label]) #step 5\n",
    "\n",
    "\n",
    "np.save('data.npy', much_data) #step 6\n",
    "\n",
    "#we can later load this data by doing the below\n",
    "\n",
    "#much_data = np.load('data.npy', allow_pickle = True)\n"
   ]
  },
  {
   "cell_type": "markdown",
   "metadata": {},
   "source": [
    "#### Below we will everything together and turn it into a little program"
   ]
  },
  {
   "cell_type": "code",
   "execution_count": 2,
   "metadata": {},
   "outputs": [],
   "source": [
    "import pandas as pd\n",
    "import pydicom\n",
    "import numpy as np\n",
    "import os\n",
    "import cv2\n",
    "from tqdm import tqdm\n",
    "\n",
    "\n",
    "NEW_SIZE = 512\n",
    "\n",
    "DATA_DIR = 'F:/OISC/osic-pulmonary-fibrosis-progression/train/'\n",
    "PATIENTS = os.listdir(DATA_DIR)\n",
    "\n",
    "df_train = pd.read_csv('F:/OISC/osic-pulmonary-fibrosis-progression/train.csv')\n",
    "\n",
    "\n",
    "\n",
    "#slope\n",
    "for patient in PATIENTS:\n",
    "    x = df_train[df_train[\"Patient\"]==patient][\"Weeks\"] \n",
    "    y = df_train[df_train[\"Patient\"]==patient][\"FVC\"]\n",
    "    slope = np.polyfit(x, y, 1)[0]\n",
    "    df_train.loc[df_train[\"Patient\"]==patient, 'Slope'] = slope\n",
    "del df_train['Weeks']\n",
    "del df_train['FVC']\n",
    "del df_train[\"Percent\"]\n",
    "df_train = df_train.drop_duplicates()\n",
    "df_train['label'] = 0\n",
    "df_train.loc[df_train['Slope'] < -3,'label'] = 1\n",
    "\n",
    "#######################################################################################\n",
    "\n",
    "#code from https://www.kaggle.com/allunia/pulmonary-dicom-preprocessing\n",
    "\n",
    "def set_outside_scanner_to_air(raw_pixelarrays):\n",
    "    # in OSIC we find outside-scanner-regions with raw-values of -2000. \n",
    "    # Let's threshold between air (0) and this default (-2000) using -1000\n",
    "    raw_pixelarrays[raw_pixelarrays <= -1000] = 0\n",
    "    return raw_pixelarrays\n",
    "\n",
    "def transform_to_hu(slices):\n",
    "    images = np.stack([file.pixel_array for file in slices])\n",
    "    images = images.astype(np.int16)\n",
    "\n",
    "    images = set_outside_scanner_to_air(images)\n",
    "    \n",
    "    # convert to HU\n",
    "    for n in range(len(slices)):\n",
    "        \n",
    "        intercept = slices[n].RescaleIntercept\n",
    "        slope = slices[n].RescaleSlope\n",
    "        \n",
    "        if slope != 1:\n",
    "            images[n] = slope * images[n].astype(np.float64)\n",
    "            images[n] = images[n].astype(np.int16)\n",
    "            \n",
    "        images[n] += np.int16(intercept)\n",
    "    \n",
    "    return np.array(images, dtype=np.int16)\n",
    "\n",
    "#######################################################################################\n",
    "\n",
    "#program\n",
    "def process_data(data_dir = DATA_DIR, patients = PATIENTS, new_size = NEW_SIZE):\n",
    "    much_data = []\n",
    "    errors = pd.DataFrame(columns = ['Patient', 'Error'])\n",
    "    \n",
    "    for p in tqdm(patients):\n",
    "        try:\n",
    "            path = data_dir + p \n",
    "            slices = [pydicom.read_file(path + '/' + s) for s in os.listdir(path)] \n",
    "            slices.sort(key = lambda x: float(x.ImagePositionPatient[2])) #step 1\n",
    "            slices = transform_to_hu(slices)#step 3\n",
    "            slices = [cv2.resize(np.array(each_slice), (new_size, new_size)) for each_slice in slices] #step 4\n",
    "            label = int(df_train[df_train['Patient'] == p]['label'])#step 5 get the label value\n",
    "            for each_slice in slices: \n",
    "                much_data.append([each_slice, label])\n",
    "        except Exception as e:\n",
    "            error_dict = {'Patient' : patient, 'Error': e}\n",
    "            errors = errors.append(error_dict, ignore_index = True)\n",
    "\n",
    "    np.save('data.npy', much_data)\n",
    "    errors.to_csv('error_log.csv')\n"
   ]
  },
  {
   "cell_type": "code",
   "execution_count": 3,
   "metadata": {},
   "outputs": [
    {
     "name": "stderr",
     "output_type": "stream",
     "text": [
      "100%|████████████████████████████████████████████████████████████████████████████████| 176/176 [05:31<00:00,  1.89s/it]\n"
     ]
    },
    {
     "name": "stdout",
     "output_type": "stream",
     "text": [
      "Wall time: 6min 12s\n"
     ]
    }
   ],
   "source": [
    "%%time\n",
    "#don't run this program with the default new_size of 512, if failed for me becasue I ran out of memory (I have 16gb of ram)\n",
    "#I decided to use half the size instead\n",
    "process_data(new_size= 256)\n",
    "#the size of data saved ended up being about 4gb"
   ]
  },
  {
   "cell_type": "markdown",
   "metadata": {},
   "source": [
    "#### Lets explore some options for how we can maintain our wanted size of 512 without running out of memory"
   ]
  },
  {
   "cell_type": "code",
   "execution_count": 4,
   "metadata": {},
   "outputs": [],
   "source": [
    "'''\n",
    "To do this, lets get a short lesson on computers and how they interact with nural netoworks\n",
    "Generally speaking the idea is to load your data into memory (RAM) and process it from there, this is preffered because\n",
    "memory is extremly fast compared to your hard drive, so it can transfer data to your processor very quickly.\n",
    "Memory is very expensive though, most computers you buy will probably will have between 8 gb and 16 gb.\n",
    "To avoid using memory, we can instead use \"Storage\" aka our hardrive, where we store our photos and documents.\n",
    "Our harddrives are not as fast as memory, but they offer us much more storage, mine for example has 500 gb of space\n",
    "below I will write a program that will rely more on the harddrive rather than the memory.\n",
    "'''"
   ]
  },
  {
   "cell_type": "code",
   "execution_count": 6,
   "metadata": {},
   "outputs": [],
   "source": [
    "#The idea here is to dump each slice into a directory, rather than saving it all as one list in one file\n",
    "import pandas as pd\n",
    "import pydicom\n",
    "import numpy as np\n",
    "import os\n",
    "import cv2\n",
    "from tqdm import tqdm\n",
    "\n",
    "\n",
    "NEW_SIZE = 512\n",
    "\n",
    "DATA_DIR = 'F:/OISC/osic-pulmonary-fibrosis-progression/train/'\n",
    "SAVE_DIR = 'C:/temp/processed_files/'\n",
    "PATIENTS = os.listdir(DATA_DIR)\n",
    "\n",
    "df_train = pd.read_csv('F:/OISC/osic-pulmonary-fibrosis-progression/train.csv')\n",
    "\n",
    "\n",
    "\n",
    "#slope\n",
    "for patient in PATIENTS:\n",
    "    x = df_train[df_train[\"Patient\"]==patient][\"Weeks\"] \n",
    "    y = df_train[df_train[\"Patient\"]==patient][\"FVC\"]\n",
    "    slope = np.polyfit(x, y, 1)[0]\n",
    "    df_train.loc[df_train[\"Patient\"]==patient, 'Slope'] = slope\n",
    "del df_train['Weeks']\n",
    "del df_train['FVC']\n",
    "del df_train[\"Percent\"]\n",
    "df_train = df_train.drop_duplicates()\n",
    "df_train['label'] = 0\n",
    "df_train.loc[df_train['Slope'] < -3,'label'] = 1\n",
    "\n",
    "#######################################################################################\n",
    "\n",
    "#code from https://www.kaggle.com/allunia/pulmonary-dicom-preprocessing\n",
    "\n",
    "def set_outside_scanner_to_air(raw_pixelarrays):\n",
    "    # in OSIC we find outside-scanner-regions with raw-values of -2000. \n",
    "    # Let's threshold between air (0) and this default (-2000) using -1000\n",
    "    raw_pixelarrays[raw_pixelarrays <= -1000] = 0\n",
    "    return raw_pixelarrays\n",
    "\n",
    "def transform_to_hu(slices):\n",
    "    images = np.stack([file.pixel_array for file in slices])\n",
    "    images = images.astype(np.int16)\n",
    "\n",
    "    images = set_outside_scanner_to_air(images)\n",
    "    \n",
    "    # convert to HU\n",
    "    for n in range(len(slices)):\n",
    "        \n",
    "        intercept = slices[n].RescaleIntercept\n",
    "        slope = slices[n].RescaleSlope\n",
    "        \n",
    "        if slope != 1:\n",
    "            images[n] = slope * images[n].astype(np.float64)\n",
    "            images[n] = images[n].astype(np.int16)\n",
    "            \n",
    "        images[n] += np.int16(intercept)\n",
    "    \n",
    "    return np.array(images, dtype=np.int16)\n",
    "\n",
    "#######################################################################################\n",
    "\n",
    "#program\n",
    "def process_data(data_dir = DATA_DIR, patients = PATIENTS, new_size = NEW_SIZE):\n",
    "\n",
    "    errors = pd.DataFrame(columns = ['Patient', 'Error'])\n",
    "    \n",
    "    for p in tqdm(patients):\n",
    "        try:\n",
    "            path = data_dir + p \n",
    "            slices = [pydicom.read_file(path + '/' + s) for s in os.listdir(path)] \n",
    "            slices.sort(key = lambda x: float(x.ImagePositionPatient[2])) #step 1\n",
    "            slices = transform_to_hu(slices)#step 3\n",
    "            slices = [cv2.resize(np.array(each_slice), (new_size, new_size)) for each_slice in slices] #step 4\n",
    "            label = int(df_train[df_train['Patient'] == p]['label'])#step 5 get the label value\n",
    "            for num, each_slice in enumerate(slices): #notice i am now enumerating the slices \n",
    "                np.save(f'{SAVE_DIR}{p}{num}.npy', [each_slice, label]) #notice my save directory, much_data is also gone \n",
    "        except Exception as e:\n",
    "            error_dict = {'Patient' : patient, 'Error': e}\n",
    "            errors = errors.append(error_dict, ignore_index = True)\n",
    "\n",
    "\n",
    "    errors.to_csv('error_log.csv')\n"
   ]
  },
  {
   "cell_type": "code",
   "execution_count": 7,
   "metadata": {},
   "outputs": [
    {
     "name": "stderr",
     "output_type": "stream",
     "text": [
      "100%|████████████████████████████████████████████████████████████████████████████████| 176/176 [07:16<00:00,  2.48s/it]"
     ]
    },
    {
     "name": "stdout",
     "output_type": "stream",
     "text": [
      "Wall time: 7min 16s\n"
     ]
    },
    {
     "name": "stderr",
     "output_type": "stream",
     "text": [
      "\n"
     ]
    }
   ],
   "source": [
    "%%time\n",
    "process_data()\n",
    "#not too bad, only took another minute, and the size is 512x512 rather than 256x256\n",
    "#The size of the folder with all of the data ended up being about 16 gb\n",
    "#lets see if we can speed it up with mutiprocessing\n",
    "#you won't be able to run the code below in jupyter notebook, you'll instead need to run the process.py file in this directory"
   ]
  },
  {
   "cell_type": "code",
   "execution_count": null,
   "metadata": {},
   "outputs": [],
   "source": [
    "#here is the code from the multiprocessing file, I count not run it in jupyter notebook\n",
    "\n",
    "# it took only 1 min 47 seconds to run, at scale this is a huge improvement\n",
    "\n",
    "import pandas as pd\n",
    "import pydicom\n",
    "import numpy as np\n",
    "import os\n",
    "import cv2\n",
    "from tqdm import tqdm\n",
    "import multiprocessing as mp\n",
    "\n",
    "cpu_count = mp.cpu_count() #gets the number of cores your machine has\n",
    "\n",
    "\n",
    "\n",
    "NEW_SIZE = 512\n",
    "\n",
    "DATA_DIR = 'F:/OISC/osic-pulmonary-fibrosis-progression/train/'\n",
    "SAVE_DIR = 'C:/temp/processed_files/'\n",
    "PATIENTS = os.listdir(DATA_DIR)\n",
    "\n",
    "df_train = pd.read_csv('F:/OISC/osic-pulmonary-fibrosis-progression/train.csv')\n",
    "\n",
    "p_amount = len(PATIENTS)\n",
    "\n",
    "errors = pd.DataFrame(columns = ['Patient', 'Error']) \n",
    "errors.to_csv('error_log.csv', index = False)\n",
    "\n",
    "#slope\n",
    "for patient in PATIENTS:\n",
    "    x = df_train[df_train[\"Patient\"]==patient][\"Weeks\"] \n",
    "    y = df_train[df_train[\"Patient\"]==patient][\"FVC\"]\n",
    "    slope = np.polyfit(x, y, 1)[0]\n",
    "    df_train.loc[df_train[\"Patient\"]==patient, 'Slope'] = slope\n",
    "del df_train['Weeks']\n",
    "del df_train['FVC']\n",
    "del df_train[\"Percent\"]\n",
    "df_train = df_train.drop_duplicates()\n",
    "df_train['label'] = 0\n",
    "df_train.loc[df_train['Slope'] < -3,'label'] = 1\n",
    "\n",
    "#######################################################################################\n",
    "\n",
    "#code from https://www.kaggle.com/allunia/pulmonary-dicom-preprocessing\n",
    "\n",
    "def set_outside_scanner_to_air(raw_pixelarrays):\n",
    "    # in OSIC we find outside-scanner-regions with raw-values of -2000. \n",
    "    # Let's threshold between air (0) and this default (-2000) using -1000\n",
    "    raw_pixelarrays[raw_pixelarrays <= -1000] = 0\n",
    "    return raw_pixelarrays\n",
    "\n",
    "def transform_to_hu(slices):\n",
    "    images = np.stack([file.pixel_array for file in slices])\n",
    "    images = images.astype(np.int16)\n",
    "\n",
    "    images = set_outside_scanner_to_air(images)\n",
    "    \n",
    "    # convert to HU\n",
    "    for n in range(len(slices)):\n",
    "        \n",
    "        intercept = slices[n].RescaleIntercept\n",
    "        slope = slices[n].RescaleSlope\n",
    "        \n",
    "        if slope != 1:\n",
    "            images[n] = slope * images[n].astype(np.float64)\n",
    "            images[n] = images[n].astype(np.int16)\n",
    "            \n",
    "        images[n] += np.int16(intercept)\n",
    "    \n",
    "    return np.array(images, dtype=np.int16)\n",
    "\n",
    "#######################################################################################\n",
    "\n",
    "\n",
    "\n",
    "\n",
    "def multi(p= patient, data_dir = DATA_DIR, patients = PATIENTS, new_size = NEW_SIZE):\n",
    "\n",
    "    \n",
    "    try:\n",
    "        path = data_dir + p \n",
    "        slices = [pydicom.read_file(path + '/' + s) for s in os.listdir(path)] \n",
    "        slices.sort(key = lambda x: float(x.ImagePositionPatient[2])) #step 1\n",
    "        slices = transform_to_hu(slices)#step 3\n",
    "        slices = [cv2.resize(np.array(each_slice), (new_size, new_size)) for each_slice in slices] #step 4\n",
    "        label = int(df_train[df_train['Patient'] == p]['label'])#step 5 get the label value\n",
    "        for num, each_slice in enumerate(slices): #notice i am now enumerating the slices \n",
    "            np.save(f'{SAVE_DIR}{p}{num}.npy', [each_slice, label]) #notice my save directory, much_data is also gone \n",
    "    except Exception as e:\n",
    "        error_dict = {'Patient' : patient, 'Error': e}\n",
    "        temp_error = pd.read_csv('error_log.csv') \n",
    "        temp_error = temp_error.append(error_dict, ignore_index = True)\n",
    "        temp_error.to_csv('error_log.csv', index = False)\n",
    "        \n",
    "        \n",
    "\n",
    "if __name__ == '__main__':    \n",
    "    pool = mp.Pool(cpu_count)\n",
    "    for _ in tqdm(pool.imap_unordered(multi, [patient for patient in PATIENTS]), total = len(PATIENTS)): #here we call the funtion and the list we want to pass\n",
    "        pass  \n",
    "    pool.close()\n",
    "\n"
   ]
  },
  {
   "cell_type": "code",
   "execution_count": 22,
   "metadata": {},
   "outputs": [],
   "source": [
    "#lets spot check a random file or two\n",
    "file1 = 'C:/temp/processed_files/ID0021063720225722869408667.npy'\n",
    "file2 = 'C:/temp/processed_files/ID00378637202298597306391207.npy'\n",
    "data1 = np.load(file1, allow_pickle = True)\n",
    "data2 = np.load(file2, allow_pickle = True)"
   ]
  },
  {
   "cell_type": "code",
   "execution_count": 23,
   "metadata": {},
   "outputs": [
    {
     "data": {
      "text/plain": [
       "array([[0, 0, 0, ..., 0, 0, 0],\n",
       "       [0, 0, 0, ..., 0, 0, 0],\n",
       "       [0, 0, 0, ..., 0, 0, 0],\n",
       "       ...,\n",
       "       [0, 0, 0, ..., 0, 0, 0],\n",
       "       [0, 0, 0, ..., 0, 0, 0],\n",
       "       [0, 0, 0, ..., 0, 0, 0]], dtype=int16)"
      ]
     },
     "execution_count": 23,
     "metadata": {},
     "output_type": "execute_result"
    }
   ],
   "source": [
    "data1[0] #our pixel array"
   ]
  },
  {
   "cell_type": "code",
   "execution_count": 24,
   "metadata": {},
   "outputs": [
    {
     "data": {
      "text/plain": [
       "0"
      ]
     },
     "execution_count": 24,
     "metadata": {},
     "output_type": "execute_result"
    }
   ],
   "source": [
    "data1[1] #our label"
   ]
  },
  {
   "cell_type": "code",
   "execution_count": 26,
   "metadata": {},
   "outputs": [],
   "source": [
    "pixel_array1 = data1[0]"
   ]
  },
  {
   "cell_type": "code",
   "execution_count": 27,
   "metadata": {},
   "outputs": [
    {
     "name": "stderr",
     "output_type": "stream",
     "text": [
      "c:\\users\\tom\\appdata\\local\\programs\\python\\python36\\lib\\site-packages\\ipykernel_launcher.py:1: MatplotlibDeprecationWarning: Case-insensitive properties were deprecated in 3.3 and support will be removed two minor releases later\n",
      "  \"\"\"Entry point for launching an IPython kernel.\n"
     ]
    },
    {
     "data": {
      "image/png": "[encoded data removed]",
      "text/plain": [
       "<Figure size 432x288 with 1 Axes>"
      ]
     },
     "metadata": {
      "needs_background": "light"
     },
     "output_type": "display_data"
    }
   ],
   "source": [
    "plt.imshow(pixel_array1, CMAP = 'bone')\n",
    "plt.show()"
   ]
  },
  {
   "cell_type": "code",
   "execution_count": 28,
   "metadata": {},
   "outputs": [
    {
     "name": "stderr",
     "output_type": "stream",
     "text": [
      "c:\\users\\tom\\appdata\\local\\programs\\python\\python36\\lib\\site-packages\\ipykernel_launcher.py:2: MatplotlibDeprecationWarning: Case-insensitive properties were deprecated in 3.3 and support will be removed two minor releases later\n",
      "  \n"
     ]
    },
    {
     "data": {
      "image/png": "[encoded data removed]",
      "text/plain": [
       "<Figure size 432x288 with 1 Axes>"
      ]
     },
     "metadata": {
      "needs_background": "light"
     },
     "output_type": "display_data"
    }
   ],
   "source": [
    "pixel_array2 = data2[0]\n",
    "plt.imshow(pixel_array2, CMAP = 'bone')\n",
    "plt.show()"
   ]
  },
  {
   "cell_type": "code",
   "execution_count": null,
   "metadata": {},
   "outputs": [],
   "source": [
    "#looks kinda darker but its in HU scale"
   ]
  },
  {
   "cell_type": "code",
   "execution_count": null,
   "metadata": {},
   "outputs": [],
   "source": []
  },
  {
   "cell_type": "markdown",
   "metadata": {},
   "source": [
    "#### You can ignore the below code for now, it is scratch work, it will be useful later when we want to remove slices with bones and we want to trim the images, for now I am going to attempt to create a rough example of how we can use this data to train a simple nural network, in another notebook"
   ]
  },
  {
   "cell_type": "code",
   "execution_count": 113,
   "metadata": {},
   "outputs": [
    {
     "name": "stderr",
     "output_type": "stream",
     "text": [
      "100%|████████████████████████████████████████████████████████████████████████████████████| 1/1 [00:00<00:00, 15.38it/s]\n"
     ]
    }
   ],
   "source": [
    "\n",
    "#resize to our min and crop 25%\n",
    "#https://www.pyimagesearch.com/2014/01/20/basic-image-manipulations-in-python-and-opencv-resizing-scaling-rotating-and-cropping/import cv2\n",
    "import cv2\n",
    "import numpy as np\n",
    "import matplotlib.pyplot as plt\n",
    "import pandas as pd\n",
    "\n",
    "crop = new_size*.20\n",
    "start_y, end_y = int(crop), int(new_size-crop) #see hyperlink above\n",
    "start_x, end_x = int(crop), int(new_size-crop)\n",
    "\n",
    "for patient in tqdm(patients[:1]):\n",
    "    path = data_dir + patient \n",
    "    slices = [pydicom.read_file(path + '/' + s) for s in os.listdir(path)] \n",
    "    slices.sort(key = lambda x: float(x.ImagePositionPatient[2]))\n",
    "    slices = [cv2.resize(np.array(each_slice.pixel_array), (new_size, new_size)) for each_slice in slices]\n",
    "    slices = [each_slice[start_y: end_y, start_x:end_x] for each_slice in slices] #see hyperlink above\n",
    "\n",
    "\n",
    "        \n",
    "    \n",
    "    #plt.imshow(slices[350], cmap = \"gray\")\n",
    "    #plt.show()\n"
   ]
  },
  {
   "cell_type": "code",
   "execution_count": 169,
   "metadata": {},
   "outputs": [],
   "source": [
    "import pandas as pd\n",
    "df_slice_info = pd.DataFrame(columns = ['slice_num','slice_average',])\n",
    "new_slice_array = []\n",
    "\n",
    "for slice_num, each_slice in enumerate(slices):\n",
    "    pixel_list = []\n",
    "    for pixel in each_slice:\n",
    "        pixel_sum = sum(pixel)\n",
    "        pixel_list.append(pixel_sum)\n",
    "\n",
    "    slice_average = sum(pixel_list)/(len(pixel_list))\n",
    "    df_dict = {'slice_num' : int(slice_num), 'slice_average': slice_average }\n",
    "    df_slice_info = df_slice_info.append(df_dict, ignore_index = True)\n",
    "    df_slice_info = df_slice_info.astype(int) #convert to integer\n",
    "    avg = df_slice_info.slice_average.mean()\n",
    "    new_slices = df_slice_info[df_slice_info['slice_average']< avg]\n",
    "    new_slice_list = new_slices.slice_num.tolist()\n",
    "    \n",
    "for good_slice in new_slice_list:\n",
    "    new_slice_array.append(slices[good_slice])"
   ]
  },
  {
   "cell_type": "code",
   "execution_count": 173,
   "metadata": {},
   "outputs": [
    {
     "name": "stdout",
     "output_type": "stream",
     "text": [
      "[13, 14, 15, 16, 17, 18, 19, 20, 21, 22, 23, 24, 25, 26, 27, 28, 29]\n"
     ]
    },
    {
     "data": {
      "text/plain": [
       "array([[ True,  True,  True, ...,  True,  True,  True],\n",
       "       [ True,  True,  True, ...,  True,  True,  True],\n",
       "       [ True,  True,  True, ...,  True,  True,  True],\n",
       "       ...,\n",
       "       [ True,  True,  True, ...,  True,  True,  True],\n",
       "       [ True,  True,  True, ...,  True,  True,  True],\n",
       "       [ True,  True,  True, ...,  True,  True,  True]])"
      ]
     },
     "execution_count": 173,
     "metadata": {},
     "output_type": "execute_result"
    }
   ],
   "source": [
    "#verify\n",
    "print(new_slice_list)\n",
    "new_slice_array[0] == slices[13]\n",
    "new_slice_array[-1] == slices[29]\n",
    "\n",
    "#it works"
   ]
  },
  {
   "cell_type": "code",
   "execution_count": 182,
   "metadata": {},
   "outputs": [
    {
     "name": "stdout",
     "output_type": "stream",
     "text": [
      "Patient: ID00007637202177411956430 Initial: 30 New: 17\n",
      "Patient: ID00009637202177434476278 Initial: 394 New: 215\n",
      "Patient: ID00010637202177584971671 Initial: 106 New: 65\n",
      "Patient: ID00012637202177665765362 Initial: 49 New: 23\n",
      "Patient: ID00014637202177757139317 Initial: 31 New: 21\n",
      "Patient: ID00015637202177877247924 Initial: 295 New: 175\n",
      "Patient: ID00019637202178323708467 Initial: 29 New: 18\n",
      "Patient: ID00020637202178344345685 Initial: 493 New: 257\n",
      "Patient: ID00023637202179104603099 Initial: 27 New: 11\n",
      "Patient: ID00025637202179541264076 Initial: 24 New: 14\n",
      "Patient: ID00027637202179689871102 Initial: 358 New: 226\n",
      "Patient: ID00030637202181211009029 Initial: 433 New: 260\n",
      "Patient: ID00032637202181710233084 Initial: 205 New: 115\n",
      "Patient: ID00035637202182204917484 Initial: 574 New: 355\n",
      "Patient: ID00038637202182690843176 Initial: 346 New: 204\n",
      "Patient: ID00042637202184406822975 Initial: 497 New: 295\n",
      "Patient: ID00047637202184938901501 Initial: 103 New: 55\n",
      "Patient: ID00048637202185016727717 Initial: 26 New: 12\n",
      "Patient: ID00051637202185848464638 Initial: 122 New: 60\n",
      "Patient: ID00060637202187965290703 Initial: 275 New: 144\n",
      "Patient: ID00061637202188184085559 Initial: 253 New: 133\n",
      "Patient: ID00062637202188654068490 Initial: 30 New: 18\n",
      "Patient: ID00067637202189903532242 Initial: 319 New: 176\n",
      "Patient: ID00068637202190879923934 Initial: 118 New: 61\n",
      "Patient: ID00072637202198161894406 Initial: 24 New: 13\n",
      "Patient: ID00073637202198167792918 Initial: 355 New: 193\n",
      "Patient: ID00075637202198610425520 Initial: 320 New: 213\n",
      "Patient: ID00076637202199015035026 Initial: 64 New: 37\n",
      "Patient: ID00077637202199102000916 Initial: 94 New: 51\n",
      "Patient: ID00078637202199415319443 Initial: 1018 New: 707\n",
      "Patient: ID00082637202201836229724 Initial: 266 New: 163\n",
      "Patient: ID00086637202203494931510 Initial: 30 New: 19\n",
      "Patient: ID00089637202204675567570 Initial: 36 New: 19\n",
      "Patient: ID00090637202204766623410 Initial: 70 New: 39\n",
      "Patient: ID00093637202205278167493 Initial: 37 New: 17\n",
      "Patient: ID00094637202205333947361 Initial: 24 New: 15\n",
      "Patient: ID00099637202206203080121 Initial: 25 New: 14\n",
      "Patient: ID00102637202206574119190 Initial: 233 New: 157\n",
      "Patient: ID00104637202208063407045 Initial: 498 New: 331\n",
      "Patient: ID00105637202208831864134 Initial: 53 New: 30\n",
      "Patient: ID00108637202209619669361 Initial: 512 New: 267\n",
      "Patient: ID00109637202210454292264 Initial: 300 New: 172\n",
      "Patient: ID00110637202210673668310 Initial: 211 New: 123\n",
      "Patient: ID00111637202210956877205 Initial: 302 New: 163\n",
      "Patient: ID00115637202211874187958 Initial: 24 New: 13\n",
      "Patient: ID00117637202212360228007 Initial: 30 New: 17\n",
      "Patient: ID00119637202215426335765 Initial: 71 New: 41\n",
      "Patient: ID00122637202216437668965 Initial: 71 New: 39\n",
      "Patient: ID00123637202217151272140 Initial: 258 New: 150\n",
      "Patient: ID00124637202217596410344 Initial: 398 New: 199\n",
      "Patient: ID00125637202218590429387 Initial: 22 New: 12\n",
      "Patient: ID00126637202218610655908 Initial: 17 New: 10\n",
      "Patient: ID00127637202219096738943 Initial: 50 New: 30\n",
      "Patient: ID00129637202219868188000 Initial: 27 New: 16\n",
      "Patient: ID00130637202220059448013 Initial: 57 New: 36\n",
      "Patient: ID00131637202220424084844 Initial: 210 New: 143\n",
      "Patient: ID00133637202223847701934 Initial: 52 New: 31\n",
      "Patient: ID00134637202223873059688 Initial: 451 New: 270\n",
      "Patient: ID00135637202224630271439 Initial: 337 New: 187\n",
      "Patient: ID00136637202224951350618 Initial: 404 New: 252\n",
      "Patient: ID00138637202231603868088 Initial: 304 New: 183\n",
      "Patient: ID00139637202231703564336 Initial: 64 New: 37\n",
      "Patient: ID00140637202231728595149 Initial: 271 New: 145\n",
      "Patient: ID00149637202232704462834 Initial: 245 New: 148\n",
      "Patient: ID00161637202235731948764 Initial: 28 New: 16\n",
      "Patient: ID00165637202237320314458 Initial: 12 New: 6\n",
      "Patient: ID00167637202237397919352 Initial: 221 New: 101\n",
      "Patient: ID00168637202237852027833 Initial: 253 New: 143\n",
      "Patient: ID00169637202238024117706 Initial: 115 New: 75\n",
      "Patient: ID00170637202238079193844 Initial: 178 New: 116\n",
      "Patient: ID00172637202238316925179 Initial: 31 New: 17\n",
      "Patient: ID00173637202238329754031 Initial: 602 New: 344\n",
      "Patient: ID00180637202240177410333 Initial: 577 New: 314\n",
      "Patient: ID00183637202241995351650 Initial: 56 New: 36\n",
      "Patient: ID00184637202242062969203 Initial: 62 New: 31\n",
      "Patient: ID00186637202242472088675 Initial: 408 New: 203\n",
      "Patient: ID00190637202244450116191 Initial: 361 New: 180\n",
      "Patient: ID00192637202245493238298 Initial: 245 New: 147\n",
      "Patient: ID00196637202246668775836 Initial: 121 New: 71\n",
      "Patient: ID00197637202246865691526 Initial: 102 New: 49\n",
      "Patient: ID00199637202248141386743 Initial: 87 New: 49\n",
      "Patient: ID00202637202249376026949 Initial: 825 New: 436\n",
      "Patient: ID00207637202252526380974 Initial: 64 New: 35\n",
      "Patient: ID00210637202257228694086 Initial: 303 New: 172\n",
      "Patient: ID00213637202257692916109 Initial: 268 New: 162\n",
      "Patient: ID00214637202257820847190 Initial: 18 New: 11\n",
      "Patient: ID00216637202257988213445 Initial: 21 New: 13\n",
      "Patient: ID00218637202258156844710 Initial: 64 New: 35\n",
      "Patient: ID00219637202258203123958 Initial: 375 New: 195\n",
      "Patient: ID00221637202258717315571 Initial: 465 New: 282\n",
      "Patient: ID00222637202259066229764 Initial: 58 New: 30\n",
      "Patient: ID00224637202259281193413 Initial: 54 New: 28\n",
      "Patient: ID00225637202259339837603 Initial: 207 New: 110\n",
      "Patient: ID00228637202259965313869 Initial: 347 New: 174\n",
      "Patient: ID00229637202260254240583 Initial: 17 New: 9\n",
      "Patient: ID00232637202260377586117 Initial: 67 New: 37\n",
      "Patient: ID00233637202260580149633 Initial: 405 New: 266\n",
      "Patient: ID00234637202261078001846 Initial: 38 New: 24\n",
      "Patient: ID00235637202261451839085 Initial: 296 New: 151\n",
      "Patient: ID00240637202264138860065 Initial: 33 New: 23\n",
      "Patient: ID00241637202264294508775 Initial: 253 New: 178\n",
      "Patient: ID00242637202264759739921 Initial: 18 New: 10\n",
      "Patient: ID00248637202266698862378 Initial: 16 New: 11\n",
      "Patient: ID00249637202266730854017 Initial: 319 New: 191\n",
      "Patient: ID00251637202267455595113 Initial: 28 New: 15\n",
      "Patient: ID00255637202267923028520 Initial: 30 New: 15\n",
      "Patient: ID00264637202270643353440 Initial: 61 New: 32\n",
      "Patient: ID00267637202270790561585 Initial: 63 New: 32\n",
      "Patient: ID00273637202271319294586 Initial: 74 New: 44\n",
      "Patient: ID00275637202271440119890 Initial: 284 New: 203\n",
      "Patient: ID00276637202271694539978 Initial: 25 New: 17\n",
      "Patient: ID00279637202272164826258 Initial: 30 New: 21\n",
      "Patient: ID00283637202278714365037 Initial: 306 New: 193\n",
      "Patient: ID00285637202278913507108 Initial: 31 New: 15\n",
      "Patient: ID00288637202279148973731 Initial: 26 New: 16\n",
      "Patient: ID00290637202279304677843 Initial: 240 New: 129\n",
      "Patient: ID00291637202279398396106 Initial: 485 New: 290\n",
      "Patient: ID00294637202279614924243 Initial: 35 New: 21\n",
      "Patient: ID00296637202279895784347 Initial: 31 New: 20\n",
      "Patient: ID00298637202280361773446 Initial: 33 New: 21\n",
      "Patient: ID00299637202280383305867 Initial: 62 New: 36\n",
      "Patient: ID00305637202281772703145 Initial: 61 New: 35\n",
      "Patient: ID00307637202282126172865 Initial: 29 New: 16\n",
      "Patient: ID00309637202282195513787 Initial: 469 New: 286\n",
      "Patient: ID00312637202282607344793 Initial: 409 New: 191\n",
      "Patient: ID00317637202283194142136 Initial: 521 New: 230\n",
      "Patient: ID00319637202283897208687 Initial: 38 New: 19\n",
      "Patient: ID00322637202284842245491 Initial: 106 New: 57\n",
      "Patient: ID00323637202285211956970 Initial: 258 New: 149\n",
      "Patient: ID00329637202285906759848 Initial: 260 New: 143\n",
      "Patient: ID00331637202286306023714 Initial: 74 New: 36\n",
      "Patient: ID00335637202286784464927 Initial: 30 New: 19\n",
      "Patient: ID00336637202286801879145 Initial: 33 New: 17\n",
      "Patient: ID00337637202286839091062 Initial: 64 New: 32\n",
      "Patient: ID00339637202287377736231 Initial: 56 New: 29\n",
      "Patient: ID00340637202287399835821 Initial: 30 New: 20\n",
      "Patient: ID00341637202287410878488 Initial: 60 New: 35\n",
      "Patient: ID00342637202287526592911 Initial: 27 New: 16\n",
      "Patient: ID00343637202287577133798 Initial: 39 New: 21\n",
      "Patient: ID00344637202287684217717 Initial: 201 New: 110\n",
      "Patient: ID00351637202289476567312 Initial: 29 New: 15\n",
      "Patient: ID00355637202295106567614 Initial: 37 New: 20\n",
      "Patient: ID00358637202295388077032 Initial: 312 New: 172\n",
      "Patient: ID00360637202295712204040 Initial: 291 New: 199\n",
      "Patient: ID00364637202296074419422 Initial: 33 New: 17\n",
      "Patient: ID00365637202296085035729 Initial: 66 New: 39\n",
      "Patient: ID00367637202296290303449 Initial: 266 New: 170\n"
     ]
    },
    {
     "name": "stdout",
     "output_type": "stream",
     "text": [
      "Patient: ID00368637202296470751086 Initial: 341 New: 227\n",
      "Patient: ID00370637202296737666151 Initial: 217 New: 132\n",
      "Patient: ID00371637202296828615743 Initial: 364 New: 180\n",
      "Patient: ID00376637202297677828573 Initial: 396 New: 212\n",
      "Patient: ID00378637202298597306391 Initial: 346 New: 178\n",
      "Patient: ID00381637202299644114027 Initial: 423 New: 234\n",
      "Patient: ID00383637202300493233675 Initial: 32 New: 17\n",
      "Patient: ID00388637202301028491611 Initial: 429 New: 267\n",
      "Patient: ID00392637202302319160044 Initial: 56 New: 36\n",
      "Patient: ID00393637202302431697467 Initial: 478 New: 280\n",
      "Patient: ID00398637202303897337979 Initial: 49 New: 30\n",
      "Patient: ID00400637202305055099402 Initial: 265 New: 139\n",
      "Patient: ID00401637202305320178010 Initial: 24 New: 14\n",
      "Patient: ID00405637202308359492977 Initial: 30 New: 19\n",
      "Patient: ID00407637202308788732304 Initial: 54 New: 27\n",
      "Patient: ID00408637202308839708961 Initial: 36 New: 23\n",
      "Patient: ID00411637202309374271828 Initial: 278 New: 148\n",
      "Patient: ID00414637202310318891556 Initial: 250 New: 156\n",
      "Patient: ID00417637202310901214011 Initial: 56 New: 32\n",
      "Patient: ID00419637202311204720264 Initial: 28 New: 18\n",
      "Patient: ID00421637202311550012437 Initial: 62 New: 34\n",
      "Patient: ID00422637202311677017371 Initial: 473 New: 246\n",
      "Patient: ID00423637202312137826377 Initial: 290 New: 160\n",
      "Patient: ID00426637202313170790466 Initial: 408 New: 213\n"
     ]
    },
    {
     "ename": "NameError",
     "evalue": "name 'error' is not defined",
     "output_type": "error",
     "traceback": [
      "\u001b[1;31m---------------------------------------------------------------------------\u001b[0m",
      "\u001b[1;31mNameError\u001b[0m                                 Traceback (most recent call last)",
      "\u001b[1;32m<ipython-input-182-15a945f9673b>\u001b[0m in \u001b[0;36m<module>\u001b[1;34m\u001b[0m\n\u001b[0;32m     56\u001b[0m \u001b[1;33m\u001b[0m\u001b[0m\n\u001b[0;32m     57\u001b[0m \u001b[0mnp\u001b[0m\u001b[1;33m.\u001b[0m\u001b[0msave\u001b[0m\u001b[1;33m(\u001b[0m\u001b[1;34m'data.npy'\u001b[0m\u001b[1;33m,\u001b[0m \u001b[0mmuch_data\u001b[0m\u001b[1;33m)\u001b[0m\u001b[1;33m\u001b[0m\u001b[1;33m\u001b[0m\u001b[0m\n\u001b[1;32m---> 58\u001b[1;33m \u001b[0merror\u001b[0m\u001b[1;33m.\u001b[0m\u001b[0mto_csv\u001b[0m\u001b[1;33m(\u001b[0m\u001b[1;34m'error_log.csv'\u001b[0m\u001b[1;33m)\u001b[0m\u001b[1;33m\u001b[0m\u001b[1;33m\u001b[0m\u001b[0m\n\u001b[0m\u001b[0;32m     59\u001b[0m \u001b[1;33m\u001b[0m\u001b[0m\n\u001b[0;32m     60\u001b[0m \u001b[1;33m\u001b[0m\u001b[0m\n",
      "\u001b[1;31mNameError\u001b[0m: name 'error' is not defined"
     ]
    }
   ],
   "source": [
    "#put it all together\n",
    "\n",
    "\n",
    "import cv2\n",
    "import numpy as np\n",
    "import matplotlib.pyplot as plt\n",
    "import pandas as pd\n",
    "\n",
    "much_data = []\n",
    "errors = pd.DataFrame(columns = ['Patient', 'Error'])\n",
    "\n",
    "\n",
    "crop = new_size*.20\n",
    "start_y, end_y = int(crop), int(new_size-crop)\n",
    "start_x, end_x = int(crop), int(new_size-crop)\n",
    "\n",
    "\n",
    "for patient in patients:\n",
    "    try:\n",
    "        \n",
    "        path = data_dir + patient \n",
    "        slices = [pydicom.read_file(path + '/' + s) for s in os.listdir(path)] \n",
    "        slices.sort(key = lambda x: float(x.ImagePositionPatient[2]))\n",
    "        slices = [cv2.resize(np.array(each_slice.pixel_array), (new_size, new_size)) for each_slice in slices]\n",
    "        slices = [each_slice[start_y: end_y, start_x:end_x] for each_slice in slices] #trim\n",
    "\n",
    "        df_slice_info = pd.DataFrame(columns = ['slice_num','slice_average',])\n",
    "        new_slice_array = []\n",
    "\n",
    "        for slice_num, each_slice in enumerate(slices):\n",
    "            pixel_list = []\n",
    "            for pixel in each_slice:\n",
    "                pixel_sum = sum(pixel)\n",
    "                pixel_list.append(pixel_sum)\n",
    "\n",
    "            slice_average = sum(pixel_list)/(len(pixel_list))\n",
    "            df_dict = {'slice_num' : int(slice_num), 'slice_average': slice_average }\n",
    "            df_slice_info = df_slice_info.append(df_dict, ignore_index = True)\n",
    "            df_slice_info = df_slice_info.astype(int) #convert to integer\n",
    "            avg = df_slice_info.slice_average.mean()\n",
    "            new_slices = df_slice_info[df_slice_info['slice_average']< avg]\n",
    "            new_slice_list = new_slices.slice_num.tolist()\n",
    "\n",
    "        for good_slice in new_slice_list:\n",
    "            new_slice_array.append(slices[good_slice])\n",
    "\n",
    "        much_data.append([patient, new_slice_array])\n",
    "\n",
    "        print(f'Patient: {patient} Initial: {len(slices)} New: {len(new_slice_array)}')\n",
    "    except Exception as e:\n",
    "        error_dict = {'Patient' : patient, 'Error': e}\n",
    "        errors = errors.append(error_dict, ignore_index = True)\n",
    "        \n",
    "\n",
    "\n",
    "    \n",
    "np.save('data.npy', much_data)\n",
    "errors.to_csv('error_log.csv')\n",
    "\n",
    "    \n"
   ]
  },
  {
   "cell_type": "code",
   "execution_count": 183,
   "metadata": {},
   "outputs": [],
   "source": []
  },
  {
   "cell_type": "code",
   "execution_count": null,
   "metadata": {},
   "outputs": [],
   "source": []
  }
 ],
 "metadata": {
  "kernelspec": {
   "display_name": "Python 3",
   "language": "python",
   "name": "python3"
  },
  "language_info": {
   "codemirror_mode": {
    "name": "ipython",
    "version": 3
   },
   "file_extension": ".py",
   "mimetype": "text/x-python",
   "name": "python",
   "nbconvert_exporter": "python",
   "pygments_lexer": "ipython3",
   "version": "3.6.8"
  }
 },
 "nbformat": 4,
 "nbformat_minor": 4
}
